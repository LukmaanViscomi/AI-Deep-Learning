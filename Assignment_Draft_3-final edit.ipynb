{
  "nbformat": 4,
  "nbformat_minor": 0,
  "metadata": {
    "colab": {
      "provenance": [],
      "gpuType": "T4",
      "include_colab_link": true
    },
    "kernelspec": {
      "name": "python3",
      "display_name": "Python 3"
    },
    "language_info": {
      "name": "python"
    },
    "accelerator": "GPU"
  },
  "cells": [
    {
      "cell_type": "markdown",
      "metadata": {
        "id": "view-in-github",
        "colab_type": "text"
      },
      "source": [
        "<a href=\"https://colab.research.google.com/github/LukmaanViscomi/AI-Deep-Learning/blob/main/Assignment_Draft_3-final%20edit.ipynb\" target=\"_parent\"><img src=\"https://colab.research.google.com/assets/colab-badge.svg\" alt=\"Open In Colab\"/></a>"
      ]
    },
    {
      "cell_type": "markdown",
      "source": [
        "### TASK A. CLASSIFICATION PROBLEM"
      ],
      "metadata": {
        "id": "SxM6CjEAFnm_"
      }
    },
    {
      "cell_type": "markdown",
      "source": [
        "###Google Drive import\n",
        "Used to access Datasets and hyperparameter Tuning results.\n",
        "\n",
        "(Note: Due to long wait time on Google Colab and sudden interruption, we captured the Hyperparameter tuning results and exported them to the Google Drive. Testing on further section of the project could then be performed without excessive wait times incurred during the hyperparameter testing phase as the trail file structure and results were captured in the saved directory)\n"
      ],
      "metadata": {
        "id": "SU8i-PoYVNwo"
      }
    },
    {
      "cell_type": "code",
      "source": [
        "from google.colab import drive\n",
        "drive.mount('/content/drive')"
      ],
      "metadata": {
        "colab": {
          "base_uri": "https://localhost:8080/"
        },
        "id": "9Pu1V0ZSn3iW",
        "outputId": "e67ff70b-0c8c-456e-b822-24a02179a375"
      },
      "execution_count": 1,
      "outputs": [
        {
          "output_type": "stream",
          "name": "stdout",
          "text": [
            "Mounted at /content/drive\n"
          ]
        }
      ]
    },
    {
      "cell_type": "markdown",
      "source": [
        "### Task Requirments:\n",
        "\n",
        "1. Load and preprocess the dataset for the classification problem (handle missing data, convert categorical features to numerical features).\n",
        "\n",
        "2. Build a classifier for the classification problem using one of the specified models (logistic regression, decision trees, random forests, or artificial neural networks).\n",
        "\n",
        "3. Fine-tune the selected model using appropriate techniques (eg, hyperparameter tuning, cross-validation, etc).\n",
        "\n",
        "4. Visualise the dataset and / or the model's results, where applicable (eg, feature importance, confusion matrix, etc).\n",
        "\n",
        "5. Report the final performance of the selected model using appropriate performance metrics (eg, accuracy, F1-score, etc)."
      ],
      "metadata": {
        "id": "mAapdhesFwiL"
      }
    },
    {
      "cell_type": "markdown",
      "source": [
        "### Collaboration Summary:\n",
        "\n",
        "*  Candatate A = Student ID 202421093\n",
        "*  Candidate B = Student ID 000000000\n",
        "\n",
        "All Code and Markdown Descriptions have been researched and written by Candiate A. Candidate B contributed significantly to the evaluation phase, helping to interpret results, tune hyperparameters, and ensure that the final models were performing optimally"
      ],
      "metadata": {
        "id": "1E6CDk7STq3s"
      }
    },
    {
      "cell_type": "markdown",
      "source": [
        "###Response to Task Requirements 1 to 5"
      ],
      "metadata": {
        "id": "b22BqdNR-kkT"
      }
    },
    {
      "cell_type": "markdown",
      "source": [
        "###Import Libraries:\n",
        "\n",
        "Description: This task imports the necessary Python libraries for data processing, machine learning, and visualization. Each library plays a critical role:\n",
        "\n",
        "*   pandas and numpy for data handling.\n",
        "*   sklearn for machine learning algorithms and metrics.\n",
        "*   matplotlib and seaborn for visualizations.\n",
        "*   SimpleImputer and LabelEncoder for handling missing data and categorical variables.\n",
        "\n",
        "(The models were buid in Google Colab whick has an extensive pre-installed set of ML libraries. The import statement assume that the appropirate packages are installed)\n",
        "\n",
        "*  Note: During the project for the purposes of colaboration and symetry in training environments, we build out a customised Anaconda Environment to mimic the google colab system state for development and training purposes (Due to resource constraints on Google Colab Cloud).\n",
        "\n",
        "https://github.com/LukmaanViscomi/AI-Deep-Learning/blob/main/Build_Customised_Anaconda_Environment_For_Machine_Learning.ipynb\n",
        "\n",
        "\n",
        "\n"
      ],
      "metadata": {
        "id": "KOtT_Pp4GNfj"
      }
    },
    {
      "cell_type": "code",
      "source": [
        "import pandas as pd\n",
        "import numpy as np\n",
        "from sklearn.model_selection import train_test_split, GridSearchCV\n",
        "from sklearn.preprocessing import LabelEncoder, StandardScaler\n",
        "from sklearn.impute import SimpleImputer\n",
        "from sklearn.ensemble import RandomForestClassifier\n",
        "from sklearn.metrics import confusion_matrix, classification_report\n",
        "import matplotlib.pyplot as plt\n",
        "import seaborn as sns\n"
      ],
      "metadata": {
        "id": "YlA_A9HfGGS8"
      },
      "execution_count": 5,
      "outputs": []
    },
    {
      "cell_type": "markdown",
      "source": [
        "###Load Dataset:\n",
        "Description: This task loads the dataset into a pandas DataFrame from a CSV file. The dataset is the starting point for the entire machine learning pipeline, containing the features and target variable that will be used to train and test the model."
      ],
      "metadata": {
        "id": "Q-f5kNr8GP8g"
      }
    },
    {
      "cell_type": "code",
      "source": [
        "# Load the dataset\n",
        "data = pd.read_csv('/content/drive/MyDrive/classification_data.csv')\n"
      ],
      "metadata": {
        "id": "dANOL3PXGHrm"
      },
      "execution_count": 6,
      "outputs": []
    },
    {
      "cell_type": "code",
      "source": [
        "# Display the first few rows of the dataset\n",
        "data.head()\n"
      ],
      "metadata": {
        "id": "y-fBw9u7S-B6",
        "outputId": "9d7d0127-5d22-420c-c828-c44eb19c10ce",
        "colab": {
          "base_uri": "https://localhost:8080/",
          "height": 206
        }
      },
      "execution_count": 7,
      "outputs": [
        {
          "output_type": "execute_result",
          "data": {
            "text/plain": [
              "   target    var1     var2          var3   var4    var5 var6              var7\n",
              "0       0  509.18  417.681    Micronesia  138.0  393.00   no  20/07/2019 13:21\n",
              "1       0  446.06  666.182      Dominica   81.0  352.05  yes  04/04/2019 21:30\n",
              "2       1  235.50  398.097   Isle of Man   90.0  339.00   no  03/03/2019 02:59\n",
              "3       0  306.02  518.163  Turkmenistan  102.0  439.25  yes  19/03/2019 08:00\n",
              "4       0  453.08  600.156      Cameroon  105.0  422.95   no  18/03/2019 13:22"
            ],
            "text/html": [
              "\n",
              "  <div id=\"df-634dee33-72a6-439e-8647-3abac11e80d0\" class=\"colab-df-container\">\n",
              "    <div>\n",
              "<style scoped>\n",
              "    .dataframe tbody tr th:only-of-type {\n",
              "        vertical-align: middle;\n",
              "    }\n",
              "\n",
              "    .dataframe tbody tr th {\n",
              "        vertical-align: top;\n",
              "    }\n",
              "\n",
              "    .dataframe thead th {\n",
              "        text-align: right;\n",
              "    }\n",
              "</style>\n",
              "<table border=\"1\" class=\"dataframe\">\n",
              "  <thead>\n",
              "    <tr style=\"text-align: right;\">\n",
              "      <th></th>\n",
              "      <th>target</th>\n",
              "      <th>var1</th>\n",
              "      <th>var2</th>\n",
              "      <th>var3</th>\n",
              "      <th>var4</th>\n",
              "      <th>var5</th>\n",
              "      <th>var6</th>\n",
              "      <th>var7</th>\n",
              "    </tr>\n",
              "  </thead>\n",
              "  <tbody>\n",
              "    <tr>\n",
              "      <th>0</th>\n",
              "      <td>0</td>\n",
              "      <td>509.18</td>\n",
              "      <td>417.681</td>\n",
              "      <td>Micronesia</td>\n",
              "      <td>138.0</td>\n",
              "      <td>393.00</td>\n",
              "      <td>no</td>\n",
              "      <td>20/07/2019 13:21</td>\n",
              "    </tr>\n",
              "    <tr>\n",
              "      <th>1</th>\n",
              "      <td>0</td>\n",
              "      <td>446.06</td>\n",
              "      <td>666.182</td>\n",
              "      <td>Dominica</td>\n",
              "      <td>81.0</td>\n",
              "      <td>352.05</td>\n",
              "      <td>yes</td>\n",
              "      <td>04/04/2019 21:30</td>\n",
              "    </tr>\n",
              "    <tr>\n",
              "      <th>2</th>\n",
              "      <td>1</td>\n",
              "      <td>235.50</td>\n",
              "      <td>398.097</td>\n",
              "      <td>Isle of Man</td>\n",
              "      <td>90.0</td>\n",
              "      <td>339.00</td>\n",
              "      <td>no</td>\n",
              "      <td>03/03/2019 02:59</td>\n",
              "    </tr>\n",
              "    <tr>\n",
              "      <th>3</th>\n",
              "      <td>0</td>\n",
              "      <td>306.02</td>\n",
              "      <td>518.163</td>\n",
              "      <td>Turkmenistan</td>\n",
              "      <td>102.0</td>\n",
              "      <td>439.25</td>\n",
              "      <td>yes</td>\n",
              "      <td>19/03/2019 08:00</td>\n",
              "    </tr>\n",
              "    <tr>\n",
              "      <th>4</th>\n",
              "      <td>0</td>\n",
              "      <td>453.08</td>\n",
              "      <td>600.156</td>\n",
              "      <td>Cameroon</td>\n",
              "      <td>105.0</td>\n",
              "      <td>422.95</td>\n",
              "      <td>no</td>\n",
              "      <td>18/03/2019 13:22</td>\n",
              "    </tr>\n",
              "  </tbody>\n",
              "</table>\n",
              "</div>\n",
              "    <div class=\"colab-df-buttons\">\n",
              "\n",
              "  <div class=\"colab-df-container\">\n",
              "    <button class=\"colab-df-convert\" onclick=\"convertToInteractive('df-634dee33-72a6-439e-8647-3abac11e80d0')\"\n",
              "            title=\"Convert this dataframe to an interactive table.\"\n",
              "            style=\"display:none;\">\n",
              "\n",
              "  <svg xmlns=\"http://www.w3.org/2000/svg\" height=\"24px\" viewBox=\"0 -960 960 960\">\n",
              "    <path d=\"M120-120v-720h720v720H120Zm60-500h600v-160H180v160Zm220 220h160v-160H400v160Zm0 220h160v-160H400v160ZM180-400h160v-160H180v160Zm440 0h160v-160H620v160ZM180-180h160v-160H180v160Zm440 0h160v-160H620v160Z\"/>\n",
              "  </svg>\n",
              "    </button>\n",
              "\n",
              "  <style>\n",
              "    .colab-df-container {\n",
              "      display:flex;\n",
              "      gap: 12px;\n",
              "    }\n",
              "\n",
              "    .colab-df-convert {\n",
              "      background-color: #E8F0FE;\n",
              "      border: none;\n",
              "      border-radius: 50%;\n",
              "      cursor: pointer;\n",
              "      display: none;\n",
              "      fill: #1967D2;\n",
              "      height: 32px;\n",
              "      padding: 0 0 0 0;\n",
              "      width: 32px;\n",
              "    }\n",
              "\n",
              "    .colab-df-convert:hover {\n",
              "      background-color: #E2EBFA;\n",
              "      box-shadow: 0px 1px 2px rgba(60, 64, 67, 0.3), 0px 1px 3px 1px rgba(60, 64, 67, 0.15);\n",
              "      fill: #174EA6;\n",
              "    }\n",
              "\n",
              "    .colab-df-buttons div {\n",
              "      margin-bottom: 4px;\n",
              "    }\n",
              "\n",
              "    [theme=dark] .colab-df-convert {\n",
              "      background-color: #3B4455;\n",
              "      fill: #D2E3FC;\n",
              "    }\n",
              "\n",
              "    [theme=dark] .colab-df-convert:hover {\n",
              "      background-color: #434B5C;\n",
              "      box-shadow: 0px 1px 3px 1px rgba(0, 0, 0, 0.15);\n",
              "      filter: drop-shadow(0px 1px 2px rgba(0, 0, 0, 0.3));\n",
              "      fill: #FFFFFF;\n",
              "    }\n",
              "  </style>\n",
              "\n",
              "    <script>\n",
              "      const buttonEl =\n",
              "        document.querySelector('#df-634dee33-72a6-439e-8647-3abac11e80d0 button.colab-df-convert');\n",
              "      buttonEl.style.display =\n",
              "        google.colab.kernel.accessAllowed ? 'block' : 'none';\n",
              "\n",
              "      async function convertToInteractive(key) {\n",
              "        const element = document.querySelector('#df-634dee33-72a6-439e-8647-3abac11e80d0');\n",
              "        const dataTable =\n",
              "          await google.colab.kernel.invokeFunction('convertToInteractive',\n",
              "                                                    [key], {});\n",
              "        if (!dataTable) return;\n",
              "\n",
              "        const docLinkHtml = 'Like what you see? Visit the ' +\n",
              "          '<a target=\"_blank\" href=https://colab.research.google.com/notebooks/data_table.ipynb>data table notebook</a>'\n",
              "          + ' to learn more about interactive tables.';\n",
              "        element.innerHTML = '';\n",
              "        dataTable['output_type'] = 'display_data';\n",
              "        await google.colab.output.renderOutput(dataTable, element);\n",
              "        const docLink = document.createElement('div');\n",
              "        docLink.innerHTML = docLinkHtml;\n",
              "        element.appendChild(docLink);\n",
              "      }\n",
              "    </script>\n",
              "  </div>\n",
              "\n",
              "\n",
              "<div id=\"df-09ba8cae-cf0b-4cfc-9bc5-17973ee9d4eb\">\n",
              "  <button class=\"colab-df-quickchart\" onclick=\"quickchart('df-09ba8cae-cf0b-4cfc-9bc5-17973ee9d4eb')\"\n",
              "            title=\"Suggest charts\"\n",
              "            style=\"display:none;\">\n",
              "\n",
              "<svg xmlns=\"http://www.w3.org/2000/svg\" height=\"24px\"viewBox=\"0 0 24 24\"\n",
              "     width=\"24px\">\n",
              "    <g>\n",
              "        <path d=\"M19 3H5c-1.1 0-2 .9-2 2v14c0 1.1.9 2 2 2h14c1.1 0 2-.9 2-2V5c0-1.1-.9-2-2-2zM9 17H7v-7h2v7zm4 0h-2V7h2v10zm4 0h-2v-4h2v4z\"/>\n",
              "    </g>\n",
              "</svg>\n",
              "  </button>\n",
              "\n",
              "<style>\n",
              "  .colab-df-quickchart {\n",
              "      --bg-color: #E8F0FE;\n",
              "      --fill-color: #1967D2;\n",
              "      --hover-bg-color: #E2EBFA;\n",
              "      --hover-fill-color: #174EA6;\n",
              "      --disabled-fill-color: #AAA;\n",
              "      --disabled-bg-color: #DDD;\n",
              "  }\n",
              "\n",
              "  [theme=dark] .colab-df-quickchart {\n",
              "      --bg-color: #3B4455;\n",
              "      --fill-color: #D2E3FC;\n",
              "      --hover-bg-color: #434B5C;\n",
              "      --hover-fill-color: #FFFFFF;\n",
              "      --disabled-bg-color: #3B4455;\n",
              "      --disabled-fill-color: #666;\n",
              "  }\n",
              "\n",
              "  .colab-df-quickchart {\n",
              "    background-color: var(--bg-color);\n",
              "    border: none;\n",
              "    border-radius: 50%;\n",
              "    cursor: pointer;\n",
              "    display: none;\n",
              "    fill: var(--fill-color);\n",
              "    height: 32px;\n",
              "    padding: 0;\n",
              "    width: 32px;\n",
              "  }\n",
              "\n",
              "  .colab-df-quickchart:hover {\n",
              "    background-color: var(--hover-bg-color);\n",
              "    box-shadow: 0 1px 2px rgba(60, 64, 67, 0.3), 0 1px 3px 1px rgba(60, 64, 67, 0.15);\n",
              "    fill: var(--button-hover-fill-color);\n",
              "  }\n",
              "\n",
              "  .colab-df-quickchart-complete:disabled,\n",
              "  .colab-df-quickchart-complete:disabled:hover {\n",
              "    background-color: var(--disabled-bg-color);\n",
              "    fill: var(--disabled-fill-color);\n",
              "    box-shadow: none;\n",
              "  }\n",
              "\n",
              "  .colab-df-spinner {\n",
              "    border: 2px solid var(--fill-color);\n",
              "    border-color: transparent;\n",
              "    border-bottom-color: var(--fill-color);\n",
              "    animation:\n",
              "      spin 1s steps(1) infinite;\n",
              "  }\n",
              "\n",
              "  @keyframes spin {\n",
              "    0% {\n",
              "      border-color: transparent;\n",
              "      border-bottom-color: var(--fill-color);\n",
              "      border-left-color: var(--fill-color);\n",
              "    }\n",
              "    20% {\n",
              "      border-color: transparent;\n",
              "      border-left-color: var(--fill-color);\n",
              "      border-top-color: var(--fill-color);\n",
              "    }\n",
              "    30% {\n",
              "      border-color: transparent;\n",
              "      border-left-color: var(--fill-color);\n",
              "      border-top-color: var(--fill-color);\n",
              "      border-right-color: var(--fill-color);\n",
              "    }\n",
              "    40% {\n",
              "      border-color: transparent;\n",
              "      border-right-color: var(--fill-color);\n",
              "      border-top-color: var(--fill-color);\n",
              "    }\n",
              "    60% {\n",
              "      border-color: transparent;\n",
              "      border-right-color: var(--fill-color);\n",
              "    }\n",
              "    80% {\n",
              "      border-color: transparent;\n",
              "      border-right-color: var(--fill-color);\n",
              "      border-bottom-color: var(--fill-color);\n",
              "    }\n",
              "    90% {\n",
              "      border-color: transparent;\n",
              "      border-bottom-color: var(--fill-color);\n",
              "    }\n",
              "  }\n",
              "</style>\n",
              "\n",
              "  <script>\n",
              "    async function quickchart(key) {\n",
              "      const quickchartButtonEl =\n",
              "        document.querySelector('#' + key + ' button');\n",
              "      quickchartButtonEl.disabled = true;  // To prevent multiple clicks.\n",
              "      quickchartButtonEl.classList.add('colab-df-spinner');\n",
              "      try {\n",
              "        const charts = await google.colab.kernel.invokeFunction(\n",
              "            'suggestCharts', [key], {});\n",
              "      } catch (error) {\n",
              "        console.error('Error during call to suggestCharts:', error);\n",
              "      }\n",
              "      quickchartButtonEl.classList.remove('colab-df-spinner');\n",
              "      quickchartButtonEl.classList.add('colab-df-quickchart-complete');\n",
              "    }\n",
              "    (() => {\n",
              "      let quickchartButtonEl =\n",
              "        document.querySelector('#df-09ba8cae-cf0b-4cfc-9bc5-17973ee9d4eb button');\n",
              "      quickchartButtonEl.style.display =\n",
              "        google.colab.kernel.accessAllowed ? 'block' : 'none';\n",
              "    })();\n",
              "  </script>\n",
              "</div>\n",
              "\n",
              "    </div>\n",
              "  </div>\n"
            ],
            "application/vnd.google.colaboratory.intrinsic+json": {
              "type": "dataframe",
              "variable_name": "data",
              "summary": "{\n  \"name\": \"data\",\n  \"rows\": 925,\n  \"fields\": [\n    {\n      \"column\": \"target\",\n      \"properties\": {\n        \"dtype\": \"number\",\n        \"std\": 0,\n        \"min\": 0,\n        \"max\": 1,\n        \"num_unique_values\": 2,\n        \"samples\": [\n          1,\n          0\n        ],\n        \"semantic_type\": \"\",\n        \"description\": \"\"\n      }\n    },\n    {\n      \"column\": \"var1\",\n      \"properties\": {\n        \"dtype\": \"number\",\n        \"std\": 87.86666243702534,\n        \"min\": 209.56,\n        \"max\": 539.92,\n        \"num_unique_values\": 898,\n        \"samples\": [\n          443.06,\n          391.78\n        ],\n        \"semantic_type\": \"\",\n        \"description\": \"\"\n      }\n    },\n    {\n      \"column\": \"var2\",\n      \"properties\": {\n        \"dtype\": \"number\",\n        \"std\": 135.2214599575819,\n        \"min\": 139.965,\n        \"max\": 794.848,\n        \"num_unique_values\": 925,\n        \"samples\": [\n          597.976,\n          542.518\n        ],\n        \"semantic_type\": \"\",\n        \"description\": \"\"\n      }\n    },\n    {\n      \"column\": \"var3\",\n      \"properties\": {\n        \"dtype\": \"category\",\n        \"num_unique_values\": 236,\n        \"samples\": [\n          \"Fiji\",\n          \"Sudan\"\n        ],\n        \"semantic_type\": \"\",\n        \"description\": \"\"\n      }\n    },\n    {\n      \"column\": \"var4\",\n      \"properties\": {\n        \"dtype\": \"number\",\n        \"std\": 26.325743794331554,\n        \"min\": 57.0,\n        \"max\": 180.0,\n        \"num_unique_values\": 41,\n        \"samples\": [\n          174.0,\n          132.0\n        ],\n        \"semantic_type\": \"\",\n        \"description\": \"\"\n      }\n    },\n    {\n      \"column\": \"var5\",\n      \"properties\": {\n        \"dtype\": \"number\",\n        \"std\": 78.86277852501385,\n        \"min\": 163.0,\n        \"max\": 457.15,\n        \"num_unique_values\": 835,\n        \"samples\": [\n          330.15,\n          415.35\n        ],\n        \"semantic_type\": \"\",\n        \"description\": \"\"\n      }\n    },\n    {\n      \"column\": \"var6\",\n      \"properties\": {\n        \"dtype\": \"category\",\n        \"num_unique_values\": 2,\n        \"samples\": [\n          \"yes\",\n          \"no\"\n        ],\n        \"semantic_type\": \"\",\n        \"description\": \"\"\n      }\n    },\n    {\n      \"column\": \"var7\",\n      \"properties\": {\n        \"dtype\": \"string\",\n        \"num_unique_values\": 923,\n        \"samples\": [\n          \"03/05/2019 16:02\",\n          \"17/01/2019 15:10\"\n        ],\n        \"semantic_type\": \"\",\n        \"description\": \"\"\n      }\n    }\n  ]\n}"
            }
          },
          "metadata": {},
          "execution_count": 7
        }
      ]
    },
    {
      "cell_type": "markdown",
      "source": [
        "###Separate Columns:\n",
        "\n",
        "Description: This task identifies and separates the dataset's columns into numerical and categorical columns based on their data types. This is important because different types of data (numerical vs. categorical) require different preprocessing techniques before feeding into the model.\n",
        "\n"
      ],
      "metadata": {
        "id": "MjMelxLCGQ4y"
      }
    },
    {
      "cell_type": "code",
      "source": [
        "# Separate numerical and categorical columns\n",
        "numerical_cols = data.select_dtypes(include=['float64', 'int64']).columns\n",
        "categorical_cols = data.select_dtypes(include=['object']).columns\n"
      ],
      "metadata": {
        "id": "0cIbWejxGJYV"
      },
      "execution_count": 8,
      "outputs": []
    },
    {
      "cell_type": "markdown",
      "source": [
        "###Impute Missing Numerical Data:\n",
        "Description: This task handles missing values in the numerical columns by using the SimpleImputer to replace missing values with the mean of each column. Imputing missing data is essential to prevent issues in model training, as most machine learning algorithms cannot handle missing values."
      ],
      "metadata": {
        "id": "AebiWOq7GShw"
      }
    },
    {
      "cell_type": "code",
      "source": [
        "# Handle missing data for numerical columns\n",
        "imputer_num = SimpleImputer(strategy='mean')\n",
        "data[numerical_cols] = imputer_num.fit_transform(data[numerical_cols])\n"
      ],
      "metadata": {
        "id": "IMpsfN0IGT_Q"
      },
      "execution_count": 9,
      "outputs": []
    },
    {
      "cell_type": "markdown",
      "source": [
        "###Encode Categorical Data:\n",
        "Description: This task encodes categorical variables into numerical values using LabelEncoder. Many machine learning algorithms cannot handle non-numeric data, so categorical data needs to be converted into a numeric format for the model to process it effectively."
      ],
      "metadata": {
        "id": "aIPh8s4uGd1p"
      }
    },
    {
      "cell_type": "code",
      "source": [
        "# Convert categorical features to numerical features\n",
        "label_encoders = {}\n",
        "for column in categorical_cols:\n",
        "    le = LabelEncoder()\n",
        "    data[column] = le.fit_transform(data[column])\n",
        "    label_encoders[column] = le\n",
        "\n"
      ],
      "metadata": {
        "id": "udMlZzLUGXlm"
      },
      "execution_count": 10,
      "outputs": []
    },
    {
      "cell_type": "markdown",
      "source": [
        "###Split Data:\n",
        "Description: This task splits the DataFrame into features (X) and target (y). The features are the input data used to predict the target, which is the variable the model is attempting to classify or predict. This step prepares the data for the next stages in the machine learning pipeline."
      ],
      "metadata": {
        "id": "34dapTbfFY7q"
      }
    },
    {
      "cell_type": "code",
      "source": [
        "# Split the data into features and target\n",
        "X = data.drop('target', axis=1)  # assuming 'target' is the column name for the target variable\n",
        "y = data['target']\n"
      ],
      "metadata": {
        "id": "1eaBOEoeGeqg"
      },
      "execution_count": 11,
      "outputs": []
    },
    {
      "cell_type": "markdown",
      "source": [
        "###Standardize Features:\n",
        "Description: This task standardises the feature data using StandardScaler, ensuring that all features have a mean of 0 and a standard deviation of 1. This normalization process is crucial for algorithms like Random Forests to ensure that features are treated equally and not dominated by larger numerical values."
      ],
      "metadata": {
        "id": "gVw1Tla0Grgr"
      }
    },
    {
      "cell_type": "code",
      "source": [
        "# Standardize the features\n",
        "scaler = StandardScaler()\n",
        "X_scaled = scaler.fit_transform(X)\n"
      ],
      "metadata": {
        "id": "n-jxxZXEGmXL"
      },
      "execution_count": 12,
      "outputs": []
    },
    {
      "cell_type": "markdown",
      "source": [
        "###Train-Test Split:\n",
        "Description: This task splits the data into training and testing sets, with 80% of the data used for training and 20% reserved for testing. The training set is used to fit the model, while the testing set evaluates the model's performance on unseen data. The random_state=42 ensures reproducibility of the split."
      ],
      "metadata": {
        "id": "pHnceG0kFmIQ"
      }
    },
    {
      "cell_type": "code",
      "source": [
        "# Split into train and test sets\n",
        "X_train, X_test, y_train, y_test = train_test_split(X_scaled, y, test_size=0.2, random_state=42)\n"
      ],
      "metadata": {
        "id": "hTs3SzzoGtN5"
      },
      "execution_count": 13,
      "outputs": []
    },
    {
      "cell_type": "markdown",
      "source": [
        "###Initialize Classifier:\n",
        "Description: This task initializes a RandomForestClassifier, a robust and widely used ensemble learning method. By setting a fixed random seed, we ensure reproducibility in the training process. This classifier will be tuned and trained in subsequent steps."
      ],
      "metadata": {
        "id": "VIH0ryB5G2tT"
      }
    },
    {
      "cell_type": "code",
      "source": [
        "# Initialize the classifier\n",
        "rf_classifier = RandomForestClassifier(random_state=42)\n"
      ],
      "metadata": {
        "id": "DC_HDHHAG04j"
      },
      "execution_count": 14,
      "outputs": []
    },
    {
      "cell_type": "markdown",
      "source": [
        "###Parameter Grid:\n",
        "Description: This task defines a parameter grid for GridSearchCV, specifying values for key hyperparameters such as n_estimators, max_depth, min_samples_split, and criterion. The criterion parameter allows the model to evaluate both Gini impurity and Entropy for measuring the quality of a split. The grid search will test different combinations of these hyperparameters to determine the best-performing model configuration."
      ],
      "metadata": {
        "id": "ihRvxHwS6yEC"
      }
    },
    {
      "cell_type": "code",
      "source": [
        "# Define the parameter grid for GridSearchCV with criterion\n",
        "param_grid = {\n",
        "    'n_estimators': [100, 200, 300],\n",
        "    'max_depth': [None, 10, 20, 30],\n",
        "    'min_samples_split': [2, 5, 10],\n",
        "    'criterion': ['gini', 'entropy']  # Add this to try both Gini impurity and Entropy\n",
        "}\n"
      ],
      "metadata": {
        "id": "k4WhGkrg6yEO"
      },
      "execution_count": 15,
      "outputs": []
    },
    {
      "cell_type": "markdown",
      "source": [
        "###GridSearchCV:\n",
        "Description: This task initializes the GridSearchCV, which automates the process of hyperparameter tuning. It performs 5-fold cross-validation over the defined parameter grid, scoring the models using accuracy. This method allows the model to generalize better by testing different parameter combinations."
      ],
      "metadata": {
        "id": "5rR3h-FIG4Uu"
      }
    },
    {
      "cell_type": "code",
      "source": [
        "# Initialize GridSearchCV\n",
        "grid_search = GridSearchCV(estimator=rf_classifier, param_grid=param_grid, cv=5, scoring='accuracy', n_jobs=-1)\n"
      ],
      "metadata": {
        "id": "vlJfAAC3G-T0"
      },
      "execution_count": 16,
      "outputs": []
    },
    {
      "cell_type": "markdown",
      "source": [
        "###Fit The Model:\n",
        "Description: This task fits the GridSearchCV on the training data, performing the cross-validation and hyperparameter search. The goal is to find the best combination of hyperparameters to optimize the model's accuracy."
      ],
      "metadata": {
        "id": "uCsyh19_HGNx"
      }
    },
    {
      "cell_type": "code",
      "source": [
        "# Fit the model\n",
        "grid_search.fit(X_train, y_train)\n"
      ],
      "metadata": {
        "colab": {
          "base_uri": "https://localhost:8080/",
          "height": 118
        },
        "outputId": "2f523101-7d0c-4be7-978f-a8cd86c32cdd",
        "id": "qkRd4Wya6-Mo"
      },
      "execution_count": 17,
      "outputs": [
        {
          "output_type": "execute_result",
          "data": {
            "text/plain": [
              "GridSearchCV(cv=5, estimator=RandomForestClassifier(random_state=42), n_jobs=-1,\n",
              "             param_grid={'criterion': ['gini', 'entropy'],\n",
              "                         'max_depth': [None, 10, 20, 30],\n",
              "                         'min_samples_split': [2, 5, 10],\n",
              "                         'n_estimators': [100, 200, 300]},\n",
              "             scoring='accuracy')"
            ],
            "text/html": [
              "<style>#sk-container-id-1 {color: black;}#sk-container-id-1 pre{padding: 0;}#sk-container-id-1 div.sk-toggleable {background-color: white;}#sk-container-id-1 label.sk-toggleable__label {cursor: pointer;display: block;width: 100%;margin-bottom: 0;padding: 0.3em;box-sizing: border-box;text-align: center;}#sk-container-id-1 label.sk-toggleable__label-arrow:before {content: \"▸\";float: left;margin-right: 0.25em;color: #696969;}#sk-container-id-1 label.sk-toggleable__label-arrow:hover:before {color: black;}#sk-container-id-1 div.sk-estimator:hover label.sk-toggleable__label-arrow:before {color: black;}#sk-container-id-1 div.sk-toggleable__content {max-height: 0;max-width: 0;overflow: hidden;text-align: left;background-color: #f0f8ff;}#sk-container-id-1 div.sk-toggleable__content pre {margin: 0.2em;color: black;border-radius: 0.25em;background-color: #f0f8ff;}#sk-container-id-1 input.sk-toggleable__control:checked~div.sk-toggleable__content {max-height: 200px;max-width: 100%;overflow: auto;}#sk-container-id-1 input.sk-toggleable__control:checked~label.sk-toggleable__label-arrow:before {content: \"▾\";}#sk-container-id-1 div.sk-estimator input.sk-toggleable__control:checked~label.sk-toggleable__label {background-color: #d4ebff;}#sk-container-id-1 div.sk-label input.sk-toggleable__control:checked~label.sk-toggleable__label {background-color: #d4ebff;}#sk-container-id-1 input.sk-hidden--visually {border: 0;clip: rect(1px 1px 1px 1px);clip: rect(1px, 1px, 1px, 1px);height: 1px;margin: -1px;overflow: hidden;padding: 0;position: absolute;width: 1px;}#sk-container-id-1 div.sk-estimator {font-family: monospace;background-color: #f0f8ff;border: 1px dotted black;border-radius: 0.25em;box-sizing: border-box;margin-bottom: 0.5em;}#sk-container-id-1 div.sk-estimator:hover {background-color: #d4ebff;}#sk-container-id-1 div.sk-parallel-item::after {content: \"\";width: 100%;border-bottom: 1px solid gray;flex-grow: 1;}#sk-container-id-1 div.sk-label:hover label.sk-toggleable__label {background-color: #d4ebff;}#sk-container-id-1 div.sk-serial::before {content: \"\";position: absolute;border-left: 1px solid gray;box-sizing: border-box;top: 0;bottom: 0;left: 50%;z-index: 0;}#sk-container-id-1 div.sk-serial {display: flex;flex-direction: column;align-items: center;background-color: white;padding-right: 0.2em;padding-left: 0.2em;position: relative;}#sk-container-id-1 div.sk-item {position: relative;z-index: 1;}#sk-container-id-1 div.sk-parallel {display: flex;align-items: stretch;justify-content: center;background-color: white;position: relative;}#sk-container-id-1 div.sk-item::before, #sk-container-id-1 div.sk-parallel-item::before {content: \"\";position: absolute;border-left: 1px solid gray;box-sizing: border-box;top: 0;bottom: 0;left: 50%;z-index: -1;}#sk-container-id-1 div.sk-parallel-item {display: flex;flex-direction: column;z-index: 1;position: relative;background-color: white;}#sk-container-id-1 div.sk-parallel-item:first-child::after {align-self: flex-end;width: 50%;}#sk-container-id-1 div.sk-parallel-item:last-child::after {align-self: flex-start;width: 50%;}#sk-container-id-1 div.sk-parallel-item:only-child::after {width: 0;}#sk-container-id-1 div.sk-dashed-wrapped {border: 1px dashed gray;margin: 0 0.4em 0.5em 0.4em;box-sizing: border-box;padding-bottom: 0.4em;background-color: white;}#sk-container-id-1 div.sk-label label {font-family: monospace;font-weight: bold;display: inline-block;line-height: 1.2em;}#sk-container-id-1 div.sk-label-container {text-align: center;}#sk-container-id-1 div.sk-container {/* jupyter's `normalize.less` sets `[hidden] { display: none; }` but bootstrap.min.css set `[hidden] { display: none !important; }` so we also need the `!important` here to be able to override the default hidden behavior on the sphinx rendered scikit-learn.org. See: https://github.com/scikit-learn/scikit-learn/issues/21755 */display: inline-block !important;position: relative;}#sk-container-id-1 div.sk-text-repr-fallback {display: none;}</style><div id=\"sk-container-id-1\" class=\"sk-top-container\"><div class=\"sk-text-repr-fallback\"><pre>GridSearchCV(cv=5, estimator=RandomForestClassifier(random_state=42), n_jobs=-1,\n",
              "             param_grid={&#x27;criterion&#x27;: [&#x27;gini&#x27;, &#x27;entropy&#x27;],\n",
              "                         &#x27;max_depth&#x27;: [None, 10, 20, 30],\n",
              "                         &#x27;min_samples_split&#x27;: [2, 5, 10],\n",
              "                         &#x27;n_estimators&#x27;: [100, 200, 300]},\n",
              "             scoring=&#x27;accuracy&#x27;)</pre><b>In a Jupyter environment, please rerun this cell to show the HTML representation or trust the notebook. <br />On GitHub, the HTML representation is unable to render, please try loading this page with nbviewer.org.</b></div><div class=\"sk-container\" hidden><div class=\"sk-item sk-dashed-wrapped\"><div class=\"sk-label-container\"><div class=\"sk-label sk-toggleable\"><input class=\"sk-toggleable__control sk-hidden--visually\" id=\"sk-estimator-id-1\" type=\"checkbox\" ><label for=\"sk-estimator-id-1\" class=\"sk-toggleable__label sk-toggleable__label-arrow\">GridSearchCV</label><div class=\"sk-toggleable__content\"><pre>GridSearchCV(cv=5, estimator=RandomForestClassifier(random_state=42), n_jobs=-1,\n",
              "             param_grid={&#x27;criterion&#x27;: [&#x27;gini&#x27;, &#x27;entropy&#x27;],\n",
              "                         &#x27;max_depth&#x27;: [None, 10, 20, 30],\n",
              "                         &#x27;min_samples_split&#x27;: [2, 5, 10],\n",
              "                         &#x27;n_estimators&#x27;: [100, 200, 300]},\n",
              "             scoring=&#x27;accuracy&#x27;)</pre></div></div></div><div class=\"sk-parallel\"><div class=\"sk-parallel-item\"><div class=\"sk-item\"><div class=\"sk-label-container\"><div class=\"sk-label sk-toggleable\"><input class=\"sk-toggleable__control sk-hidden--visually\" id=\"sk-estimator-id-2\" type=\"checkbox\" ><label for=\"sk-estimator-id-2\" class=\"sk-toggleable__label sk-toggleable__label-arrow\">estimator: RandomForestClassifier</label><div class=\"sk-toggleable__content\"><pre>RandomForestClassifier(random_state=42)</pre></div></div></div><div class=\"sk-serial\"><div class=\"sk-item\"><div class=\"sk-estimator sk-toggleable\"><input class=\"sk-toggleable__control sk-hidden--visually\" id=\"sk-estimator-id-3\" type=\"checkbox\" ><label for=\"sk-estimator-id-3\" class=\"sk-toggleable__label sk-toggleable__label-arrow\">RandomForestClassifier</label><div class=\"sk-toggleable__content\"><pre>RandomForestClassifier(random_state=42)</pre></div></div></div></div></div></div></div></div></div></div>"
            ]
          },
          "metadata": {},
          "execution_count": 17
        }
      ]
    },
    {
      "cell_type": "markdown",
      "source": [
        "###Best Parameters:\n",
        "Description: This task extracts the best parameters found by GridSearchCV and initializes the best-performing model. These parameters will be used to train the final model, which should yield the best results based on the search criteria."
      ],
      "metadata": {
        "id": "oOyfmojiHU3z"
      }
    },
    {
      "cell_type": "code",
      "source": [
        "# Best parameters\n",
        "best_params = grid_search.best_params_\n",
        "best_rf_classifier = grid_search.best_estimator_\n"
      ],
      "metadata": {
        "id": "WUE1RHiFHRVY"
      },
      "execution_count": 18,
      "outputs": []
    },
    {
      "cell_type": "markdown",
      "source": [
        "### Summarize Hyperparameter Tuning Results\n",
        "Description: This task involves extracting and summarizing the best hyperparameters and performance metrics from the grid search or random search tuning process. The best combination of hyperparameters is identified based on cross-validation, providing insights into how the model was optimized for performance.\n"
      ],
      "metadata": {
        "id": "f8VdKVa9esOC"
      }
    },
    {
      "cell_type": "code",
      "source": [
        "# Extract the best parameters and summarize\n",
        "def hyperparameter_tuning_summary(grid_search):\n",
        "    print(\"### Hyperparameter Tuning Summary ###\")\n",
        "    print(f\"Best Number of Estimators: {grid_search.best_params_['n_estimators']}\")\n",
        "    print(f\"Best Maximum Depth: {grid_search.best_params_['max_depth']}\")\n",
        "    print(f\"Best Minimum Samples Split: {grid_search.best_params_['min_samples_split']}\")\n",
        "    print(f\"Best Criterion: {grid_search.best_params_['criterion']}\")\n",
        "    print(f\"Best Cross-Validation Accuracy: {grid_search.best_score_:.4f}\")\n",
        "\n",
        "# Generate summary\n",
        "hyperparameter_tuning_summary(grid_search)\n"
      ],
      "metadata": {
        "id": "tQXNNb26elaE",
        "outputId": "81059545-06a2-44c8-9240-394d743ad833",
        "colab": {
          "base_uri": "https://localhost:8080/"
        }
      },
      "execution_count": 19,
      "outputs": [
        {
          "output_type": "stream",
          "name": "stdout",
          "text": [
            "### Hyperparameter Tuning Summary ###\n",
            "Best Number of Estimators: 100\n",
            "Best Maximum Depth: None\n",
            "Best Minimum Samples Split: 5\n",
            "Best Criterion: gini\n",
            "Best Cross-Validation Accuracy: 0.9622\n"
          ]
        }
      ]
    },
    {
      "cell_type": "markdown",
      "source": [
        "### Evaluate Model Performance Across Training, Test, and Cross-Validation Sets\n",
        "Description: This task evaluates the RandomForestClassifier on three distinct sets: the training set, test set, and cross-validation set. By assessing performance on these sets, we can determine how well the model fits the training data, generalises to unseen test data, and performs under cross-validation to ensure robust results. The metrics used include accuracy for each of these sets.\n"
      ],
      "metadata": {
        "id": "gfRhxOSAjnIE"
      }
    },
    {
      "cell_type": "code",
      "source": [
        "# Evaluate the model's accuracy on the test set\n",
        "test_accuracy = best_rf_classifier.score(X_test, y_test)\n",
        "print(f\"Test Accuracy: {test_accuracy * 100:.2f}%\")\n",
        "\n",
        "# Display the best cross-validation accuracy from the GridSearchCV\n",
        "print(\"Best cross-validation accuracy: {:.2f}%\".format(grid_search.best_score_ * 100))\n",
        "\n",
        "# Evaluate the model's accuracy on the training set\n",
        "training_accuracy = best_rf_classifier.score(X_train, y_train)\n",
        "print(f\"Training Accuracy: {training_accuracy * 100:.2f}%\")\n"
      ],
      "metadata": {
        "id": "z80eskC3jv4T",
        "outputId": "0677de56-d267-4c5e-8f60-a3f1b6a0473c",
        "colab": {
          "base_uri": "https://localhost:8080/"
        }
      },
      "execution_count": 20,
      "outputs": [
        {
          "output_type": "stream",
          "name": "stdout",
          "text": [
            "Test Accuracy: 95.68%\n",
            "Best cross-validation accuracy: 96.22%\n",
            "Training Accuracy: 99.46%\n"
          ]
        }
      ]
    },
    {
      "cell_type": "markdown",
      "source": [
        "###Feature Importance:\n",
        "Description: This task retrieves and visualises the feature importances of the RandomForestClassifier. It ranks features based on their contribution to the model's predictive power, helping to identify which features are most influential in the model’s decisions."
      ],
      "metadata": {
        "id": "3oJ-Pa7nHbTR"
      }
    },
    {
      "cell_type": "code",
      "source": [
        "# Feature importance\n",
        "importances = best_rf_classifier.feature_importances_\n",
        "indices = np.argsort(importances)[::-1]\n"
      ],
      "metadata": {
        "id": "yiVMnilhHVbD"
      },
      "execution_count": 21,
      "outputs": []
    },
    {
      "cell_type": "markdown",
      "source": [
        "###Plot Feature Importances:\n",
        "Description: This task generates a bar plot of the feature importances, helping to visualise the significance of each feature. It helps in understanding which features have the most impact on the predictions, allowing for potential feature selection or further analysis."
      ],
      "metadata": {
        "id": "X8JO0whaHetM"
      }
    },
    {
      "cell_type": "code",
      "source": [
        "# Plot the feature importances\n",
        "plt.figure(figsize=(12, 6))\n",
        "plt.title(\"Feature Importances\")\n",
        "plt.bar(range(X.shape[1]), importances[indices], align=\"center\")\n",
        "plt.xticks(range(X.shape[1]), [X.columns[i] for i in indices], rotation=90)\n",
        "plt.show()\n"
      ],
      "metadata": {
        "id": "y02snWlBHcvb",
        "colab": {
          "base_uri": "https://localhost:8080/",
          "height": 562
        },
        "outputId": "9510c725-97f7-43f5-a9c8-a255e78d2fca"
      },
      "execution_count": 22,
      "outputs": [
        {
          "output_type": "display_data",
          "data": {
            "text/plain": [
              "<Figure size 1200x600 with 1 Axes>"
            ],
            "image/png": "[encoded data removed]"
          },
          "metadata": {}
        }
      ]
    },
    {
      "cell_type": "markdown",
      "source": [
        "###Predictions and Confusion Matrix:\n",
        "Description: This task makes predictions on the test set using the best-performing model from the GridSearchCV, then computes the confusion matrix to evaluate the model’s performance. The confusion matrix shows the number of true positives, true negatives, false positives, and false negatives, providing a comprehensive view of classification accuracy."
      ],
      "metadata": {
        "id": "Ie6I_idQHh4J"
      }
    },
    {
      "cell_type": "code",
      "source": [
        "# Predictions and confusion matrix\n",
        "y_pred = best_rf_classifier.predict(X_test)\n",
        "cm = confusion_matrix(y_test, y_pred)\n"
      ],
      "metadata": {
        "id": "Kaie3lsnHgbQ"
      },
      "execution_count": 23,
      "outputs": []
    },
    {
      "cell_type": "markdown",
      "source": [
        "###Plot Confusion Matrix:\n",
        "\n",
        "Description: This task visualises the confusion matrix as a heatmap. The confusion matrix shows the number of correct and incorrect predictions made by the classifier for each class. This helps in understanding the classification performance by providing insights into the number of true positives, true negatives, false positives, and false negatives."
      ],
      "metadata": {
        "id": "5x0-spuzHpGB"
      }
    },
    {
      "cell_type": "code",
      "source": [
        "# Plot the confusion matrix\n",
        "plt.figure(figsize=(10, 7))\n",
        "sns.heatmap(cm, annot=True, fmt=\"d\", cmap=\"Blues\")\n",
        "plt.xlabel(\"Predicted\")\n",
        "plt.ylabel(\"True\")\n",
        "plt.title(\"Confusion Matrix\")\n",
        "plt.show()\n"
      ],
      "metadata": {
        "id": "YLgrcVelHkmj",
        "colab": {
          "base_uri": "https://localhost:8080/",
          "height": 641
        },
        "outputId": "1a756ba9-258d-4338-c994-2d1d8657f64e"
      },
      "execution_count": 24,
      "outputs": [
        {
          "output_type": "display_data",
          "data": {
            "text/plain": [
              "<Figure size 1000x700 with 2 Axes>"
            ],
            "image/png": "[encoded data removed]"
          },
          "metadata": {}
        }
      ]
    },
    {
      "cell_type": "markdown",
      "source": [
        "### Normalized Confusion Matrix:\n",
        "\n",
        "Description: This task generates a normalized confusion matrix to evaluate the performance of the classifier. The confusion matrix shows the percentage of correctly and incorrectly classified instances, normalized by the total number of instances in each class. This helps visualise the classification accuracy for each class."
      ],
      "metadata": {
        "id": "5dhb2cfCh_LJ"
      }
    },
    {
      "cell_type": "code",
      "source": [
        "cm_normalized = cm.astype('float') / cm.sum(axis=1)[:, np.newaxis]\n",
        "\n",
        "plt.figure(figsize=(10, 7))\n",
        "sns.heatmap(cm_normalized, annot=True, fmt=\".2f\", cmap=\"Blues\")\n",
        "plt.xlabel(\"Predicted\")\n",
        "plt.ylabel(\"True\")\n",
        "plt.title(\"Normalized Confusion Matrix\")\n",
        "plt.show()\n"
      ],
      "metadata": {
        "colab": {
          "base_uri": "https://localhost:8080/",
          "height": 641
        },
        "outputId": "b042ed55-164b-49bf-b8ab-cb62f8fecf5c",
        "id": "-PpiH9cmch-N"
      },
      "execution_count": 25,
      "outputs": [
        {
          "output_type": "display_data",
          "data": {
            "text/plain": [
              "<Figure size 1000x700 with 2 Axes>"
            ],
            "image/png": "[encoded data removed]"
          },
          "metadata": {}
        }
      ]
    },
    {
      "cell_type": "markdown",
      "source": [
        "###Classification Report: (Table)\n",
        "Description: This task generates and prints a detailed classification report that includes precision, recall, F1-score, and support for each class. The report provides a summary of the classifier's performance across multiple metrics, helping to evaluate the overall effectiveness of the model."
      ],
      "metadata": {
        "id": "eEm8_uqEHmt2"
      }
    },
    {
      "cell_type": "code",
      "source": [
        "# Classification report\n",
        "report = classification_report(y_test, y_pred)\n",
        "print(report)\n"
      ],
      "metadata": {
        "id": "CGhu2UyvHq_X",
        "colab": {
          "base_uri": "https://localhost:8080/"
        },
        "outputId": "600f9209-d54f-4a6d-a9a1-f45f56b9af13"
      },
      "execution_count": 26,
      "outputs": [
        {
          "output_type": "stream",
          "name": "stdout",
          "text": [
            "              precision    recall  f1-score   support\n",
            "\n",
            "         0.0       0.96      0.96      0.96        97\n",
            "         1.0       0.95      0.95      0.95        88\n",
            "\n",
            "    accuracy                           0.96       185\n",
            "   macro avg       0.96      0.96      0.96       185\n",
            "weighted avg       0.96      0.96      0.96       185\n",
            "\n"
          ]
        }
      ]
    },
    {
      "cell_type": "markdown",
      "source": [
        "###Classification Report:(Graph)\n",
        "\n",
        "Description: This task creates a classification report that includes precision, recall, F1-score, and support for each class. The results are visualised as a heatmap for easier interpretation of the model’s classification performance across different metrics."
      ],
      "metadata": {
        "id": "OLJYwZGOiCy0"
      }
    },
    {
      "cell_type": "code",
      "source": [
        "from sklearn.metrics import classification_report\n",
        "\n",
        "report = classification_report(y_test, y_pred, output_dict=True)\n",
        "report_df = pd.DataFrame(report).transpose()\n",
        "\n",
        "plt.figure(figsize=(12, 6))\n",
        "sns.heatmap(report_df.iloc[:-1, :].T, annot=True, cmap=\"Blues\")\n",
        "plt.title(\"Classification Report\")\n",
        "plt.show()\n"
      ],
      "metadata": {
        "colab": {
          "base_uri": "https://localhost:8080/",
          "height": 545
        },
        "outputId": "747ff77e-0804-48d2-e830-79801b26197e",
        "id": "-yGSVhymck7q"
      },
      "execution_count": 27,
      "outputs": [
        {
          "output_type": "display_data",
          "data": {
            "text/plain": [
              "<Figure size 1200x600 with 2 Axes>"
            ],
            "image/png": "[encoded data removed]"
          },
          "metadata": {}
        }
      ]
    },
    {
      "cell_type": "markdown",
      "source": [
        "###Cumulative Gains Chart\n",
        "\n",
        "Description: This task generates a cumulative gains chart to evaluate the performance of the classifier. It shows how well the model distinguishes between the two classes (0 and 1) by plotting the cumulative gains as a function of the percentage of the sample. The closer the curve is to the top-left corner, the better the classifier's performance."
      ],
      "metadata": {
        "id": "Cso53QlXhpoa"
      }
    },
    {
      "cell_type": "code",
      "source": [
        "from sklearn.metrics import roc_curve\n",
        "import matplotlib.pyplot as plt\n",
        "import numpy as np\n",
        "\n",
        "def plot_cumulative_gain(y_true, y_proba):\n",
        "    # Compute the true positive rates and false positive rates for each class\n",
        "    fpr_0, tpr_0, _ = roc_curve(y_true, y_proba[:, 0])\n",
        "    fpr_1, tpr_1, _ = roc_curve(y_true, y_proba[:, 1])\n",
        "\n",
        "    # Cumulative gains are essentially the TPR against the percentage of samples\n",
        "    gain_0 = np.cumsum(tpr_0) / np.sum(tpr_0)\n",
        "    gain_1 = np.cumsum(tpr_1) / np.sum(tpr_1)\n",
        "\n",
        "    # Plot the chart\n",
        "    plt.plot(np.arange(len(gain_0)) / len(gain_0), gain_0, color='blue', label='Class 0.0')\n",
        "    plt.plot(np.arange(len(gain_1)) / len(gain_1), gain_1, color='orange', label='Class 1.0')\n",
        "\n",
        "    plt.plot([0, 1], [0, 1], 'k--', label='Baseline')  # Baseline diagonal\n",
        "    plt.title('Cumulative Gains Chart')\n",
        "    plt.xlabel('Percentage of Sample')\n",
        "    plt.ylabel('Gain')\n",
        "    plt.legend(loc='lower right')\n",
        "    plt.show()\n",
        "\n",
        "# Example usage\n",
        "plot_cumulative_gain(y_test, best_rf_classifier.predict_proba(X_test))\n"
      ],
      "metadata": {
        "colab": {
          "base_uri": "https://localhost:8080/",
          "height": 472
        },
        "id": "LcHTb7v96kx0",
        "outputId": "a409e97d-5cb9-414b-8f61-e60620437e3b"
      },
      "execution_count": 28,
      "outputs": [
        {
          "output_type": "display_data",
          "data": {
            "text/plain": [
              "<Figure size 640x480 with 1 Axes>"
            ],
            "image/png": "[encoded data removed]"
          },
          "metadata": {}
        }
      ]
    },
    {
      "cell_type": "markdown",
      "source": [
        "###Receiver Operating Characteristic (ROC) Curve:\n",
        "\n",
        "Description: This task plots the ROC curve and calculates the AUC (Area Under the Curve) score. The ROC curve visualises the trade-off between the true positive rate (sensitivity) and false positive rate for different threshold values. The AUC score quantifies the model's overall ability to discriminate between classes, with a value closer to 1 indicating better performance."
      ],
      "metadata": {
        "id": "OusbEywthrvQ"
      }
    },
    {
      "cell_type": "code",
      "source": [
        "from sklearn.metrics import roc_curve, roc_auc_score\n",
        "\n",
        "# Compute the ROC curve and AUC score\n",
        "y_prob = best_rf_classifier.predict_proba(X_test)[:, 1]  # Assuming binary classification\n",
        "fpr, tpr, _ = roc_curve(y_test, y_prob)\n",
        "auc_score = roc_auc_score(y_test, y_prob)\n",
        "\n",
        "# Plot the ROC curve\n",
        "plt.figure(figsize=(8, 6))\n",
        "plt.plot(fpr, tpr, color='blue', label=f'AUC = {auc_score:.2f}')\n",
        "plt.plot([0, 1], [0, 1], color='red', linestyle='--')\n",
        "plt.xlabel('False Positive Rate')\n",
        "plt.ylabel('True Positive Rate')\n",
        "plt.title('Receiver Operating Characteristic (ROC) Curve')\n",
        "plt.legend()\n",
        "plt.show()\n"
      ],
      "metadata": {
        "colab": {
          "base_uri": "https://localhost:8080/",
          "height": 564
        },
        "outputId": "7b781f83-97f9-42ee-a296-a96ccebb251b",
        "id": "b12UQTyWcSzH"
      },
      "execution_count": 29,
      "outputs": [
        {
          "output_type": "display_data",
          "data": {
            "text/plain": [
              "<Figure size 800x600 with 1 Axes>"
            ],
            "image/png": "[encoded data removed]"
          },
          "metadata": {}
        }
      ]
    },
    {
      "cell_type": "markdown",
      "source": [
        "###Precision-Recall Curve:\n",
        "\n",
        "Description: This task generates the precision-recall curve to evaluate the model's performance, especially for imbalanced datasets. The curve plots precision versus recall for different threshold values, with higher values indicating better performance. The average precision score is also calculated."
      ],
      "metadata": {
        "id": "gyNEJHyRhxZy"
      }
    },
    {
      "cell_type": "code",
      "source": [
        "from sklearn.metrics import precision_recall_curve, average_precision_score\n",
        "\n",
        "# Compute the Precision-Recall curve and average precision score\n",
        "precision, recall, _ = precision_recall_curve(y_test, y_prob)\n",
        "avg_precision = average_precision_score(y_test, y_prob)\n",
        "\n",
        "# Plot the Precision-Recall curve\n",
        "plt.figure(figsize=(8, 6))\n",
        "plt.plot(recall, precision, color='blue', label=f'Average Precision = {avg_precision:.2f}')\n",
        "plt.xlabel('Recall')\n",
        "plt.ylabel('Precision')\n",
        "plt.title('Precision-Recall Curve')\n",
        "plt.legend()\n",
        "plt.show()\n"
      ],
      "metadata": {
        "colab": {
          "base_uri": "https://localhost:8080/",
          "height": 564
        },
        "outputId": "3f6f1b06-3419-4129-9cdd-4c8c53fc026d",
        "id": "q6OExnRDcV9f"
      },
      "execution_count": 30,
      "outputs": [
        {
          "output_type": "display_data",
          "data": {
            "text/plain": [
              "<Figure size 800x600 with 1 Axes>"
            ],
            "image/png": "[encoded data removed]"
          },
          "metadata": {}
        }
      ]
    },
    {
      "cell_type": "markdown",
      "source": [
        "###Learning Curves:\n",
        "\n",
        "Description: This task computes and plots the learning curves to analyze the model’s performance with respect to the size of the training dataset. The plot shows the training and validation accuracy as a function of the training set size, helping to identify whether the model suffers from high bias or high variance.\n",
        "\n"
      ],
      "metadata": {
        "id": "hiWfWpoUh4el"
      }
    },
    {
      "cell_type": "code",
      "source": [
        "from sklearn.model_selection import learning_curve\n",
        "\n",
        "# Compute learning curves\n",
        "train_sizes, train_scores, val_scores = learning_curve(best_rf_classifier, X_scaled, y, cv=5, scoring='accuracy', n_jobs=-1)\n",
        "\n",
        "# Calculate mean and standard deviation for training and validation scores\n",
        "train_mean = np.mean(train_scores, axis=1)\n",
        "train_std = np.std(train_scores, axis=1)\n",
        "val_mean = np.mean(val_scores, axis=1)\n",
        "val_std = np.std(val_scores, axis=1)\n",
        "\n",
        "# Plot learning curves\n",
        "plt.figure(figsize=(10, 6))\n",
        "plt.plot(train_sizes, train_mean, label='Training score')\n",
        "plt.plot(train_sizes, val_mean, label='Validation score')\n",
        "plt.fill_between(train_sizes, train_mean - train_std, train_mean + train_std, alpha=0.1)\n",
        "plt.fill_between(train_sizes, val_mean - val_std, val_mean + val_std, alpha=0.1)\n",
        "plt.xlabel('Training Set Size')\n",
        "plt.ylabel('Accuracy')\n",
        "plt.title('Learning Curves')\n",
        "plt.legend()\n",
        "plt.show()\n"
      ],
      "metadata": {
        "colab": {
          "base_uri": "https://localhost:8080/",
          "height": 564
        },
        "outputId": "ac78529f-44b5-4254-ba5c-1cba462e086c",
        "id": "jWixNqu7cYyS"
      },
      "execution_count": 31,
      "outputs": [
        {
          "output_type": "display_data",
          "data": {
            "text/plain": [
              "<Figure size 1000x600 with 1 Axes>"
            ],
            "image/png": "[encoded data removed]"
          },
          "metadata": {}
        }
      ]
    },
    {
      "cell_type": "markdown",
      "source": [
        "### Feature Importances:\n",
        "\n",
        "Description: This task visualises the importance of each feature used in the model. By plotting the relative importance of each feature, the task helps identify which features contribute the most to the model's predictive power."
      ],
      "metadata": {
        "id": "FHEBMpdKh74-"
      }
    },
    {
      "cell_type": "code",
      "source": [
        "importances = best_rf_classifier.feature_importances_\n",
        "indices = np.argsort(importances)[::-1]\n",
        "\n",
        "plt.figure(figsize=(12, 6))\n",
        "plt.title(\"Feature Importances\")\n",
        "plt.bar(range(X.shape[1]), importances[indices], align=\"center\")\n",
        "plt.xticks(range(X.shape[1]), [X.columns[i] for i in indices], rotation=90)\n",
        "plt.show()\n"
      ],
      "metadata": {
        "colab": {
          "base_uri": "https://localhost:8080/",
          "height": 562
        },
        "outputId": "7136cb0a-8d4a-4b92-bccd-c41f9643c149",
        "id": "8Ww3IqEyceC8"
      },
      "execution_count": 32,
      "outputs": [
        {
          "output_type": "display_data",
          "data": {
            "text/plain": [
              "<Figure size 1200x600 with 1 Axes>"
            ],
            "image/png": "[encoded data removed]"
          },
          "metadata": {}
        }
      ]
    },
    {
      "cell_type": "markdown",
      "source": [
        "###Partial Dependence Plot:\n",
        "\n",
        "Description: This task generates partial dependence plots (PDP) to visualise the relationship between selected features and the target variable, holding other features constant. PDPs help interpret how the model's predictions change with varying values of specific features, providing insights into feature importance."
      ],
      "metadata": {
        "id": "98dIOztfew4b"
      }
    },
    {
      "cell_type": "code",
      "source": [
        "from sklearn.inspection import PartialDependenceDisplay\n",
        "import matplotlib.pyplot as plt\n",
        "\n",
        "# Example: first two features\n",
        "features = [0, 1]\n",
        "\n",
        "# Create subplots for partial dependence\n",
        "fig, ax = plt.subplots(figsize=(12, 6))\n",
        "\n",
        "# Use PartialDependenceDisplay instead of plot_partial_dependence\n",
        "PartialDependenceDisplay.from_estimator(best_rf_classifier, X_train, features, ax=ax)\n",
        "\n",
        "# Show the plot\n",
        "plt.show()\n"
      ],
      "metadata": {
        "id": "Bhqnb9azCcu0",
        "colab": {
          "base_uri": "https://localhost:8080/",
          "height": 542
        },
        "outputId": "bfaa182a-e64e-4183-972b-0c59a39770a9"
      },
      "execution_count": 33,
      "outputs": [
        {
          "output_type": "display_data",
          "data": {
            "text/plain": [
              "<Figure size 1200x600 with 3 Axes>"
            ],
            "image/png": "[encoded data removed]"
          },
          "metadata": {}
        }
      ]
    },
    {
      "cell_type": "markdown",
      "source": [
        "### ===================  TASK A -  COMPLETED  ============================="
      ],
      "metadata": {
        "id": "PAkH0kXLIUaa"
      }
    },
    {
      "cell_type": "markdown",
      "source": [
        "### TASK B. Multi-label image-based digit classification problem"
      ],
      "metadata": {
        "id": "GzLDLg4kIUt7"
      }
    },
    {
      "cell_type": "markdown",
      "source": [
        "###Task Requirments:\n",
        "\n",
        "6. Load and preprocess the dataset for the multi-label image-based digit classification problem (normalise pixel values, resize images if necessary, etc).\n",
        "\n",
        "7. Build a convolutional neural network (CNN) model for the multi-label image-based digit classification task.\n",
        "\n",
        "8. Fine-tune the CNN model using appropriate techniques (eg, hyperparameter tuning, cross-validation, etc).\n",
        "\n",
        "9. Visualise the dataset and / or the CNN model's results, where applicable (eg, feature maps, learning curves, etc).\n",
        "\n",
        "10. Report the final performance of the CNN model using appropriate performance metrics (eg, accuracy, F1-score, etc).\n",
        "\n",
        "11. Collaborate within the team and decide on the best model (for classification) and CNN architecture (for digit recognition).\n"
      ],
      "metadata": {
        "id": "QRAgh8X5IiS1"
      }
    },
    {
      "cell_type": "markdown",
      "source": [
        "###Response to Task Requirements 6 to 11"
      ],
      "metadata": {
        "id": "s5dCWztHJdW9"
      }
    },
    {
      "cell_type": "markdown",
      "source": [
        "### Setup and Dependencies\n",
        "Description: This section installs the required software and libraries for extracting files and setting up the working environment. (At the time of Development the File path leads to the Google Drive for ease of testing and collaboraiton)"
      ],
      "metadata": {
        "id": "LmXATLCqcLpG"
      }
    },
    {
      "cell_type": "code",
      "execution_count": 2,
      "metadata": {
        "colab": {
          "base_uri": "https://localhost:8080/"
        },
        "outputId": "799bd791-3128-4bf1-981c-a6d0708d0745",
        "id": "B7VMjoG9U4Nm"
      },
      "outputs": [
        {
          "output_type": "stream",
          "name": "stdout",
          "text": [
            "Reading package lists... Done\n",
            "Building dependency tree... Done\n",
            "Reading state information... Done\n",
            "p7zip-full is already the newest version (16.02+dfsg-8).\n",
            "0 upgraded, 0 newly installed, 0 to remove and 49 not upgraded.\n",
            "Collecting patool\n",
            "  Downloading patool-2.4.0-py2.py3-none-any.whl.metadata (4.0 kB)\n",
            "Downloading patool-2.4.0-py2.py3-none-any.whl (96 kB)\n",
            "\u001b[2K   \u001b[90m━━━━━━━━━━━━━━━━━━━━━━━━━━━━━━━━━━━━━━━━\u001b[0m \u001b[32m96.9/96.9 kB\u001b[0m \u001b[31m1.1 MB/s\u001b[0m eta \u001b[36m0:00:00\u001b[0m\n",
            "\u001b[?25hInstalling collected packages: patool\n",
            "Successfully installed patool-2.4.0\n"
          ]
        },
        {
          "output_type": "stream",
          "name": "stderr",
          "text": [
            "INFO patool: Extracting /content/drive/MyDrive/dataset2.zip ...\n",
            "INFO:patool:Extracting /content/drive/MyDrive/dataset2.zip ...\n",
            "INFO patool: ... creating output directory `./dataset2'.\n",
            "INFO:patool:... creating output directory `./dataset2'.\n",
            "INFO patool: running /usr/bin/7z x -o./dataset2 -- /content/drive/MyDrive/dataset2.zip\n",
            "INFO:patool:running /usr/bin/7z x -o./dataset2 -- /content/drive/MyDrive/dataset2.zip\n",
            "INFO patool:     with input=''\n",
            "INFO:patool:    with input=''\n",
            "INFO patool: ... /content/drive/MyDrive/dataset2.zip extracted to `./dataset2'.\n",
            "INFO:patool:... /content/drive/MyDrive/dataset2.zip extracted to `./dataset2'.\n"
          ]
        },
        {
          "output_type": "stream",
          "name": "stdout",
          "text": [
            "['triple_mnist']\n"
          ]
        }
      ],
      "source": [
        "### Section 1: Setup and Dependencies\n",
        "!apt-get install p7zip-full # Install 7-Zip\n",
        "!pip install patool # Install the patool library which provides the patoolib module\n",
        "import zipfile\n",
        "import os\n",
        "import patoolib # Now you can import patoolib\n",
        "\n",
        "# Path to the uploaded zip file\n",
        "zip_file_path = '/content/drive/MyDrive/dataset2.zip'\n",
        "extracted_folder_path = './dataset2'  # Use a relative path for the extraction directory\n",
        "\n",
        "# Extract the zip file using patool\n",
        "patoolib.extract_archive(zip_file_path, outdir=extracted_folder_path)\n",
        "\n",
        "# List the contents of the extracted folder\n",
        "extracted_files = os.listdir(extracted_folder_path)\n",
        "print(extracted_files)\n",
        "\n"
      ]
    },
    {
      "cell_type": "markdown",
      "source": [
        " ### Dataset Directory Setup and File Splitting:\n",
        "\n",
        " Description: In this section, you are reorganising the dataset by splitting the images into training, validation, and test sets based on predefined ratios (60% train, 20% validation, 20% test). The files are copied into new directories structured in a way that can be easily fed into machine learning models for training and evaluation."
      ],
      "metadata": {
        "id": "qcfGEGSuc-I0"
      }
    },
    {
      "cell_type": "code",
      "source": [
        "# Import Libraries\n",
        "import os\n",
        "import shutil\n",
        "from pathlib import Path\n",
        "import random\n",
        "\n",
        "# Paths to original directories\n",
        "original_base_dir = Path('dataset2/triple_mnist')\n",
        "original_train_dir = original_base_dir / 'train'\n",
        "original_val_dir = original_base_dir / 'val'\n",
        "original_test_dir = original_base_dir / 'test'\n",
        "\n",
        "# Path to the new dataset directory\n",
        "new_base_dir = Path('dataset-c/triple_mnist')\n",
        "new_train_dir = new_base_dir / 'train'\n",
        "new_val_dir = new_base_dir / 'val'\n",
        "new_test_dir = new_base_dir / 'test'\n",
        "\n",
        "# Ensure the new directories exist\n",
        "new_train_dir.mkdir(parents=True, exist_ok=True)\n",
        "new_val_dir.mkdir(parents=True, exist_ok=True)\n",
        "new_test_dir.mkdir(parents=True, exist_ok=True)\n",
        "\n",
        "# Function to split and copy files\n",
        "def split_and_copy_files(src_dir, new_train_dir, new_val_dir, new_test_dir, train_ratio=0.6, val_ratio=0.2, test_ratio=0.2):\n",
        "    if not src_dir.exists():\n",
        "        return\n",
        "\n",
        "    classes = sorted(os.listdir(src_dir))\n",
        "\n",
        "    for cls in classes:\n",
        "        cls_path = src_dir / cls\n",
        "        if cls_path.is_dir():\n",
        "            images = list(cls_path.glob('*'))\n",
        "            random.shuffle(images)\n",
        "\n",
        "            num_train = int(len(images) * train_ratio)\n",
        "            num_val = int(len(images) * val_ratio)\n",
        "\n",
        "            train_images = images[:num_train]\n",
        "            val_images = images[num_train:num_train+num_val]\n",
        "            test_images = images[num_train+num_val:]\n",
        "\n",
        "            cls_train_dir = new_train_dir / cls\n",
        "            cls_val_dir = new_val_dir / cls\n",
        "            cls_test_dir = new_test_dir / cls\n",
        "\n",
        "            cls_train_dir.mkdir(parents=True, exist_ok=True)\n",
        "            cls_val_dir.mkdir(parents=True, exist_ok=True)\n",
        "            cls_test_dir.mkdir(parents=True, exist_ok=True)\n",
        "\n",
        "            for img in train_images:\n",
        "                shutil.copy(str(img), str(cls_train_dir / img.name))\n",
        "            for img in val_images:\n",
        "                shutil.copy(str(img), str(cls_val_dir / img.name))\n",
        "            for img in test_images:\n",
        "                shutil.copy(str(img), str(cls_test_dir / img.name))\n",
        "\n",
        "# Split and copy files from original train, val, and test directories\n",
        "split_and_copy_files(original_train_dir, new_train_dir, new_val_dir, new_test_dir)\n",
        "split_and_copy_files(original_val_dir, new_train_dir, new_val_dir, new_test_dir)\n",
        "split_and_copy_files(original_test_dir, new_train_dir, new_val_dir, new_test_dir)\n",
        "\n",
        "print(\"Files split and copied successfully!\")"
      ],
      "metadata": {
        "colab": {
          "base_uri": "https://localhost:8080/"
        },
        "id": "XFDSyQu_wCfZ",
        "outputId": "38d86fb3-64c7-4f4e-d452-591491693b4e"
      },
      "execution_count": 3,
      "outputs": [
        {
          "output_type": "stream",
          "name": "stdout",
          "text": [
            "Files split and copied successfully!\n"
          ]
        }
      ]
    },
    {
      "cell_type": "markdown",
      "source": [
        "### Importing Essential Libraries\n",
        "\n",
        "Description: This section imports the key libraries and modules required for handling data, building and training a CNN model, and visualising results. These include tools for image processing, deep learning model construction, and utilities for handling class imbalances.It includes the Keras Tuner library for hyperparameter tuning, as well as key Keras components like Conv2D, Dense, Adam, and callback methods such as EarlyStopping and ReduceLROnPlateau."
      ],
      "metadata": {
        "id": "MMG69-JceJRb"
      }
    },
    {
      "cell_type": "code",
      "source": [
        "#  import keras_tuner as kt\n",
        "!pip install keras-tuner -q\n",
        "\n",
        "import os\n",
        "import numpy as np\n",
        "import tensorflow as tf\n",
        "import keras_tuner as kt\n",
        "from tensorflow.keras.preprocessing.image import ImageDataGenerator\n",
        "from tensorflow.keras.models import Sequential\n",
        "from tensorflow.keras.layers import Conv2D, MaxPooling2D, Flatten, Dense, Dropout, BatchNormalization\n",
        "from tensorflow.keras.optimizers import Adam\n",
        "from tensorflow.keras.regularizers import l2\n",
        "from tensorflow.keras.callbacks import EarlyStopping, ReduceLROnPlateau\n",
        "import matplotlib.pyplot as plt\n",
        "from sklearn.utils.class_weight import compute_class_weight"
      ],
      "metadata": {
        "id": "MwY_8XZskUhn",
        "colab": {
          "base_uri": "https://localhost:8080/"
        },
        "outputId": "05cd818d-63ec-4e52-b3eb-bbde6a6349bf"
      },
      "execution_count": 4,
      "outputs": [
        {
          "output_type": "stream",
          "name": "stdout",
          "text": [
            "\u001b[?25l   \u001b[90m━━━━━━━━━━━━━━━━━━━━━━━━━━━━━━━━━━━━━━━━\u001b[0m \u001b[32m0.0/129.1 kB\u001b[0m \u001b[31m?\u001b[0m eta \u001b[36m-:--:--\u001b[0m\r\u001b[2K   \u001b[91m━━━━━━━━━━━━\u001b[0m\u001b[91m╸\u001b[0m\u001b[90m━━━━━━━━━━━━━━━━━━━━━━━━━━━\u001b[0m \u001b[32m41.0/129.1 kB\u001b[0m \u001b[31m1.2 MB/s\u001b[0m eta \u001b[36m0:00:01\u001b[0m\r\u001b[2K   \u001b[91m━━━━━━━━━━━━━━━━━━━━━━━━━\u001b[0m\u001b[90m╺\u001b[0m\u001b[90m━━━━━━━━━━━━━━\u001b[0m \u001b[32m81.9/129.1 kB\u001b[0m \u001b[31m1.1 MB/s\u001b[0m eta \u001b[36m0:00:01\u001b[0m\r\u001b[2K   \u001b[91m━━━━━━━━━━━━━━━━━━━━━━━━━━━━━━━━━━━━━━\u001b[0m\u001b[90m╺\u001b[0m\u001b[90m━\u001b[0m \u001b[32m122.9/129.1 kB\u001b[0m \u001b[31m1.1 MB/s\u001b[0m eta \u001b[36m0:00:01\u001b[0m\r\u001b[2K   \u001b[90m━━━━━━━━━━━━━━━━━━━━━━━━━━━━━━━━━━━━━━━━\u001b[0m \u001b[32m129.1/129.1 kB\u001b[0m \u001b[31m964.7 kB/s\u001b[0m eta \u001b[36m0:00:00\u001b[0m\n",
            "\u001b[?25h"
          ]
        }
      ]
    },
    {
      "cell_type": "markdown",
      "source": [
        "### Dataset Preparation and Image Loading\n",
        "Description: In this section, directories for training, validation, and testing datasets are defined. It also specifies image size, batch size, and creates ImageDataGenerator instances to rescale pixel values and load the images in grayscale mode. These generators are then used to load images into the model for training, validation, and testing, ensuring data is ready for further processing."
      ],
      "metadata": {
        "id": "rxxcUwuHfGHs"
      }
    },
    {
      "cell_type": "code",
      "source": [
        "# Define directories for training, validation, and testing datasets\n",
        "train_dir = os.path.join('/content/dataset-c/triple_mnist/train')\n",
        "val_dir = os.path.join('/content/dataset-c/triple_mnist/val')\n",
        "test_dir = os.path.join('/content/dataset-c/triple_mnist/test')\n",
        "\n",
        "# Image size and batch size\n",
        "image_size = (42, 42)\n",
        "batch_size = 32\n",
        "\n",
        "# Create ImageDataGenerator with color_mode set to 'grayscale'\n",
        "train_datagen = ImageDataGenerator(rescale=1.0/255.0)\n",
        "val_datagen = ImageDataGenerator(rescale=1.0/255.0)\n",
        "test_datagen = ImageDataGenerator(rescale=1.0/255.0)\n",
        "\n",
        "# Load images with 'grayscale' mode\n",
        "train_generator = train_datagen.flow_from_directory(\n",
        "    train_dir,\n",
        "    target_size=image_size,\n",
        "    batch_size=batch_size,\n",
        "    class_mode='categorical',\n",
        "    color_mode='grayscale',  # Convert images to grayscale\n",
        "    shuffle=True\n",
        ")\n",
        "\n",
        "val_generator = val_datagen.flow_from_directory(\n",
        "    val_dir,\n",
        "    target_size=image_size,\n",
        "    batch_size=batch_size,\n",
        "    class_mode='categorical',\n",
        "    color_mode='grayscale',  # Convert images to grayscale\n",
        "    shuffle=False\n",
        ")\n",
        "\n",
        "test_generator = test_datagen.flow_from_directory(\n",
        "    test_dir,\n",
        "    target_size=image_size,\n",
        "    batch_size=batch_size,\n",
        "    class_mode='categorical',\n",
        "    color_mode='grayscale',  # Convert images to grayscale\n",
        "    shuffle=False\n",
        ")"
      ],
      "metadata": {
        "id": "uX6DrweQWvko",
        "colab": {
          "base_uri": "https://localhost:8080/"
        },
        "outputId": "e5be3a5b-2046-4cc8-e764-3d1c0651c24e"
      },
      "execution_count": 5,
      "outputs": [
        {
          "output_type": "stream",
          "name": "stdout",
          "text": [
            "Found 60000 images belonging to 1000 classes.\n",
            "Found 20000 images belonging to 1000 classes.\n",
            "Found 20000 images belonging to 1000 classes.\n"
          ]
        }
      ]
    },
    {
      "cell_type": "markdown",
      "source": [
        "### Sample Preprocessed Images\n",
        "Description: This code grabs a batch of preprocessed images from the data generator (train_generator) and displays them using matplotlib."
      ],
      "metadata": {
        "id": "tTBI1mwoY0ch"
      }
    },
    {
      "cell_type": "code",
      "source": [
        "import matplotlib.pyplot as plt\n",
        "\n",
        "# Fetch one batch of images and labels from the data generator (assuming `train_generator` is defined)\n",
        "images, labels = next(train_generator)  # This gets one batch of preprocessed images\n",
        "\n",
        "# Set how many images you want to display\n",
        "num_images = 5\n",
        "\n",
        "# Plot the images\n",
        "plt.figure(figsize=(10, 10))\n",
        "for i in range(num_images):\n",
        "    plt.subplot(1, num_images, i + 1)\n",
        "    plt.imshow(images[i].reshape(42, 42), cmap='gray')  # Assuming images are 42x42 and grayscale\n",
        "    plt.axis('off')\n",
        "plt.show()\n"
      ],
      "metadata": {
        "id": "tA1HLLwFVji8",
        "outputId": "795b850d-120a-4056-c500-7722372c1e93",
        "colab": {
          "base_uri": "https://localhost:8080/",
          "height": 170
        }
      },
      "execution_count": 6,
      "outputs": [
        {
          "output_type": "display_data",
          "data": {
            "text/plain": [
              "<Figure size 1000x1000 with 5 Axes>"
            ],
            "image/png": "[encoded data removed]"
          },
          "metadata": {}
        }
      ]
    },
    {
      "cell_type": "markdown",
      "source": [
        "###Building the Model - Hyperparameter Tuning with Keras Tuner\n",
        "\n",
        "Description: This section sets up the Keras Tuner to optimize the hyperparameters of the CNN model, including the number of filters, dense units, dropout rate, learning rate, L2 regularization, batch size, and activation function. It uses the Hyperband search algorithm and evaluates the model based on validation accuracy."
      ],
      "metadata": {
        "id": "ZtDeUHwcd6X0"
      }
    },
    {
      "cell_type": "code",
      "source": [
        "from tensorflow.keras.layers import Input\n",
        "\n",
        "# Function to build the model with hyperparameters\n",
        "def build_model(hp):\n",
        "    model = Sequential()\n",
        "\n",
        "    # Define the input layer explicitly to avoid warnings\n",
        "    model.add(Input(shape=(42, 42, 1)))\n",
        "\n",
        "    # Hyperparameters to tune\n",
        "    hp_filters_1 = hp.Int('filters_1', min_value=32, max_value=128, step=32)\n",
        "    hp_filters_2 = hp.Int('filters_2', min_value=64, max_value=256, step=64)\n",
        "    hp_dense_units = hp.Int('dense_units', min_value=64, max_value=256, step=64)\n",
        "    hp_dropout_rate = hp.Float('dropout_rate', min_value=0.2, max_value=0.5, step=0.1)\n",
        "    hp_learning_rate = hp.Float('learning_rate', min_value=1e-4, max_value=1e-2, sampling='log')\n",
        "    hp_l2_reg = hp.Float('l2_regularization', min_value=1e-5, max_value=1e-2, sampling='log')\n",
        "    hp_batch_size = hp.Choice('batch_size', values=[16, 32, 64])\n",
        "    hp_activation = hp.Choice('activation', values=['relu', 'leaky_relu', 'sigmoid', 'tanh'])\n",
        "\n",
        "    # First convolutional layer\n",
        "    model.add(Conv2D(hp_filters_1, (3, 3), kernel_regularizer=l2(hp_l2_reg)))\n",
        "    if hp_activation == 'leaky_relu':\n",
        "        model.add(tf.keras.layers.LeakyReLU(alpha=0.01))\n",
        "    else:\n",
        "        model.add(tf.keras.layers.Activation(hp_activation))\n",
        "    model.add(BatchNormalization())\n",
        "    model.add(MaxPooling2D((2, 2)))\n",
        "\n",
        "    # Second convolutional layer\n",
        "    model.add(Conv2D(hp_filters_2, (3, 3), kernel_regularizer=l2(hp_l2_reg)))\n",
        "    if hp_activation == 'leaky_relu':\n",
        "        model.add(tf.keras.layers.LeakyReLU(alpha=0.01))\n",
        "    else:\n",
        "        model.add(tf.keras.layers.Activation(hp_activation))\n",
        "    model.add(BatchNormalization())\n",
        "    model.add(MaxPooling2D((2, 2)))\n",
        "\n",
        "    # Fully connected layer\n",
        "    model.add(Flatten())\n",
        "    model.add(Dense(hp_dense_units, kernel_regularizer=l2(hp_l2_reg)))\n",
        "    if hp_activation == 'leaky_relu':\n",
        "        model.add(tf.keras.layers.LeakyReLU(alpha=0.01))\n",
        "    else:\n",
        "        model.add(tf.keras.layers.Activation(hp_activation))\n",
        "    model.add(BatchNormalization())\n",
        "    model.add(Dropout(hp_dropout_rate))\n",
        "\n",
        "    # Output layer\n",
        "    model.add(Dense(train_generator.num_classes, activation='softmax'))\n",
        "\n",
        "    # Compile model\n",
        "    model.compile(optimizer=Adam(learning_rate=hp_learning_rate),\n",
        "                  loss='categorical_crossentropy',\n",
        "                  metrics=['accuracy'])\n",
        "\n",
        "    return model\n",
        "\n"
      ],
      "metadata": {
        "id": "SlvEdFFud-LU"
      },
      "execution_count": 7,
      "outputs": []
    },
    {
      "cell_type": "markdown",
      "source": [
        "###Hyperparameter Tuning with Keras Tune\n",
        "Description:\n",
        "This section sets up the Keras Tuner using the Hyperband search algorithm. It defines the objective (val_accuracy) to optimize and sets a maximum of 20 epochs. The results will be saved in the specified directory."
      ],
      "metadata": {
        "id": "TOKNtgyHeNOt"
      }
    },
    {
      "cell_type": "code",
      "source": [
        "# Instantiate the Keras Tuner\n",
        "tuner = kt.Hyperband(\n",
        "    build_model,\n",
        "    objective='val_accuracy',\n",
        "    max_epochs=20,\n",
        "    factor=3,\n",
        "    directory='my_dir',\n",
        "    project_name='cnn_tuning'\n",
        ")\n"
      ],
      "metadata": {
        "id": "F9V7fGZmfMIY"
      },
      "execution_count": 8,
      "outputs": []
    },
    {
      "cell_type": "markdown",
      "source": [
        "###Callbacks and Running the Hyperparameter Search\n",
        "Description:\n",
        "This section defines two callbacks: EarlyStopping to halt training when the validation loss stops improving, and ReduceLROnPlateau to reduce the learning rate when the validation loss plateaus. Then, it runs the hyperparameter tuning using the tuner.search function on the training and validation datasets."
      ],
      "metadata": {
        "id": "WMs7QOOeefqx"
      }
    },
    {
      "cell_type": "code",
      "source": [
        "# Set up callbacks\n",
        "early_stopping = EarlyStopping(monitor='val_loss', patience=5, restore_best_weights=True)\n",
        "reduce_lr = ReduceLROnPlateau(monitor='val_loss', factor=0.2, patience=3, min_lr=1e-5)\n",
        "\n",
        "# Run the hyperparameter search\n",
        "tuner.search(train_generator,\n",
        "             epochs=20,\n",
        "             validation_data=val_generator,\n",
        "             callbacks=[early_stopping, reduce_lr])\n"
      ],
      "metadata": {
        "id": "qHcj6dACetYE",
        "colab": {
          "base_uri": "https://localhost:8080/"
        },
        "outputId": "249882a1-e025-4daf-f5bf-048b5de4b693"
      },
      "execution_count": null,
      "outputs": [
        {
          "output_type": "stream",
          "name": "stdout",
          "text": [
            "Trial 1 Complete [00h 17m 04s]\n",
            "val_accuracy: 0.00139999995008111\n",
            "\n",
            "Best val_accuracy So Far: 0.00139999995008111\n",
            "Total elapsed time: 00h 17m 04s\n",
            "\n",
            "Search: Running Trial #2\n",
            "\n",
            "Value             |Best Value So Far |Hyperparameter\n",
            "64                |32                |filters_1\n",
            "256               |64                |filters_2\n",
            "128               |256               |dense_units\n",
            "0.3               |0.2               |dropout_rate\n",
            "0.0054484         |0.0034253         |learning_rate\n",
            "7.9613e-05        |2.4704e-05        |l2_regularization\n",
            "64                |16                |batch_size\n",
            "sigmoid           |tanh              |activation\n",
            "3                 |3                 |tuner/epochs\n",
            "0                 |0                 |tuner/initial_epoch\n",
            "2                 |2                 |tuner/bracket\n",
            "0                 |0                 |tuner/round\n",
            "\n",
            "Epoch 1/3\n",
            "\u001b[1m 260/1875\u001b[0m \u001b[32m━━\u001b[0m\u001b[37m━━━━━━━━━━━━━━━━━━\u001b[0m \u001b[1m11:18\u001b[0m 420ms/step - accuracy: 5.5819e-04 - loss: 7.2866"
          ]
        }
      ]
    },
    {
      "cell_type": "markdown",
      "source": [
        "###Retrieve Best Hyperparameters and Model\n",
        "Description:\n",
        "Once the search is complete, this section retrieves the best set of hyperparameters and the model associated with those parameters. It then prints out the optimal values for each hyperparameter."
      ],
      "metadata": {
        "id": "ZcbQnF24ewSc"
      }
    },
    {
      "cell_type": "code",
      "source": [
        "# Get the best hyperparameters and model\n",
        "best_hp = tuner.get_best_hyperparameters(num_trials=1)[0]\n",
        "best_model = tuner.get_best_models(num_models=1)[0]\n",
        "\n",
        "# Print the best hyperparameters found\n",
        "print(\"Best Hyperparameters:\")\n",
        "print(f\"Filters for 1st Conv Layer: {best_hp.get('filters_1')}\")\n",
        "print(f\"Filters for 2nd Conv Layer: {best_hp.get('filters_2')}\")\n",
        "print(f\"Dense Units: {best_hp.get('dense_units')}\")\n",
        "print(f\"Dropout Rate: {best_hp.get('dropout_rate')}\")\n",
        "print(f\"Learning Rate: {best_hp.get('learning_rate')}\")\n",
        "print(f\"L2 Regularization: {best_hp.get('l2_regularization')}\")\n",
        "print(f\"Batch Size: {best_hp.get('batch_size')}\")\n",
        "print(f\"Activation Function: {best_hp.get('activation')}\")\n"
      ],
      "metadata": {
        "id": "PBU_3yFjeVnV"
      },
      "execution_count": null,
      "outputs": []
    },
    {
      "cell_type": "markdown",
      "source": [
        "###Section 6: Model Summary and Final Training\n",
        "Description:\n",
        "This section prints the architecture of the best model found by the tuner. It then trains the model using the optimal hyperparameters on the full dataset for 20 epochs with the defined callbacks."
      ],
      "metadata": {
        "id": "OaKLYD2QfaS0"
      }
    },
    {
      "cell_type": "code",
      "source": [
        "# Print the model architecture\n",
        "print(\"\\nWinning Model Architecture:\")\n",
        "best_model.summary()\n",
        "\n",
        "# Train the model with the best hyperparameters on the full dataset\n",
        "history = best_model.fit(train_generator,\n",
        "                         epochs=20,\n",
        "                         validation_data=val_generator,\n",
        "                         callbacks=[early_stopping, reduce_lr])\n"
      ],
      "metadata": {
        "id": "UK5EconQfiGi"
      },
      "execution_count": null,
      "outputs": []
    },
    {
      "cell_type": "markdown",
      "source": [
        "###Plot Learning Curves\n",
        "Description:\n",
        "This section visualises the training and validation accuracy and loss over time by plotting the learning curves. It uses matplotlib to display two subplots: one for accuracy and one for loss."
      ],
      "metadata": {
        "id": "a37MJhSWflRc"
      }
    },
    {
      "cell_type": "code",
      "source": [
        "# Plot learning curves\n",
        "import matplotlib.pyplot as plt\n",
        "\n",
        "plt.figure(figsize=(12, 4))\n",
        "\n",
        "plt.subplot(1, 2, 1)\n",
        "plt.plot(history.history['accuracy'], label='accuracy')\n",
        "plt.plot(history.history['val_accuracy'], label='val_accuracy')\n",
        "plt.xlabel('Epoch')\n",
        "plt.ylabel('Accuracy')\n",
        "plt.ylim([0, 1])\n",
        "plt.legend(loc='lower right')\n",
        "\n",
        "plt.subplot(1, 2, 2)\n",
        "plt.plot(history.history['loss'], label='loss')\n",
        "plt.plot(history.history['val_loss'], label='val_loss')\n",
        "plt.xlabel('Epoch')\n",
        "plt.ylabel('Loss')\n",
        "plt.legend(loc='upper right')\n",
        "\n",
        "plt.show()\n"
      ],
      "metadata": {
        "id": "elrgkBVsfsIi"
      },
      "execution_count": null,
      "outputs": []
    },
    {
      "cell_type": "markdown",
      "source": [
        "###Evaluate the Model on Test Data\n",
        "Description:\n",
        "This section evaluates the best model on the test dataset and prints the resulting accuracy. This provides a measure of how well the model generalizes to unseen data."
      ],
      "metadata": {
        "id": "1Win4yThfv15"
      }
    },
    {
      "cell_type": "code",
      "source": [
        "# Evaluate the model on the test data\n",
        "test_loss, test_accuracy = best_model.evaluate(test_generator)\n",
        "print(f'Test accuracy: {test_accuracy:.4f}')\n"
      ],
      "metadata": {
        "id": "C9IEVhkuf0sk"
      },
      "execution_count": null,
      "outputs": []
    },
    {
      "cell_type": "markdown",
      "source": [
        "###Confusion Matrix Normalization\n",
        "Description: This section normalizes the confusion matrix by dividing each element by the sum of the respective rows (i.e., the number of occurrences for each class). It ensures that each row sums to 1 and visualizes the normalized matrix for better understanding of the classifier's performance."
      ],
      "metadata": {
        "id": "qWCmH8pf610H"
      }
    },
    {
      "cell_type": "code",
      "source": [
        "# Normalize the confusion matrix by dividing each value by the sum of its row (i.e., number of actual occurrences per class)\n",
        "# Add a small value (epsilon) to avoid division by zero\n",
        "epsilon = 1e-10  # Small value to prevent division by zero\n",
        "conf_matrix_subset_normalized = conf_matrix_subset.astype('float') / (conf_matrix_subset.sum(axis=1)[:, np.newaxis] + epsilon)\n",
        "\n",
        "plt.figure(figsize=(12, 10))  # Increase the size of the figure\n",
        "sns.heatmap(conf_matrix_subset_normalized, annot=False, fmt='.2f', cmap='Blues',\n",
        "            xticklabels=list(test_generator.class_indices.keys())[:20],  # Limit to first 20 classes for readability\n",
        "            yticklabels=list(test_generator.class_indices.keys())[:20])  # Adjust this number as needed\n",
        "plt.xticks(rotation=90)  # Rotate x-axis labels for better readability\n",
        "plt.yticks(rotation=0)  # Keep y-axis labels horizontal\n",
        "plt.title('Normalized Confusion Matrix (Subset)')\n",
        "plt.ylabel('Actual Label')\n",
        "plt.xlabel('Predicted Label')\n",
        "plt.show()\n"
      ],
      "metadata": {
        "id": "TPzTaF9yBZyT"
      },
      "execution_count": null,
      "outputs": []
    },
    {
      "cell_type": "markdown",
      "source": [
        "###Classification Report Generation\n",
        "Description: This section generates a classification report for the model, including precision, recall, f1-score, and support for each class. It prints a summary for the entire dataset based on the model’s predictions."
      ],
      "metadata": {
        "id": "_R71YSo07C-c"
      }
    },
    {
      "cell_type": "code",
      "source": [
        "from sklearn.metrics import classification_report\n",
        "\n",
        "# Predict probabilities for the test set\n",
        "pred_probabilities = best_model.predict(test_generator, steps=test_generator.samples // test_generator.batch_size)\n",
        "\n",
        "# Convert probabilities to class indices\n",
        "pred_classes = np.argmax(pred_probabilities, axis=1)\n",
        "\n",
        "# Get true classes\n",
        "true_classes = test_generator.classes\n",
        "\n",
        "# Generate a classification report\n",
        "report = classification_report(true_classes, pred_classes, target_names=test_generator.class_indices.keys())\n",
        "print(report)\n"
      ],
      "metadata": {
        "id": "GFwHHkE6Cbj1"
      },
      "execution_count": null,
      "outputs": []
    },
    {
      "cell_type": "markdown",
      "source": [
        "###Generating and Converting Classification Report to Dictionary Format\n",
        "Description:\n",
        "This section of the code generates a detailed classification report using sklearn.metrics.classification_report, which includes metrics like precision, recall, F1-score, and support for each class based on the true labels and predicted labels from the model. Additionally, it converts the report into a dictionary format for further analysis or processing."
      ],
      "metadata": {
        "id": "e45G4tAWD8WV"
      }
    },
    {
      "cell_type": "code",
      "source": [
        "from sklearn.metrics import classification_report\n",
        "import numpy as np\n",
        "\n",
        "# Assuming true_classes and pred_classes are already defined\n",
        "true_classes = test_generator.classes  # Actual classes\n",
        "pred_probabilities = best_model.predict(test_generator, steps=test_generator.samples // test_generator.batch_size, verbose=1)\n",
        "pred_classes = np.argmax(pred_probabilities, axis=1)\n",
        "\n",
        "# Generate classification report and convert it to dictionary format\n",
        "classification_report_dict = classification_report(true_classes, pred_classes, output_dict=True)\n"
      ],
      "metadata": {
        "id": "VLuaD1aA-ZcS"
      },
      "execution_count": null,
      "outputs": []
    },
    {
      "cell_type": "markdown",
      "source": [
        "###F1-Score Visualization per Class\n",
        "Description: This section visualizes the F1-score for each class using bar plots. It provides various visualizations, such as showing the top classes by F1-score and the bottom classes, for deeper performance analysis.\n",
        "\n"
      ],
      "metadata": {
        "id": "ez7Xw5vk-CPf"
      }
    },
    {
      "cell_type": "code",
      "source": [
        "import pandas as pd\n",
        "import matplotlib.pyplot as plt\n",
        "\n",
        "# Convert the classification report to a DataFrame for easier plotting\n",
        "classification_report_df = pd.DataFrame(classification_report_dict).transpose()\n",
        "\n",
        "# Exclude 'accuracy', 'macro avg', and 'weighted avg' from the plot\n",
        "class_scores = classification_report_df[:-3]\n",
        "\n",
        "# Plotting F1-score for a subset of classes (e.g., first 20)\n",
        "plt.figure(figsize=(15, 5))\n",
        "plt.bar(class_scores.index[:20], class_scores['f1-score'][:20], color='skyblue', width=0.6)\n",
        "plt.xticks(rotation=45)\n",
        "plt.xlabel('Classes')\n",
        "plt.ylabel('F1-Score')\n",
        "plt.title('F1-Score per Class (Subset)')\n",
        "plt.grid(axis='y', linestyle='--', alpha=0.7)\n",
        "plt.show()\n",
        "\n",
        "# Sorting classes by F1-score and plotting\n",
        "sorted_class_scores = class_scores.sort_values('f1-score', ascending=False)\n",
        "\n",
        "plt.figure(figsize=(15, 5))\n",
        "plt.bar(sorted_class_scores.index, sorted_class_scores['f1-score'], color='skyblue', width=0.6)\n",
        "plt.xticks(rotation=45)\n",
        "plt.xlabel('Classes')\n",
        "plt.ylabel('F1-Score')\n",
        "plt.title('F1-Score per Class (Sorted)')\n",
        "plt.grid(axis='y', linestyle='--', alpha=0.7)\n",
        "plt.show()\n",
        "\n",
        "# Plotting the top 10 classes with highest F1-score\n",
        "plt.figure(figsize=(10, 5))\n",
        "plt.bar(sorted_class_scores.index[:10], sorted_class_scores['f1-score'][:10], color='skyblue', width=0.6)\n",
        "plt.xticks(rotation=45)\n",
        "plt.xlabel('Classes')\n",
        "plt.ylabel('F1-Score')\n",
        "plt.title('Top 10 Classes by F1-Score')\n",
        "plt.grid(axis='y', linestyle='--', alpha=0.7)\n",
        "plt.show()\n",
        "\n",
        "# Plotting the bottom 10 classes with lowest F1-score\n",
        "plt.figure(figsize=(10, 5))\n",
        "plt.bar(sorted_class_scores.index[-10:], sorted_class_scores['f1-score'][-10:], color='skyblue', width=0.6)\n",
        "plt.xticks(rotation=45)\n",
        "plt.xlabel('Classes')\n",
        "plt.ylabel('F1-Score')\n",
        "plt.title('Bottom 10 Classes by F1-Score')\n",
        "plt.grid(axis='y', linestyle='--', alpha=0.7)\n",
        "plt.show()\n"
      ],
      "metadata": {
        "id": "GzjN8L5q9zNE"
      },
      "execution_count": null,
      "outputs": []
    },
    {
      "cell_type": "markdown",
      "source": [
        "###Precision-Recall Curve\n",
        "Description: This section generates and visualises the precision-recall curve for each class, allowing evaluation of how the model performs across recall thresholds for different classes."
      ],
      "metadata": {
        "id": "r236MJme-Mau"
      }
    },
    {
      "cell_type": "code",
      "source": [
        "import numpy as np\n",
        "import matplotlib.pyplot as plt\n",
        "from sklearn.metrics import precision_recall_curve\n",
        "import tensorflow as tf\n",
        "\n",
        "# Suppress TensorFlow logging\n",
        "tf.get_logger().setLevel('ERROR')\n",
        "\n",
        "# Assuming you have your test generator\n",
        "test_generator.reset()  # Reset generator to start from the beginning\n",
        "\n",
        "# Obtain true classes and predicted probabilities\n",
        "y_true = []\n",
        "y_scores = []\n",
        "\n",
        "# Loop through the test generator to get all batches\n",
        "for _ in range(len(test_generator)):\n",
        "    X_batch, y_batch = next(test_generator)\n",
        "    y_true.extend(np.argmax(y_batch, axis=1))\n",
        "    y_scores_batch = best_model.predict(X_batch, verbose=0)  # Suppress verbose output with verbose=0\n",
        "    y_scores.extend(y_scores_batch)\n",
        "\n",
        "# Convert lists to numpy arrays for easier processing\n",
        "y_true = np.array(y_true)\n",
        "y_scores = np.array(y_scores)\n",
        "\n",
        "# Debugging outputs\n",
        "print(f'y_true shape: {y_true.shape}')\n",
        "print(f'y_scores shape: {y_scores.shape}')\n",
        "print(f'First few y_true values: {y_true[:10]}')\n",
        "print(f'First few y_scores values: {y_scores[:10]}')\n",
        "\n",
        "# Generate precision-recall curves for each class\n",
        "plt.figure(figsize=(10, 8))\n",
        "\n",
        "for i in range(len(test_generator.class_indices)):  # Loop through each class\n",
        "    precision, recall, _ = precision_recall_curve(y_true == i, y_scores[:, i])\n",
        "    plt.plot(recall, precision, lw=2, label=f'Class {i}')\n",
        "\n",
        "plt.xlabel('Recall')\n",
        "plt.ylabel('Precision')\n",
        "plt.title('Precision-Recall Curve for Each Class')\n",
        "plt.legend(loc='upper center', bbox_to_anchor=(0.5, -0.15), fancybox=True, shadow=True, ncol=5)  # Adjust legend position\n",
        "plt.grid(True)\n",
        "plt.show()\n"
      ],
      "metadata": {
        "id": "1pXMrXcp94sg"
      },
      "execution_count": null,
      "outputs": []
    },
    {
      "cell_type": "markdown",
      "source": [
        "###ROC Curve Visualization\n",
        "Description: This section generates ROC curves for each class and visualizes the true positive rate (sensitivity) against the false positive rate (1-specificity)."
      ],
      "metadata": {
        "id": "oQZwe7_U-UmC"
      }
    },
    {
      "cell_type": "code",
      "source": [
        "from sklearn.metrics import roc_curve, auc\n",
        "from sklearn.preprocessing import label_binarize\n",
        "import matplotlib.pyplot as plt\n",
        "\n",
        "# Binarize the output classes for multiclass ROC calculation\n",
        "n_classes = len(test_generator.class_indices)\n",
        "y_true_bin = label_binarize(true_classes, classes=list(range(n_classes)))\n",
        "\n",
        "plt.figure(figsize=(10, 8))\n",
        "\n",
        "for i in range(n_classes):\n",
        "    fpr, tpr, _ = roc_curve(y_true_bin[:, i], pred_probabilities[:, i])\n",
        "    roc_auc = auc(fpr, tpr)\n",
        "    plt.plot(fpr, tpr, lw=1, label=f'Class {i} (area = {roc_auc:.2f})')\n",
        "\n",
        "plt.plot([0, 1], [0, 1], 'k--')\n",
        "plt.xlabel('False Positive Rate')\n",
        "plt.ylabel('True Positive Rate')\n",
        "plt.title('ROC Curve for Each Class')\n",
        "\n",
        "# Modify the legend to place it below the plot and format it as a square\n",
        "plt.legend(loc='upper center', bbox_to_anchor=(0.5, -0.15), ncol=8, fontsize='small', frameon=False)\n",
        "\n",
        "plt.show()\n"
      ],
      "metadata": {
        "id": "Phy-71eJ-Ac4"
      },
      "execution_count": null,
      "outputs": []
    },
    {
      "cell_type": "markdown",
      "source": [
        "###Visualization of Correct and Incorrect Predictions in CNN\n",
        "Description:\n",
        "This code is designed to visualize the results of a Convolutional Neural Network (CNN) by displaying a few examples of both correct and incorrect predictions made by the model on the dataset. It iterates over batches of images, identifies where the model predictions are correct or incorrect, and plots a few examples of each. The displayed images show the predicted class and the true class, helping assess how well the model is performing and understand common mistakes it may be making.\n",
        "\n",
        "Key functionalities include:\n",
        "*   Displaying correctly predicted images with the predicted class label.\n",
        "*   Displaying incorrectly predicted images alongside both the predicted and true class labels.\n",
        "*   Ensuring that multiple examples are shown in a neatly arranged grid for easy comparison."
      ],
      "metadata": {
        "id": "UEVArIAL-ycy"
      }
    },
    {
      "cell_type": "code",
      "source": [
        "import numpy as np\n",
        "import matplotlib.pyplot as plt\n",
        "\n",
        "# Show a few examples of correct and incorrect predictions\n",
        "fig, axes = plt.subplots(2, 5, figsize=(15, 6))\n",
        "axes = axes.ravel()\n",
        "\n",
        "correct_count = 0\n",
        "incorrect_count = 0\n",
        "seen_correct_classes = set()\n",
        "seen_incorrect_classes = set()\n",
        "\n",
        "# Iterate over multiple batches\n",
        "while correct_count < 5 or incorrect_count < 5:\n",
        "    X_batch, y_batch = next(test_generator)\n",
        "    pred_probs = best_model.predict(X_batch)\n",
        "    preds = np.argmax(pred_probs, axis=1)\n",
        "\n",
        "    # Process correct predictions\n",
        "    if correct_count < 5:\n",
        "        correct_indices = np.where(preds == np.argmax(y_batch, axis=1))[0]\n",
        "        for index in correct_indices:\n",
        "            predicted_class = preds[index]\n",
        "            if correct_count < 5 and predicted_class not in seen_correct_classes:\n",
        "                axes[correct_count].set_title(f'Correct: {predicted_class}')\n",
        "                axes[correct_count].imshow(X_batch[index].squeeze(), cmap='gray')\n",
        "                correct_count += 1\n",
        "                seen_correct_classes.add(predicted_class)\n",
        "            if correct_count >= 5:\n",
        "                break\n",
        "\n",
        "    # Process incorrect predictions\n",
        "    if incorrect_count < 5:\n",
        "        incorrect_indices = np.where(preds != np.argmax(y_batch, axis=1))[0]\n",
        "        for index in incorrect_indices:\n",
        "            predicted_class = preds[index]\n",
        "            true_class = np.argmax(y_batch[index])\n",
        "            if incorrect_count < 5 and (predicted_class, true_class) not in seen_incorrect_classes:\n",
        "                axes[5 + incorrect_count].set_title(f'Incorrect: {predicted_class}, True: {true_class}')\n",
        "                axes[5 + incorrect_count].imshow(X_batch[index].squeeze(), cmap='gray')\n",
        "                incorrect_count += 1\n",
        "                seen_incorrect_classes.add((predicted_class, true_class))\n",
        "            if incorrect_count >= 5:\n",
        "                break\n",
        "\n",
        "    # Check if all required images have been found\n",
        "    if correct_count >= 5 and incorrect_count >= 5:\n",
        "        break\n",
        "\n",
        "plt.tight_layout()\n",
        "plt.show()\n"
      ],
      "metadata": {
        "id": "IHb5ilxN-F0b"
      },
      "execution_count": null,
      "outputs": []
    }
  ]
}