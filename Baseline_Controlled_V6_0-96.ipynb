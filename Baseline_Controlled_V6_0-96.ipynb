{
  "cells": [
    {
      "cell_type": "markdown",
      "metadata": {
        "id": "view-in-github",
        "colab_type": "text"
      },
      "source": [
        "<a href=\"https://colab.research.google.com/github/LukmaanViscomi/AI-Deep-Learning/blob/main/Baseline_Controlled_V6_0-96.ipynb\" target=\"_parent\"><img src=\"https://colab.research.google.com/assets/colab-badge.svg\" alt=\"Open In Colab\"/></a>"
      ]
    },
    {
      "cell_type": "code",
      "source": [
        "from google.colab import drive\n",
        "drive.mount('/content/drive')"
      ],
      "metadata": {
        "id": "LaX22OZP8aGs",
        "outputId": "0a8341de-1c46-4906-bd14-e8eabf4df0ad",
        "colab": {
          "base_uri": "https://localhost:8080/"
        }
      },
      "id": "LaX22OZP8aGs",
      "execution_count": null,
      "outputs": [
        {
          "output_type": "stream",
          "name": "stdout",
          "text": [
            "Mounted at /content/drive\n"
          ]
        }
      ]
    },
    {
      "cell_type": "markdown",
      "source": [
        "### Unzip The Data"
      ],
      "metadata": {
        "id": "8jBACT8WZpU0"
      },
      "id": "8jBACT8WZpU0"
    },
    {
      "cell_type": "code",
      "execution_count": null,
      "metadata": {
        "colab": {
          "base_uri": "https://localhost:8080/"
        },
        "outputId": "c49fa152-160e-4a8e-e49c-9e474b54dcf9",
        "id": "B7VMjoG9U4Nm"
      },
      "outputs": [
        {
          "output_type": "stream",
          "name": "stdout",
          "text": [
            "Reading package lists... Done\n",
            "Building dependency tree... Done\n",
            "Reading state information... Done\n",
            "p7zip-full is already the newest version (16.02+dfsg-8).\n",
            "0 upgraded, 0 newly installed, 0 to remove and 45 not upgraded.\n",
            "Collecting patool\n",
            "  Downloading patool-2.4.0-py2.py3-none-any.whl.metadata (4.0 kB)\n",
            "Downloading patool-2.4.0-py2.py3-none-any.whl (96 kB)\n",
            "\u001b[2K   \u001b[90m━━━━━━━━━━━━━━━━━━━━━━━━━━━━━━━━━━━━━━━━\u001b[0m \u001b[32m96.9/96.9 kB\u001b[0m \u001b[31m3.5 MB/s\u001b[0m eta \u001b[36m0:00:00\u001b[0m\n",
            "\u001b[?25hInstalling collected packages: patool\n",
            "Successfully installed patool-2.4.0\n"
          ]
        },
        {
          "output_type": "stream",
          "name": "stderr",
          "text": [
            "INFO patool: Extracting /content/drive/MyDrive/dataset2 (1).zip ...\n",
            "INFO:patool:Extracting /content/drive/MyDrive/dataset2 (1).zip ...\n",
            "INFO patool: ... creating output directory `./dataset2'.\n",
            "INFO:patool:... creating output directory `./dataset2'.\n",
            "INFO patool: running /usr/bin/7z x -o./dataset2 -- \"/content/drive/MyDrive/dataset2 (1).zip\"\n",
            "INFO:patool:running /usr/bin/7z x -o./dataset2 -- \"/content/drive/MyDrive/dataset2 (1).zip\"\n",
            "INFO patool:     with input=''\n",
            "INFO:patool:    with input=''\n",
            "INFO patool: ... /content/drive/MyDrive/dataset2 (1).zip extracted to `./dataset2'.\n",
            "INFO:patool:... /content/drive/MyDrive/dataset2 (1).zip extracted to `./dataset2'.\n"
          ]
        },
        {
          "output_type": "stream",
          "name": "stdout",
          "text": [
            "['triple_mnist']\n"
          ]
        }
      ],
      "source": [
        "### Section 1: Setup and Dependencies\n",
        "!apt-get install p7zip-full # Install 7-Zip\n",
        "!pip install patool # Install the patool library which provides the patoolib module\n",
        "import zipfile\n",
        "import os\n",
        "import patoolib # Now you can import patoolib\n",
        "\n",
        "# Path to the uploaded zip file\n",
        "zip_file_path = '/content/drive/MyDrive/dataset2 (1).zip'\n",
        "extracted_folder_path = './dataset2'  # Use a relative path for the extraction directory\n",
        "\n",
        "# Extract the zip file using patool\n",
        "patoolib.extract_archive(zip_file_path, outdir=extracted_folder_path)\n",
        "\n",
        "# List the contents of the extracted folder\n",
        "extracted_files = os.listdir(extracted_folder_path)\n",
        "print(extracted_files)\n",
        "\n",
        "### Section 2 : Inspecting the Original Dataset\n"
      ],
      "id": "B7VMjoG9U4Nm"
    },
    {
      "cell_type": "markdown",
      "source": [
        "### Redistribute The Dataset For Train/Val/Test"
      ],
      "metadata": {
        "id": "IebDDjncZ1E3"
      },
      "id": "IebDDjncZ1E3"
    },
    {
      "cell_type": "code",
      "source": [
        "#\n",
        "import os\n",
        "import shutil\n",
        "from pathlib import Path\n",
        "import random\n",
        "\n",
        "# Paths to original directories\n",
        "original_base_dir = Path('dataset2/triple_mnist')\n",
        "original_train_dir = original_base_dir / 'train'\n",
        "original_val_dir = original_base_dir / 'val'\n",
        "original_test_dir = original_base_dir / 'test'\n",
        "\n",
        "# Path to the new dataset directory\n",
        "new_base_dir = Path('dataset-c/triple_mnist')\n",
        "new_train_dir = new_base_dir / 'train'\n",
        "new_val_dir = new_base_dir / 'val'\n",
        "new_test_dir = new_base_dir / 'test'\n",
        "\n",
        "# Ensure the new directories exist\n",
        "new_train_dir.mkdir(parents=True, exist_ok=True)\n",
        "new_val_dir.mkdir(parents=True, exist_ok=True)\n",
        "new_test_dir.mkdir(parents=True, exist_ok=True)\n",
        "\n",
        "# Function to split and copy files\n",
        "def split_and_copy_files(src_dir, new_train_dir, new_val_dir, new_test_dir, train_ratio=0.6, val_ratio=0.2, test_ratio=0.2):\n",
        "    if not src_dir.exists():\n",
        "        return\n",
        "\n",
        "    classes = sorted(os.listdir(src_dir))\n",
        "\n",
        "    for cls in classes:\n",
        "        cls_path = src_dir / cls\n",
        "        if cls_path.is_dir():\n",
        "            images = list(cls_path.glob('*'))\n",
        "            random.shuffle(images)\n",
        "\n",
        "            num_train = int(len(images) * train_ratio)\n",
        "            num_val = int(len(images) * val_ratio)\n",
        "\n",
        "            train_images = images[:num_train]\n",
        "            val_images = images[num_train:num_train+num_val]\n",
        "            test_images = images[num_train+num_val:]\n",
        "\n",
        "            cls_train_dir = new_train_dir / cls\n",
        "            cls_val_dir = new_val_dir / cls\n",
        "            cls_test_dir = new_test_dir / cls\n",
        "\n",
        "            cls_train_dir.mkdir(parents=True, exist_ok=True)\n",
        "            cls_val_dir.mkdir(parents=True, exist_ok=True)\n",
        "            cls_test_dir.mkdir(parents=True, exist_ok=True)\n",
        "\n",
        "            for img in train_images:\n",
        "                shutil.copy(str(img), str(cls_train_dir / img.name))\n",
        "            for img in val_images:\n",
        "                shutil.copy(str(img), str(cls_val_dir / img.name))\n",
        "            for img in test_images:\n",
        "                shutil.copy(str(img), str(cls_test_dir / img.name))\n",
        "\n",
        "# Split and copy files from original train, val, and test directories\n",
        "split_and_copy_files(original_train_dir, new_train_dir, new_val_dir, new_test_dir)\n",
        "split_and_copy_files(original_val_dir, new_train_dir, new_val_dir, new_test_dir)\n",
        "split_and_copy_files(original_test_dir, new_train_dir, new_val_dir, new_test_dir)\n",
        "\n",
        "print(\"Files split and copied successfully!\")"
      ],
      "metadata": {
        "colab": {
          "base_uri": "https://localhost:8080/"
        },
        "id": "XFDSyQu_wCfZ",
        "outputId": "d9872c12-96b5-44de-cfee-f5e6761cabad"
      },
      "execution_count": null,
      "outputs": [
        {
          "output_type": "stream",
          "name": "stdout",
          "text": [
            "Files split and copied successfully!\n"
          ]
        }
      ],
      "id": "XFDSyQu_wCfZ"
    },
    {
      "cell_type": "markdown",
      "source": [
        "### Imports and Initial Setup -Define Directory"
      ],
      "metadata": {
        "id": "xRdYRpbKmpo1"
      },
      "id": "xRdYRpbKmpo1"
    },
    {
      "cell_type": "code",
      "execution_count": null,
      "id": "234ea77d",
      "metadata": {
        "execution": {
          "iopub.execute_input": "2024-07-09T18:08:10.360231Z",
          "iopub.status.busy": "2024-07-09T18:08:10.359364Z",
          "iopub.status.idle": "2024-07-09T18:08:26.328473Z",
          "shell.execute_reply": "2024-07-09T18:08:26.327378Z"
        },
        "papermill": {
          "duration": 15.979859,
          "end_time": "2024-07-09T18:08:26.331691",
          "exception": false,
          "start_time": "2024-07-09T18:08:10.351832",
          "status": "completed"
        },
        "tags": [],
        "id": "234ea77d"
      },
      "outputs": [],
      "source": [
        "import os\n",
        "import numpy as np\n",
        "import tensorflow as tf\n",
        "from tensorflow.keras.preprocessing.image import ImageDataGenerator\n",
        "from tensorflow.keras.models import Sequential\n",
        "from tensorflow.keras.layers import Conv2D, MaxPooling2D, Flatten, Dense, Dropout\n",
        "from tensorflow.keras.callbacks import ReduceLROnPlateau\n",
        "import matplotlib.pyplot as plt\n",
        "from sklearn.utils.class_weight import compute_class_weight\n",
        "\n"
      ]
    },
    {
      "cell_type": "markdown",
      "source": [
        "### Data Generators for the Subset"
      ],
      "metadata": {
        "id": "SzGKm4Qgm7c1"
      },
      "id": "SzGKm4Qgm7c1"
    },
    {
      "cell_type": "code",
      "source": [
        "# Define directories for training, validation, and testing datasets\n",
        "train_dir = os.path.join('/content/dataset-c/triple_mnist/train')\n",
        "val_dir = os.path.join('/content/dataset-c/triple_mnist/val')\n",
        "test_dir = os.path.join('/content/dataset-c/triple_mnist/test')\n",
        "\n",
        "# Image size and batch size\n",
        "image_size = (42, 42)\n",
        "batch_size = 32\n",
        "\n",
        "# Create ImageDataGenerator with color_mode set to 'grayscale'\n",
        "train_datagen = ImageDataGenerator(rescale=1.0/255.0)\n",
        "val_datagen = ImageDataGenerator(rescale=1.0/255.0)\n",
        "test_datagen = ImageDataGenerator(rescale=1.0/255.0)\n",
        "\n",
        "# Load images with 'grayscale' mode\n",
        "train_generator = train_datagen.flow_from_directory(\n",
        "    train_dir,\n",
        "    target_size=image_size,\n",
        "    batch_size=batch_size,\n",
        "    class_mode='categorical',\n",
        "    color_mode='grayscale',  # Convert images to grayscale\n",
        "    shuffle=True\n",
        ")\n",
        "\n",
        "val_generator = val_datagen.flow_from_directory(\n",
        "    val_dir,\n",
        "    target_size=image_size,\n",
        "    batch_size=batch_size,\n",
        "    class_mode='categorical',\n",
        "    color_mode='grayscale',  # Convert images to grayscale\n",
        "    shuffle=False\n",
        ")\n",
        "\n",
        "test_generator = test_datagen.flow_from_directory(\n",
        "    test_dir,\n",
        "    target_size=image_size,\n",
        "    batch_size=batch_size,\n",
        "    class_mode='categorical',\n",
        "    color_mode='grayscale',  # Convert images to grayscale\n",
        "    shuffle=False\n",
        ")"
      ],
      "metadata": {
        "colab": {
          "base_uri": "https://localhost:8080/"
        },
        "id": "uX6DrweQWvko",
        "outputId": "3e65b05b-e482-4955-dc9c-1265b699f04f"
      },
      "id": "uX6DrweQWvko",
      "execution_count": null,
      "outputs": [
        {
          "output_type": "stream",
          "name": "stdout",
          "text": [
            "Found 60000 images belonging to 1000 classes.\n",
            "Found 20000 images belonging to 1000 classes.\n",
            "Found 20000 images belonging to 1000 classes.\n"
          ]
        }
      ]
    },
    {
      "cell_type": "markdown",
      "source": [
        "### Build the model"
      ],
      "metadata": {
        "id": "Y1TqgOCJnhud"
      },
      "id": "Y1TqgOCJnhud"
    },
    {
      "cell_type": "markdown",
      "source": [
        "25-8-2024: 18:45...ok this is completely new code run. we ave left out the data augmentation. so with the exising 93% result we are just looking to use the keras hypeeband tuner to see if it can fins a best hyperparamater mix to get up past 93%"
      ],
      "metadata": {
        "id": "Vvtk4hGwpIfn"
      },
      "id": "Vvtk4hGwpIfn"
    },
    {
      "cell_type": "code",
      "source": [
        "!pip install keras-tuner -q"
      ],
      "metadata": {
        "colab": {
          "base_uri": "https://localhost:8080/"
        },
        "id": "bc8PpomJoKfZ",
        "outputId": "1e4ec7c3-1201-4088-8c81-d1e5300303ee"
      },
      "id": "bc8PpomJoKfZ",
      "execution_count": null,
      "outputs": [
        {
          "output_type": "stream",
          "name": "stdout",
          "text": [
            "\u001b[?25l   \u001b[90m━━━━━━━━━━━━━━━━━━━━━━━━━━━━━━━━━━━━━━━━\u001b[0m \u001b[32m0.0/129.1 kB\u001b[0m \u001b[31m?\u001b[0m eta \u001b[36m-:--:--\u001b[0m\r\u001b[2K   \u001b[90m━━━━━━━━━━━━━━━━━━━━━━━━━━━━━━━━━━━━━━━━\u001b[0m \u001b[32m129.1/129.1 kB\u001b[0m \u001b[31m3.7 MB/s\u001b[0m eta \u001b[36m0:00:00\u001b[0m\n",
            "\u001b[?25h"
          ]
        }
      ]
    },
    {
      "cell_type": "code",
      "source": [
        "import keras_tuner as kt\n",
        "from tensorflow.keras.models import Sequential\n",
        "from tensorflow.keras.layers import Conv2D, MaxPooling2D, Flatten, Dense, Dropout, BatchNormalization\n",
        "from tensorflow.keras.optimizers import Adam\n",
        "from tensorflow.keras.activations import relu, sigmoid, tanh\n",
        "from tensorflow.keras.callbacks import EarlyStopping, ReduceLROnPlateau\n",
        "\n",
        "# Function to build the model with hyperparameters\n",
        "def build_model(hp):\n",
        "    model = Sequential()\n",
        "\n",
        "    # Hyperparameters to tune\n",
        "    hp_filters_1 = hp.Int('filters_1', min_value=32, max_value=128, step=32)\n",
        "    hp_filters_2 = hp.Int('filters_2', min_value=64, max_value=256, step=64)\n",
        "    hp_dense_units = hp.Int('dense_units', min_value=64, max_value=256, step=64)\n",
        "    hp_dropout_rate = hp.Float('dropout_rate', min_value=0.2, max_value=0.5, step=0.1)\n",
        "    hp_learning_rate = hp.Float('learning_rate', min_value=1e-4, max_value=1e-2, sampling='log')\n",
        "    hp_batch_size = hp.Choice('batch_size', values=[16, 32, 64])  # Adding batch size as a hyperparameter\n",
        "    hp_activation = hp.Choice('activation', values=['relu', 'leaky_relu', 'sigmoid', 'tanh'])  # Adding activation function as a hyperparameter\n",
        "\n",
        "    # First convolutional layer\n",
        "    model.add(Conv2D(hp_filters_1, (3, 3), input_shape=(42, 42, 1)))\n",
        "    if hp_activation == 'leaky_relu':\n",
        "        model.add(tf.keras.layers.LeakyReLU(alpha=0.01))\n",
        "    else:\n",
        "        model.add(tf.keras.layers.Activation(hp_activation))\n",
        "    model.add(BatchNormalization())\n",
        "    model.add(MaxPooling2D((2, 2)))\n",
        "\n",
        "    # Second convolutional layer\n",
        "    model.add(Conv2D(hp_filters_2, (3, 3)))\n",
        "    if hp_activation == 'leaky_relu':\n",
        "        model.add(tf.keras.layers.LeakyReLU(alpha=0.01))\n",
        "    else:\n",
        "        model.add(tf.keras.layers.Activation(hp_activation))\n",
        "    model.add(BatchNormalization())\n",
        "    model.add(MaxPooling2D((2, 2)))\n",
        "\n",
        "    # Fully connected layer\n",
        "    model.add(Flatten())\n",
        "    model.add(Dense(hp_dense_units))\n",
        "    if hp_activation == 'leaky_relu':\n",
        "        model.add(tf.keras.layers.LeakyReLU(alpha=0.01))\n",
        "    else:\n",
        "        model.add(tf.keras.layers.Activation(hp_activation))\n",
        "    model.add(BatchNormalization())\n",
        "    model.add(Dropout(hp_dropout_rate))\n",
        "\n",
        "    # Output layer\n",
        "    model.add(Dense(train_generator.num_classes, activation='softmax'))\n",
        "\n",
        "    # Compile model\n",
        "    model.compile(optimizer=Adam(learning_rate=hp_learning_rate),\n",
        "                  loss='categorical_crossentropy',\n",
        "                  metrics=['accuracy'])\n",
        "\n",
        "    return model\n",
        "\n",
        "# Instantiate the Keras Tuner\n",
        "tuner = kt.Hyperband(\n",
        "    build_model,\n",
        "    objective='val_accuracy',\n",
        "    max_epochs=20,\n",
        "    factor=3,\n",
        "    directory='my_dir',\n",
        "    project_name='cnn_tuning'\n",
        ")\n",
        "\n",
        "# Set up callbacks\n",
        "early_stopping = EarlyStopping(monitor='val_loss', patience=5, restore_best_weights=True)\n",
        "reduce_lr = ReduceLROnPlateau(monitor='val_loss', factor=0.2, patience=3, min_lr=1e-5)\n",
        "\n",
        "# Run the hyperparameter search\n",
        "tuner.search(train_generator,\n",
        "             epochs=20,\n",
        "             validation_data=val_generator,\n",
        "             callbacks=[early_stopping, reduce_lr])\n",
        "\n",
        "# Get the best hyperparameters and model\n",
        "best_hp = tuner.get_best_hyperparameters(num_trials=1)[0]\n",
        "best_model = tuner.get_best_models(num_models=1)[0]\n",
        "\n",
        "# Train the model with the best hyperparameters on the full dataset\n",
        "history = best_model.fit(train_generator,\n",
        "                         epochs=20,\n",
        "                         validation_data=val_generator,\n",
        "                         callbacks=[early_stopping, reduce_lr])\n",
        "\n",
        "\n",
        "# Plot learning curves\n",
        "import matplotlib.pyplot as plt\n",
        "\n",
        "plt.figure(figsize=(12, 4))\n",
        "\n",
        "plt.subplot(1, 2, 1)\n",
        "plt.plot(history.history['accuracy'], label='accuracy')\n",
        "plt.plot(history.history['val_accuracy'], label='val_accuracy')\n",
        "plt.xlabel('Epoch')\n",
        "plt.ylabel('Accuracy')\n",
        "plt.ylim([0, 1])\n",
        "plt.legend(loc='lower right')\n",
        "\n",
        "plt.subplot(1, 2, 2)\n",
        "plt.plot(history.history['loss'], label='loss')\n",
        "plt.plot(history.history['val_loss'], label='val_loss')\n",
        "plt.xlabel('Epoch')\n",
        "plt.ylabel('Loss')\n",
        "plt.legend(loc='upper right')\n",
        "\n",
        "plt.show()\n",
        "\n",
        "# Evaluate the model on the test data\n",
        "test_loss, test_accuracy = best_model.evaluate(test_generator)\n",
        "print(f'Test accuracy: {test_accuracy:.4f}')\n"
      ],
      "metadata": {
        "colab": {
          "base_uri": "https://localhost:8080/",
          "height": 1000
        },
        "id": "so-Vw1aCnXvM",
        "outputId": "d51bf204-89bc-4584-b54d-3ead91280832"
      },
      "id": "so-Vw1aCnXvM",
      "execution_count": null,
      "outputs": [
        {
          "output_type": "stream",
          "name": "stdout",
          "text": [
            "Trial 30 Complete [00h 11m 28s]\n",
            "val_accuracy: 0.9355499744415283\n",
            "\n",
            "Best val_accuracy So Far: 0.9560999870300293\n",
            "Total elapsed time: 02h 13m 38s\n",
            "Epoch 1/20\n",
            "\u001b[1m1875/1875\u001b[0m \u001b[32m━━━━━━━━━━━━━━━━━━━━\u001b[0m\u001b[37m\u001b[0m \u001b[1m37s\u001b[0m 17ms/step - accuracy: 0.9738 - loss: 0.0774 - val_accuracy: 0.9360 - val_loss: 0.2841 - learning_rate: 0.0013\n",
            "Epoch 2/20\n",
            "\u001b[1m1875/1875\u001b[0m \u001b[32m━━━━━━━━━━━━━━━━━━━━\u001b[0m\u001b[37m\u001b[0m \u001b[1m41s\u001b[0m 19ms/step - accuracy: 0.9600 - loss: 0.1190 - val_accuracy: 0.9336 - val_loss: 0.2775 - learning_rate: 0.0013\n",
            "Epoch 3/20\n",
            "\u001b[1m1875/1875\u001b[0m \u001b[32m━━━━━━━━━━━━━━━━━━━━\u001b[0m\u001b[37m\u001b[0m \u001b[1m35s\u001b[0m 18ms/step - accuracy: 0.9634 - loss: 0.1095 - val_accuracy: 0.9345 - val_loss: 0.2668 - learning_rate: 0.0013\n",
            "Epoch 4/20\n",
            "\u001b[1m1875/1875\u001b[0m \u001b[32m━━━━━━━━━━━━━━━━━━━━\u001b[0m\u001b[37m\u001b[0m \u001b[1m35s\u001b[0m 19ms/step - accuracy: 0.9647 - loss: 0.1065 - val_accuracy: 0.9347 - val_loss: 0.2791 - learning_rate: 0.0013\n",
            "Epoch 5/20\n",
            "\u001b[1m1875/1875\u001b[0m \u001b[32m━━━━━━━━━━━━━━━━━━━━\u001b[0m\u001b[37m\u001b[0m \u001b[1m37s\u001b[0m 17ms/step - accuracy: 0.9672 - loss: 0.0987 - val_accuracy: 0.9375 - val_loss: 0.2771 - learning_rate: 0.0013\n",
            "Epoch 6/20\n",
            "\u001b[1m1875/1875\u001b[0m \u001b[32m━━━━━━━━━━━━━━━━━━━━\u001b[0m\u001b[37m\u001b[0m \u001b[1m41s\u001b[0m 17ms/step - accuracy: 0.9695 - loss: 0.0945 - val_accuracy: 0.9355 - val_loss: 0.3129 - learning_rate: 0.0013\n",
            "Epoch 7/20\n",
            "\u001b[1m1875/1875\u001b[0m \u001b[32m━━━━━━━━━━━━━━━━━━━━\u001b[0m\u001b[37m\u001b[0m \u001b[1m35s\u001b[0m 19ms/step - accuracy: 0.9790 - loss: 0.0616 - val_accuracy: 0.9523 - val_loss: 0.2163 - learning_rate: 2.5962e-04\n",
            "Epoch 8/20\n",
            "\u001b[1m1875/1875\u001b[0m \u001b[32m━━━━━━━━━━━━━━━━━━━━\u001b[0m\u001b[37m\u001b[0m \u001b[1m35s\u001b[0m 19ms/step - accuracy: 0.9884 - loss: 0.0350 - val_accuracy: 0.9535 - val_loss: 0.2136 - learning_rate: 2.5962e-04\n",
            "Epoch 9/20\n",
            "\u001b[1m1875/1875\u001b[0m \u001b[32m━━━━━━━━━━━━━━━━━━━━\u001b[0m\u001b[37m\u001b[0m \u001b[1m36s\u001b[0m 19ms/step - accuracy: 0.9911 - loss: 0.0278 - val_accuracy: 0.9551 - val_loss: 0.2045 - learning_rate: 2.5962e-04\n",
            "Epoch 10/20\n",
            "\u001b[1m1875/1875\u001b[0m \u001b[32m━━━━━━━━━━━━━━━━━━━━\u001b[0m\u001b[37m\u001b[0m \u001b[1m41s\u001b[0m 19ms/step - accuracy: 0.9918 - loss: 0.0237 - val_accuracy: 0.9565 - val_loss: 0.1955 - learning_rate: 2.5962e-04\n",
            "Epoch 11/20\n",
            "\u001b[1m1875/1875\u001b[0m \u001b[32m━━━━━━━━━━━━━━━━━━━━\u001b[0m\u001b[37m\u001b[0m \u001b[1m41s\u001b[0m 19ms/step - accuracy: 0.9931 - loss: 0.0212 - val_accuracy: 0.9575 - val_loss: 0.1961 - learning_rate: 2.5962e-04\n",
            "Epoch 12/20\n",
            "\u001b[1m1875/1875\u001b[0m \u001b[32m━━━━━━━━━━━━━━━━━━━━\u001b[0m\u001b[37m\u001b[0m \u001b[1m41s\u001b[0m 19ms/step - accuracy: 0.9936 - loss: 0.0192 - val_accuracy: 0.9578 - val_loss: 0.1977 - learning_rate: 2.5962e-04\n",
            "Epoch 13/20\n",
            "\u001b[1m1875/1875\u001b[0m \u001b[32m━━━━━━━━━━━━━━━━━━━━\u001b[0m\u001b[37m\u001b[0m \u001b[1m35s\u001b[0m 19ms/step - accuracy: 0.9941 - loss: 0.0174 - val_accuracy: 0.9579 - val_loss: 0.1988 - learning_rate: 2.5962e-04\n",
            "Epoch 14/20\n",
            "\u001b[1m1875/1875\u001b[0m \u001b[32m━━━━━━━━━━━━━━━━━━━━\u001b[0m\u001b[37m\u001b[0m \u001b[1m32s\u001b[0m 17ms/step - accuracy: 0.9955 - loss: 0.0148 - val_accuracy: 0.9581 - val_loss: 0.1944 - learning_rate: 5.1924e-05\n",
            "Epoch 15/20\n",
            "\u001b[1m1875/1875\u001b[0m \u001b[32m━━━━━━━━━━━━━━━━━━━━\u001b[0m\u001b[37m\u001b[0m \u001b[1m32s\u001b[0m 17ms/step - accuracy: 0.9962 - loss: 0.0123 - val_accuracy: 0.9584 - val_loss: 0.1928 - learning_rate: 5.1924e-05\n",
            "Epoch 16/20\n",
            "\u001b[1m1875/1875\u001b[0m \u001b[32m━━━━━━━━━━━━━━━━━━━━\u001b[0m\u001b[37m\u001b[0m \u001b[1m31s\u001b[0m 17ms/step - accuracy: 0.9958 - loss: 0.0133 - val_accuracy: 0.9587 - val_loss: 0.1915 - learning_rate: 5.1924e-05\n",
            "Epoch 17/20\n",
            "\u001b[1m1875/1875\u001b[0m \u001b[32m━━━━━━━━━━━━━━━━━━━━\u001b[0m\u001b[37m\u001b[0m \u001b[1m36s\u001b[0m 19ms/step - accuracy: 0.9962 - loss: 0.0121 - val_accuracy: 0.9593 - val_loss: 0.1898 - learning_rate: 5.1924e-05\n",
            "Epoch 18/20\n",
            "\u001b[1m1875/1875\u001b[0m \u001b[32m━━━━━━━━━━━━━━━━━━━━\u001b[0m\u001b[37m\u001b[0m \u001b[1m33s\u001b[0m 17ms/step - accuracy: 0.9964 - loss: 0.0117 - val_accuracy: 0.9596 - val_loss: 0.1897 - learning_rate: 5.1924e-05\n",
            "Epoch 19/20\n",
            "\u001b[1m1875/1875\u001b[0m \u001b[32m━━━━━━━━━━━━━━━━━━━━\u001b[0m\u001b[37m\u001b[0m \u001b[1m31s\u001b[0m 16ms/step - accuracy: 0.9970 - loss: 0.0098 - val_accuracy: 0.9599 - val_loss: 0.1883 - learning_rate: 5.1924e-05\n",
            "Epoch 20/20\n",
            "\u001b[1m1875/1875\u001b[0m \u001b[32m━━━━━━━━━━━━━━━━━━━━\u001b[0m\u001b[37m\u001b[0m \u001b[1m35s\u001b[0m 19ms/step - accuracy: 0.9974 - loss: 0.0090 - val_accuracy: 0.9600 - val_loss: 0.1874 - learning_rate: 5.1924e-05\n"
          ]
        },
        {
          "output_type": "display_data",
          "data": {
            "text/plain": [
              "<Figure size 1200x400 with 2 Axes>"
            ],
            "image/png": "[encoded data removed]"
          },
          "metadata": {}
        },
        {
          "output_type": "stream",
          "name": "stdout",
          "text": [
            "\u001b[1m625/625\u001b[0m \u001b[32m━━━━━━━━━━━━━━━━━━━━\u001b[0m\u001b[37m\u001b[0m \u001b[1m8s\u001b[0m 13ms/step - accuracy: 0.9654 - loss: 0.1548\n",
            "Test accuracy: 0.9621\n"
          ]
        }
      ]
    }
  ],
  "metadata": {
    "kaggle": {
      "accelerator": "none",
      "dataSources": [
        {
          "datasetId": 5356983,
          "sourceId": 8909320,
          "sourceType": "datasetVersion"
        }
      ],
      "dockerImageVersionId": 30732,
      "isGpuEnabled": false,
      "isInternetEnabled": false,
      "language": "python",
      "sourceType": "notebook"
    },
    "kernelspec": {
      "display_name": "Python 3",
      "name": "python3"
    },
    "language_info": {
      "codemirror_mode": {
        "name": "ipython",
        "version": 3
      },
      "file_extension": ".py",
      "mimetype": "text/x-python",
      "name": "python",
      "nbconvert_exporter": "python",
      "pygments_lexer": "ipython3",
      "version": "3.10.13"
    },
    "papermill": {
      "default_parameters": {},
      "duration": 2138.193764,
      "end_time": "2024-07-09T18:43:45.387015",
      "environment_variables": {},
      "exception": null,
      "input_path": "__notebook__.ipynb",
      "output_path": "__notebook__.ipynb",
      "parameters": {},
      "start_time": "2024-07-09T18:08:07.193251",
      "version": "2.5.0"
    },
    "colab": {
      "provenance": [],
      "gpuType": "T4",
      "include_colab_link": true
    },
    "accelerator": "GPU"
  },
  "nbformat": 4,
  "nbformat_minor": 5
}