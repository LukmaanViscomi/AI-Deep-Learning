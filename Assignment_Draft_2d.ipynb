{
  "nbformat": 4,
  "nbformat_minor": 0,
  "metadata": {
    "colab": {
      "provenance": [],
      "gpuType": "T4",
      "include_colab_link": true
    },
    "kernelspec": {
      "name": "python3",
      "display_name": "Python 3"
    },
    "language_info": {
      "name": "python"
    },
    "accelerator": "GPU"
  },
  "cells": [
    {
      "cell_type": "markdown",
      "metadata": {
        "id": "view-in-github",
        "colab_type": "text"
      },
      "source": [
        "<a href=\"https://colab.research.google.com/github/LukmaanViscomi/AI-Deep-Learning/blob/main/Assignment_Draft_2d.ipynb\" target=\"_parent\"><img src=\"https://colab.research.google.com/assets/colab-badge.svg\" alt=\"Open In Colab\"/></a>"
      ]
    },
    {
      "cell_type": "markdown",
      "source": [
        "### TASK A. CLASSIFICATION PROBLEM"
      ],
      "metadata": {
        "id": "SxM6CjEAFnm_"
      }
    },
    {
      "cell_type": "code",
      "source": [
        "from google.colab import drive\n",
        "drive.mount('/content/drive')"
      ],
      "metadata": {
        "colab": {
          "base_uri": "https://localhost:8080/"
        },
        "id": "9Pu1V0ZSn3iW",
        "outputId": "7e927e46-1efe-40b4-cc4d-3311881144da"
      },
      "execution_count": 1,
      "outputs": [
        {
          "output_type": "stream",
          "name": "stdout",
          "text": [
            "Mounted at /content/drive\n"
          ]
        }
      ]
    },
    {
      "cell_type": "markdown",
      "source": [
        "### Task Requirments:\n",
        "\n",
        "1. Load and preprocess the dataset for the classification problem (handle missing data, convert categorical features to numerical features).\n",
        "\n",
        "2. Build a classifier for the classification problem using one of the specified models (logistic regression, decision trees, random forests, or artificial neural networks).\n",
        "\n",
        "3. Fine-tune the selected model using appropriate techniques (eg, hyperparameter tuning, cross-validation, etc).\n",
        "\n",
        "4. Visualise the dataset and / or the model's results, where applicable (eg, feature importance, confusion matrix, etc).\n",
        "\n",
        "5. Report the final performance of the selected model using appropriate performance metrics (eg, accuracy, F1-score, etc)."
      ],
      "metadata": {
        "id": "mAapdhesFwiL"
      }
    },
    {
      "cell_type": "markdown",
      "source": [
        "###Response to Task Requirements 1 to 5"
      ],
      "metadata": {
        "id": "b22BqdNR-kkT"
      }
    },
    {
      "cell_type": "markdown",
      "source": [
        "###Install Specific Scipy, Numpy, and Scikit-Plot Versions:\n",
        "\n",
        "Description: This task installs a specific version of the scipy library (version 1.7.3), along with numpy (version 1.22.4) to ensure compatibility with older functions used in the project. The installation of scikit-plot is also included for plotting purposes in the evaluation stages. This ensures that all necessary packages are available and avoids potential compatibility issues during the analysis."
      ],
      "metadata": {
        "id": "tEvrdFmygevo"
      }
    },
    {
      "cell_type": "code",
      "source": [
        "!pip install scipy==1.7.3\n",
        "!pip install numpy>=1.23.0\n",
        "!pip install scikit-plot"
      ],
      "metadata": {
        "colab": {
          "base_uri": "https://localhost:8080/"
        },
        "outputId": "b7b9c387-cfb3-43d4-8d88-bd51caaee613",
        "id": "YgXwH-OM4JVt"
      },
      "execution_count": null,
      "outputs": [
        {
          "output_type": "stream",
          "name": "stdout",
          "text": [
            "Requirement already satisfied: scipy==1.7.3 in /usr/local/lib/python3.10/dist-packages (1.7.3)\n",
            "Requirement already satisfied: numpy<1.23.0,>=1.16.5 in /usr/local/lib/python3.10/dist-packages (from scipy==1.7.3) (1.22.4)\n",
            "Requirement already satisfied: scikit-plot in /usr/local/lib/python3.10/dist-packages (0.3.7)\n",
            "Requirement already satisfied: matplotlib>=1.4.0 in /usr/local/lib/python3.10/dist-packages (from scikit-plot) (3.7.1)\n",
            "Requirement already satisfied: scikit-learn>=0.18 in /usr/local/lib/python3.10/dist-packages (from scikit-plot) (1.3.2)\n",
            "Requirement already satisfied: scipy>=0.9 in /usr/local/lib/python3.10/dist-packages (from scikit-plot) (1.7.3)\n",
            "Requirement already satisfied: joblib>=0.10 in /usr/local/lib/python3.10/dist-packages (from scikit-plot) (1.4.2)\n",
            "Requirement already satisfied: contourpy>=1.0.1 in /usr/local/lib/python3.10/dist-packages (from matplotlib>=1.4.0->scikit-plot) (1.2.1)\n",
            "Requirement already satisfied: cycler>=0.10 in /usr/local/lib/python3.10/dist-packages (from matplotlib>=1.4.0->scikit-plot) (0.12.1)\n",
            "Requirement already satisfied: fonttools>=4.22.0 in /usr/local/lib/python3.10/dist-packages (from matplotlib>=1.4.0->scikit-plot) (4.53.1)\n",
            "Requirement already satisfied: kiwisolver>=1.0.1 in /usr/local/lib/python3.10/dist-packages (from matplotlib>=1.4.0->scikit-plot) (1.4.5)\n",
            "Requirement already satisfied: numpy>=1.20 in /usr/local/lib/python3.10/dist-packages (from matplotlib>=1.4.0->scikit-plot) (1.22.4)\n",
            "Requirement already satisfied: packaging>=20.0 in /usr/local/lib/python3.10/dist-packages (from matplotlib>=1.4.0->scikit-plot) (24.1)\n",
            "Requirement already satisfied: pillow>=6.2.0 in /usr/local/lib/python3.10/dist-packages (from matplotlib>=1.4.0->scikit-plot) (9.4.0)\n",
            "Requirement already satisfied: pyparsing>=2.3.1 in /usr/local/lib/python3.10/dist-packages (from matplotlib>=1.4.0->scikit-plot) (3.1.4)\n",
            "Requirement already satisfied: python-dateutil>=2.7 in /usr/local/lib/python3.10/dist-packages (from matplotlib>=1.4.0->scikit-plot) (2.8.2)\n",
            "Requirement already satisfied: threadpoolctl>=2.0.0 in /usr/local/lib/python3.10/dist-packages (from scikit-learn>=0.18->scikit-plot) (3.5.0)\n",
            "Requirement already satisfied: six>=1.5 in /usr/local/lib/python3.10/dist-packages (from python-dateutil>=2.7->matplotlib>=1.4.0->scikit-plot) (1.16.0)\n"
          ]
        }
      ]
    },
    {
      "cell_type": "markdown",
      "source": [
        "###Import Libraries:\n",
        "\n",
        "Description: This task imports the necessary Python libraries for data processing, machine learning, and visualization. Each library plays a critical role:\n",
        "\n",
        "*   pandas and numpy for data handling.\n",
        "*   sklearn for machine learning algorithms and metrics.\n",
        "*   matplotlib and seaborn for visualizations.\n",
        "*   SimpleImputer and LabelEncoder for handling missing data and categorical variables.\n",
        "\n",
        "(The models were buid in Google Colab whick has an extensive pre-installed set of ML libraries. The import statement assume that the appropirate packages are installed)\n",
        "\n",
        "*  Note: During the project for the purposes of colaboration and symetry in training environments, we build out a customised Anaconda Environment to mimic the google colab system state for development and training purposes (Due to resource constraints on Google Colab Cloud).\n",
        "\n",
        "https://github.com/LukmaanViscomi/AI-Deep-Learning/blob/main/Build_Customised_Anaconda_Environment_For_Machine_Learning.ipynb\n",
        "\n",
        "\n",
        "\n"
      ],
      "metadata": {
        "id": "KOtT_Pp4GNfj"
      }
    },
    {
      "cell_type": "code",
      "source": [
        "import pandas as pd\n",
        "import numpy as np\n",
        "from sklearn.model_selection import train_test_split, GridSearchCV\n",
        "from sklearn.preprocessing import LabelEncoder, StandardScaler\n",
        "from sklearn.impute import SimpleImputer\n",
        "from sklearn.ensemble import RandomForestClassifier\n",
        "from sklearn.metrics import confusion_matrix, classification_report\n",
        "import matplotlib.pyplot as plt\n",
        "import seaborn as sns\n"
      ],
      "metadata": {
        "id": "YlA_A9HfGGS8"
      },
      "execution_count": null,
      "outputs": []
    },
    {
      "cell_type": "markdown",
      "source": [
        "###Load Dataset:\n",
        "Description: This task loads the dataset into a pandas DataFrame from a CSV file. The dataset is the starting point for the entire machine learning pipeline, containing the features and target variable that will be used to train and test the model."
      ],
      "metadata": {
        "id": "Q-f5kNr8GP8g"
      }
    },
    {
      "cell_type": "code",
      "source": [
        "# Load the dataset\n",
        "data = pd.read_csv('/content/drive/MyDrive/classification_data.csv')\n"
      ],
      "metadata": {
        "id": "dANOL3PXGHrm"
      },
      "execution_count": null,
      "outputs": []
    },
    {
      "cell_type": "code",
      "source": [
        "# Display the first few rows of the dataset\n",
        "data.head()\n"
      ],
      "metadata": {
        "id": "y-fBw9u7S-B6",
        "outputId": "0eb8c33c-d0f1-4431-f32a-317b148071b8",
        "colab": {
          "base_uri": "https://localhost:8080/",
          "height": 206
        }
      },
      "execution_count": null,
      "outputs": [
        {
          "output_type": "execute_result",
          "data": {
            "text/plain": [
              "   target    var1     var2          var3   var4    var5 var6              var7\n",
              "0       0  509.18  417.681    Micronesia  138.0  393.00   no  20/07/2019 13:21\n",
              "1       0  446.06  666.182      Dominica   81.0  352.05  yes  04/04/2019 21:30\n",
              "2       1  235.50  398.097   Isle of Man   90.0  339.00   no  03/03/2019 02:59\n",
              "3       0  306.02  518.163  Turkmenistan  102.0  439.25  yes  19/03/2019 08:00\n",
              "4       0  453.08  600.156      Cameroon  105.0  422.95   no  18/03/2019 13:22"
            ],
            "text/html": [
              "\n",
              "  <div id=\"df-77a9ac22-a8cf-40d5-8c70-0ca39c946f86\" class=\"colab-df-container\">\n",
              "    <div>\n",
              "<style scoped>\n",
              "    .dataframe tbody tr th:only-of-type {\n",
              "        vertical-align: middle;\n",
              "    }\n",
              "\n",
              "    .dataframe tbody tr th {\n",
              "        vertical-align: top;\n",
              "    }\n",
              "\n",
              "    .dataframe thead th {\n",
              "        text-align: right;\n",
              "    }\n",
              "</style>\n",
              "<table border=\"1\" class=\"dataframe\">\n",
              "  <thead>\n",
              "    <tr style=\"text-align: right;\">\n",
              "      <th></th>\n",
              "      <th>target</th>\n",
              "      <th>var1</th>\n",
              "      <th>var2</th>\n",
              "      <th>var3</th>\n",
              "      <th>var4</th>\n",
              "      <th>var5</th>\n",
              "      <th>var6</th>\n",
              "      <th>var7</th>\n",
              "    </tr>\n",
              "  </thead>\n",
              "  <tbody>\n",
              "    <tr>\n",
              "      <th>0</th>\n",
              "      <td>0</td>\n",
              "      <td>509.18</td>\n",
              "      <td>417.681</td>\n",
              "      <td>Micronesia</td>\n",
              "      <td>138.0</td>\n",
              "      <td>393.00</td>\n",
              "      <td>no</td>\n",
              "      <td>20/07/2019 13:21</td>\n",
              "    </tr>\n",
              "    <tr>\n",
              "      <th>1</th>\n",
              "      <td>0</td>\n",
              "      <td>446.06</td>\n",
              "      <td>666.182</td>\n",
              "      <td>Dominica</td>\n",
              "      <td>81.0</td>\n",
              "      <td>352.05</td>\n",
              "      <td>yes</td>\n",
              "      <td>04/04/2019 21:30</td>\n",
              "    </tr>\n",
              "    <tr>\n",
              "      <th>2</th>\n",
              "      <td>1</td>\n",
              "      <td>235.50</td>\n",
              "      <td>398.097</td>\n",
              "      <td>Isle of Man</td>\n",
              "      <td>90.0</td>\n",
              "      <td>339.00</td>\n",
              "      <td>no</td>\n",
              "      <td>03/03/2019 02:59</td>\n",
              "    </tr>\n",
              "    <tr>\n",
              "      <th>3</th>\n",
              "      <td>0</td>\n",
              "      <td>306.02</td>\n",
              "      <td>518.163</td>\n",
              "      <td>Turkmenistan</td>\n",
              "      <td>102.0</td>\n",
              "      <td>439.25</td>\n",
              "      <td>yes</td>\n",
              "      <td>19/03/2019 08:00</td>\n",
              "    </tr>\n",
              "    <tr>\n",
              "      <th>4</th>\n",
              "      <td>0</td>\n",
              "      <td>453.08</td>\n",
              "      <td>600.156</td>\n",
              "      <td>Cameroon</td>\n",
              "      <td>105.0</td>\n",
              "      <td>422.95</td>\n",
              "      <td>no</td>\n",
              "      <td>18/03/2019 13:22</td>\n",
              "    </tr>\n",
              "  </tbody>\n",
              "</table>\n",
              "</div>\n",
              "    <div class=\"colab-df-buttons\">\n",
              "\n",
              "  <div class=\"colab-df-container\">\n",
              "    <button class=\"colab-df-convert\" onclick=\"convertToInteractive('df-77a9ac22-a8cf-40d5-8c70-0ca39c946f86')\"\n",
              "            title=\"Convert this dataframe to an interactive table.\"\n",
              "            style=\"display:none;\">\n",
              "\n",
              "  <svg xmlns=\"http://www.w3.org/2000/svg\" height=\"24px\" viewBox=\"0 -960 960 960\">\n",
              "    <path d=\"M120-120v-720h720v720H120Zm60-500h600v-160H180v160Zm220 220h160v-160H400v160Zm0 220h160v-160H400v160ZM180-400h160v-160H180v160Zm440 0h160v-160H620v160ZM180-180h160v-160H180v160Zm440 0h160v-160H620v160Z\"/>\n",
              "  </svg>\n",
              "    </button>\n",
              "\n",
              "  <style>\n",
              "    .colab-df-container {\n",
              "      display:flex;\n",
              "      gap: 12px;\n",
              "    }\n",
              "\n",
              "    .colab-df-convert {\n",
              "      background-color: #E8F0FE;\n",
              "      border: none;\n",
              "      border-radius: 50%;\n",
              "      cursor: pointer;\n",
              "      display: none;\n",
              "      fill: #1967D2;\n",
              "      height: 32px;\n",
              "      padding: 0 0 0 0;\n",
              "      width: 32px;\n",
              "    }\n",
              "\n",
              "    .colab-df-convert:hover {\n",
              "      background-color: #E2EBFA;\n",
              "      box-shadow: 0px 1px 2px rgba(60, 64, 67, 0.3), 0px 1px 3px 1px rgba(60, 64, 67, 0.15);\n",
              "      fill: #174EA6;\n",
              "    }\n",
              "\n",
              "    .colab-df-buttons div {\n",
              "      margin-bottom: 4px;\n",
              "    }\n",
              "\n",
              "    [theme=dark] .colab-df-convert {\n",
              "      background-color: #3B4455;\n",
              "      fill: #D2E3FC;\n",
              "    }\n",
              "\n",
              "    [theme=dark] .colab-df-convert:hover {\n",
              "      background-color: #434B5C;\n",
              "      box-shadow: 0px 1px 3px 1px rgba(0, 0, 0, 0.15);\n",
              "      filter: drop-shadow(0px 1px 2px rgba(0, 0, 0, 0.3));\n",
              "      fill: #FFFFFF;\n",
              "    }\n",
              "  </style>\n",
              "\n",
              "    <script>\n",
              "      const buttonEl =\n",
              "        document.querySelector('#df-77a9ac22-a8cf-40d5-8c70-0ca39c946f86 button.colab-df-convert');\n",
              "      buttonEl.style.display =\n",
              "        google.colab.kernel.accessAllowed ? 'block' : 'none';\n",
              "\n",
              "      async function convertToInteractive(key) {\n",
              "        const element = document.querySelector('#df-77a9ac22-a8cf-40d5-8c70-0ca39c946f86');\n",
              "        const dataTable =\n",
              "          await google.colab.kernel.invokeFunction('convertToInteractive',\n",
              "                                                    [key], {});\n",
              "        if (!dataTable) return;\n",
              "\n",
              "        const docLinkHtml = 'Like what you see? Visit the ' +\n",
              "          '<a target=\"_blank\" href=https://colab.research.google.com/notebooks/data_table.ipynb>data table notebook</a>'\n",
              "          + ' to learn more about interactive tables.';\n",
              "        element.innerHTML = '';\n",
              "        dataTable['output_type'] = 'display_data';\n",
              "        await google.colab.output.renderOutput(dataTable, element);\n",
              "        const docLink = document.createElement('div');\n",
              "        docLink.innerHTML = docLinkHtml;\n",
              "        element.appendChild(docLink);\n",
              "      }\n",
              "    </script>\n",
              "  </div>\n",
              "\n",
              "\n",
              "<div id=\"df-ec27b893-f8cb-4fd8-ab9e-6cf316ac2afa\">\n",
              "  <button class=\"colab-df-quickchart\" onclick=\"quickchart('df-ec27b893-f8cb-4fd8-ab9e-6cf316ac2afa')\"\n",
              "            title=\"Suggest charts\"\n",
              "            style=\"display:none;\">\n",
              "\n",
              "<svg xmlns=\"http://www.w3.org/2000/svg\" height=\"24px\"viewBox=\"0 0 24 24\"\n",
              "     width=\"24px\">\n",
              "    <g>\n",
              "        <path d=\"M19 3H5c-1.1 0-2 .9-2 2v14c0 1.1.9 2 2 2h14c1.1 0 2-.9 2-2V5c0-1.1-.9-2-2-2zM9 17H7v-7h2v7zm4 0h-2V7h2v10zm4 0h-2v-4h2v4z\"/>\n",
              "    </g>\n",
              "</svg>\n",
              "  </button>\n",
              "\n",
              "<style>\n",
              "  .colab-df-quickchart {\n",
              "      --bg-color: #E8F0FE;\n",
              "      --fill-color: #1967D2;\n",
              "      --hover-bg-color: #E2EBFA;\n",
              "      --hover-fill-color: #174EA6;\n",
              "      --disabled-fill-color: #AAA;\n",
              "      --disabled-bg-color: #DDD;\n",
              "  }\n",
              "\n",
              "  [theme=dark] .colab-df-quickchart {\n",
              "      --bg-color: #3B4455;\n",
              "      --fill-color: #D2E3FC;\n",
              "      --hover-bg-color: #434B5C;\n",
              "      --hover-fill-color: #FFFFFF;\n",
              "      --disabled-bg-color: #3B4455;\n",
              "      --disabled-fill-color: #666;\n",
              "  }\n",
              "\n",
              "  .colab-df-quickchart {\n",
              "    background-color: var(--bg-color);\n",
              "    border: none;\n",
              "    border-radius: 50%;\n",
              "    cursor: pointer;\n",
              "    display: none;\n",
              "    fill: var(--fill-color);\n",
              "    height: 32px;\n",
              "    padding: 0;\n",
              "    width: 32px;\n",
              "  }\n",
              "\n",
              "  .colab-df-quickchart:hover {\n",
              "    background-color: var(--hover-bg-color);\n",
              "    box-shadow: 0 1px 2px rgba(60, 64, 67, 0.3), 0 1px 3px 1px rgba(60, 64, 67, 0.15);\n",
              "    fill: var(--button-hover-fill-color);\n",
              "  }\n",
              "\n",
              "  .colab-df-quickchart-complete:disabled,\n",
              "  .colab-df-quickchart-complete:disabled:hover {\n",
              "    background-color: var(--disabled-bg-color);\n",
              "    fill: var(--disabled-fill-color);\n",
              "    box-shadow: none;\n",
              "  }\n",
              "\n",
              "  .colab-df-spinner {\n",
              "    border: 2px solid var(--fill-color);\n",
              "    border-color: transparent;\n",
              "    border-bottom-color: var(--fill-color);\n",
              "    animation:\n",
              "      spin 1s steps(1) infinite;\n",
              "  }\n",
              "\n",
              "  @keyframes spin {\n",
              "    0% {\n",
              "      border-color: transparent;\n",
              "      border-bottom-color: var(--fill-color);\n",
              "      border-left-color: var(--fill-color);\n",
              "    }\n",
              "    20% {\n",
              "      border-color: transparent;\n",
              "      border-left-color: var(--fill-color);\n",
              "      border-top-color: var(--fill-color);\n",
              "    }\n",
              "    30% {\n",
              "      border-color: transparent;\n",
              "      border-left-color: var(--fill-color);\n",
              "      border-top-color: var(--fill-color);\n",
              "      border-right-color: var(--fill-color);\n",
              "    }\n",
              "    40% {\n",
              "      border-color: transparent;\n",
              "      border-right-color: var(--fill-color);\n",
              "      border-top-color: var(--fill-color);\n",
              "    }\n",
              "    60% {\n",
              "      border-color: transparent;\n",
              "      border-right-color: var(--fill-color);\n",
              "    }\n",
              "    80% {\n",
              "      border-color: transparent;\n",
              "      border-right-color: var(--fill-color);\n",
              "      border-bottom-color: var(--fill-color);\n",
              "    }\n",
              "    90% {\n",
              "      border-color: transparent;\n",
              "      border-bottom-color: var(--fill-color);\n",
              "    }\n",
              "  }\n",
              "</style>\n",
              "\n",
              "  <script>\n",
              "    async function quickchart(key) {\n",
              "      const quickchartButtonEl =\n",
              "        document.querySelector('#' + key + ' button');\n",
              "      quickchartButtonEl.disabled = true;  // To prevent multiple clicks.\n",
              "      quickchartButtonEl.classList.add('colab-df-spinner');\n",
              "      try {\n",
              "        const charts = await google.colab.kernel.invokeFunction(\n",
              "            'suggestCharts', [key], {});\n",
              "      } catch (error) {\n",
              "        console.error('Error during call to suggestCharts:', error);\n",
              "      }\n",
              "      quickchartButtonEl.classList.remove('colab-df-spinner');\n",
              "      quickchartButtonEl.classList.add('colab-df-quickchart-complete');\n",
              "    }\n",
              "    (() => {\n",
              "      let quickchartButtonEl =\n",
              "        document.querySelector('#df-ec27b893-f8cb-4fd8-ab9e-6cf316ac2afa button');\n",
              "      quickchartButtonEl.style.display =\n",
              "        google.colab.kernel.accessAllowed ? 'block' : 'none';\n",
              "    })();\n",
              "  </script>\n",
              "</div>\n",
              "\n",
              "    </div>\n",
              "  </div>\n"
            ],
            "application/vnd.google.colaboratory.intrinsic+json": {
              "type": "dataframe",
              "variable_name": "data",
              "summary": "{\n  \"name\": \"data\",\n  \"rows\": 925,\n  \"fields\": [\n    {\n      \"column\": \"target\",\n      \"properties\": {\n        \"dtype\": \"number\",\n        \"std\": 0,\n        \"min\": 0,\n        \"max\": 1,\n        \"num_unique_values\": 2,\n        \"samples\": [\n          1,\n          0\n        ],\n        \"semantic_type\": \"\",\n        \"description\": \"\"\n      }\n    },\n    {\n      \"column\": \"var1\",\n      \"properties\": {\n        \"dtype\": \"number\",\n        \"std\": 87.86666243702534,\n        \"min\": 209.56,\n        \"max\": 539.92,\n        \"num_unique_values\": 898,\n        \"samples\": [\n          443.06,\n          391.78\n        ],\n        \"semantic_type\": \"\",\n        \"description\": \"\"\n      }\n    },\n    {\n      \"column\": \"var2\",\n      \"properties\": {\n        \"dtype\": \"number\",\n        \"std\": 135.2214599575819,\n        \"min\": 139.965,\n        \"max\": 794.848,\n        \"num_unique_values\": 925,\n        \"samples\": [\n          597.976,\n          542.518\n        ],\n        \"semantic_type\": \"\",\n        \"description\": \"\"\n      }\n    },\n    {\n      \"column\": \"var3\",\n      \"properties\": {\n        \"dtype\": \"category\",\n        \"num_unique_values\": 236,\n        \"samples\": [\n          \"Fiji\",\n          \"Sudan\"\n        ],\n        \"semantic_type\": \"\",\n        \"description\": \"\"\n      }\n    },\n    {\n      \"column\": \"var4\",\n      \"properties\": {\n        \"dtype\": \"number\",\n        \"std\": 26.325743794331554,\n        \"min\": 57.0,\n        \"max\": 180.0,\n        \"num_unique_values\": 41,\n        \"samples\": [\n          174.0,\n          132.0\n        ],\n        \"semantic_type\": \"\",\n        \"description\": \"\"\n      }\n    },\n    {\n      \"column\": \"var5\",\n      \"properties\": {\n        \"dtype\": \"number\",\n        \"std\": 78.86277852501385,\n        \"min\": 163.0,\n        \"max\": 457.15,\n        \"num_unique_values\": 835,\n        \"samples\": [\n          330.15,\n          415.35\n        ],\n        \"semantic_type\": \"\",\n        \"description\": \"\"\n      }\n    },\n    {\n      \"column\": \"var6\",\n      \"properties\": {\n        \"dtype\": \"category\",\n        \"num_unique_values\": 2,\n        \"samples\": [\n          \"yes\",\n          \"no\"\n        ],\n        \"semantic_type\": \"\",\n        \"description\": \"\"\n      }\n    },\n    {\n      \"column\": \"var7\",\n      \"properties\": {\n        \"dtype\": \"string\",\n        \"num_unique_values\": 923,\n        \"samples\": [\n          \"03/05/2019 16:02\",\n          \"17/01/2019 15:10\"\n        ],\n        \"semantic_type\": \"\",\n        \"description\": \"\"\n      }\n    }\n  ]\n}"
            }
          },
          "metadata": {},
          "execution_count": 12
        }
      ]
    },
    {
      "cell_type": "markdown",
      "source": [
        "###Separate Columns:\n",
        "\n",
        "Description: This task identifies and separates the dataset's columns into numerical and categorical columns based on their data types. This is important because different types of data (numerical vs. categorical) require different preprocessing techniques before feeding into the model.\n",
        "\n"
      ],
      "metadata": {
        "id": "MjMelxLCGQ4y"
      }
    },
    {
      "cell_type": "code",
      "source": [
        "# Separate numerical and categorical columns\n",
        "numerical_cols = data.select_dtypes(include=['float64', 'int64']).columns\n",
        "categorical_cols = data.select_dtypes(include=['object']).columns\n"
      ],
      "metadata": {
        "id": "0cIbWejxGJYV"
      },
      "execution_count": null,
      "outputs": []
    },
    {
      "cell_type": "markdown",
      "source": [
        "###Impute Missing Numerical Data:\n",
        "Description: This task handles missing values in the numerical columns by using the SimpleImputer to replace missing values with the mean of each column. Imputing missing data is essential to prevent issues in model training, as most machine learning algorithms cannot handle missing values."
      ],
      "metadata": {
        "id": "AebiWOq7GShw"
      }
    },
    {
      "cell_type": "code",
      "source": [
        "# Handle missing data for numerical columns\n",
        "imputer_num = SimpleImputer(strategy='mean')\n",
        "data[numerical_cols] = imputer_num.fit_transform(data[numerical_cols])\n"
      ],
      "metadata": {
        "id": "IMpsfN0IGT_Q"
      },
      "execution_count": null,
      "outputs": []
    },
    {
      "cell_type": "markdown",
      "source": [
        "###Encode Categorical Data:\n",
        "Description: This task encodes categorical variables into numerical values using LabelEncoder. Many machine learning algorithms cannot handle non-numeric data, so categorical data needs to be converted into a numeric format for the model to process it effectively."
      ],
      "metadata": {
        "id": "aIPh8s4uGd1p"
      }
    },
    {
      "cell_type": "code",
      "source": [
        "# Convert categorical features to numerical features\n",
        "label_encoders = {}\n",
        "for column in categorical_cols:\n",
        "    le = LabelEncoder()\n",
        "    data[column] = le.fit_transform(data[column])\n",
        "    label_encoders[column] = le\n",
        "\n"
      ],
      "metadata": {
        "id": "udMlZzLUGXlm"
      },
      "execution_count": null,
      "outputs": []
    },
    {
      "cell_type": "markdown",
      "source": [
        "###Split Data:\n",
        "Description: This task splits the DataFrame into features (X) and target (y). The features are the input data used to predict the target, which is the variable the model is attempting to classify or predict. This step prepares the data for the next stages in the machine learning pipeline."
      ],
      "metadata": {
        "id": "34dapTbfFY7q"
      }
    },
    {
      "cell_type": "code",
      "source": [
        "# Split the data into features and target\n",
        "X = data.drop('target', axis=1)  # assuming 'target' is the column name for the target variable\n",
        "y = data['target']\n"
      ],
      "metadata": {
        "id": "1eaBOEoeGeqg"
      },
      "execution_count": null,
      "outputs": []
    },
    {
      "cell_type": "markdown",
      "source": [
        "###Standardize Features:\n",
        "Description: This task standardises the feature data using StandardScaler, ensuring that all features have a mean of 0 and a standard deviation of 1. This normalization process is crucial for algorithms like Random Forests to ensure that features are treated equally and not dominated by larger numerical values."
      ],
      "metadata": {
        "id": "gVw1Tla0Grgr"
      }
    },
    {
      "cell_type": "code",
      "source": [
        "# Standardize the features\n",
        "scaler = StandardScaler()\n",
        "X_scaled = scaler.fit_transform(X)\n"
      ],
      "metadata": {
        "id": "n-jxxZXEGmXL"
      },
      "execution_count": null,
      "outputs": []
    },
    {
      "cell_type": "markdown",
      "source": [
        "###Train-Test Split:\n",
        "Description: This task splits the data into training and testing sets, with 80% of the data used for training and 20% reserved for testing. The training set is used to fit the model, while the testing set evaluates the model's performance on unseen data. The random_state=42 ensures reproducibility of the split."
      ],
      "metadata": {
        "id": "pHnceG0kFmIQ"
      }
    },
    {
      "cell_type": "code",
      "source": [
        "# Split into train and test sets\n",
        "X_train, X_test, y_train, y_test = train_test_split(X_scaled, y, test_size=0.2, random_state=42)\n"
      ],
      "metadata": {
        "id": "hTs3SzzoGtN5"
      },
      "execution_count": null,
      "outputs": []
    },
    {
      "cell_type": "markdown",
      "source": [
        "###Initialize Classifier:\n",
        "Description: This task initializes a RandomForestClassifier, a robust and widely used ensemble learning method. By setting a fixed random seed, we ensure reproducibility in the training process. This classifier will be tuned and trained in subsequent steps."
      ],
      "metadata": {
        "id": "VIH0ryB5G2tT"
      }
    },
    {
      "cell_type": "code",
      "source": [
        "# Initialize the classifier\n",
        "rf_classifier = RandomForestClassifier(random_state=42)\n"
      ],
      "metadata": {
        "id": "DC_HDHHAG04j"
      },
      "execution_count": null,
      "outputs": []
    },
    {
      "cell_type": "markdown",
      "source": [
        "###Parameter Grid:\n",
        "Description: This task defines a parameter grid for GridSearchCV, specifying values for key hyperparameters such as n_estimators, max_depth, min_samples_split, and criterion. The criterion parameter allows the model to evaluate both Gini impurity and Entropy for measuring the quality of a split. The grid search will test different combinations of these hyperparameters to determine the best-performing model configuration."
      ],
      "metadata": {
        "id": "ihRvxHwS6yEC"
      }
    },
    {
      "cell_type": "code",
      "source": [
        "# Define the parameter grid for GridSearchCV with criterion\n",
        "param_grid = {\n",
        "    'n_estimators': [100, 200, 300],\n",
        "    'max_depth': [None, 10, 20, 30],\n",
        "    'min_samples_split': [2, 5, 10],\n",
        "    'criterion': ['gini', 'entropy']  # Add this to try both Gini impurity and Entropy\n",
        "}\n"
      ],
      "metadata": {
        "id": "k4WhGkrg6yEO"
      },
      "execution_count": null,
      "outputs": []
    },
    {
      "cell_type": "markdown",
      "source": [
        "###GridSearchCV:\n",
        "Description: This task initializes the GridSearchCV, which automates the process of hyperparameter tuning. It performs 5-fold cross-validation over the defined parameter grid, scoring the models using accuracy. This method allows the model to generalize better by testing different parameter combinations."
      ],
      "metadata": {
        "id": "5rR3h-FIG4Uu"
      }
    },
    {
      "cell_type": "code",
      "source": [
        "# Initialize GridSearchCV\n",
        "grid_search = GridSearchCV(estimator=rf_classifier, param_grid=param_grid, cv=5, scoring='accuracy', n_jobs=-1)\n"
      ],
      "metadata": {
        "id": "vlJfAAC3G-T0"
      },
      "execution_count": null,
      "outputs": []
    },
    {
      "cell_type": "markdown",
      "source": [
        "###Fit The Model:\n",
        "Description: This task fits the GridSearchCV on the training data, performing the cross-validation and hyperparameter search. The goal is to find the best combination of hyperparameters to optimize the model's accuracy."
      ],
      "metadata": {
        "id": "uCsyh19_HGNx"
      }
    },
    {
      "cell_type": "code",
      "source": [
        "# Fit the model\n",
        "grid_search.fit(X_train, y_train)\n"
      ],
      "metadata": {
        "colab": {
          "base_uri": "https://localhost:8080/",
          "height": 273
        },
        "outputId": "de009a71-6644-4129-988c-20346f3ac784",
        "id": "qkRd4Wya6-Mo"
      },
      "execution_count": null,
      "outputs": [
        {
          "output_type": "execute_result",
          "data": {
            "text/plain": [
              "GridSearchCV(cv=5, estimator=RandomForestClassifier(random_state=42), n_jobs=-1,\n",
              "             param_grid={'criterion': ['gini', 'entropy'],\n",
              "                         'max_depth': [None, 10, 20, 30],\n",
              "                         'min_samples_split': [2, 5, 10],\n",
              "                         'n_estimators': [100, 200, 300]},\n",
              "             scoring='accuracy')"
            ],
            "text/html": [
              "<style>#sk-container-id-1 {color: black;}#sk-container-id-1 pre{padding: 0;}#sk-container-id-1 div.sk-toggleable {background-color: white;}#sk-container-id-1 label.sk-toggleable__label {cursor: pointer;display: block;width: 100%;margin-bottom: 0;padding: 0.3em;box-sizing: border-box;text-align: center;}#sk-container-id-1 label.sk-toggleable__label-arrow:before {content: \"▸\";float: left;margin-right: 0.25em;color: #696969;}#sk-container-id-1 label.sk-toggleable__label-arrow:hover:before {color: black;}#sk-container-id-1 div.sk-estimator:hover label.sk-toggleable__label-arrow:before {color: black;}#sk-container-id-1 div.sk-toggleable__content {max-height: 0;max-width: 0;overflow: hidden;text-align: left;background-color: #f0f8ff;}#sk-container-id-1 div.sk-toggleable__content pre {margin: 0.2em;color: black;border-radius: 0.25em;background-color: #f0f8ff;}#sk-container-id-1 input.sk-toggleable__control:checked~div.sk-toggleable__content {max-height: 200px;max-width: 100%;overflow: auto;}#sk-container-id-1 input.sk-toggleable__control:checked~label.sk-toggleable__label-arrow:before {content: \"▾\";}#sk-container-id-1 div.sk-estimator input.sk-toggleable__control:checked~label.sk-toggleable__label {background-color: #d4ebff;}#sk-container-id-1 div.sk-label input.sk-toggleable__control:checked~label.sk-toggleable__label {background-color: #d4ebff;}#sk-container-id-1 input.sk-hidden--visually {border: 0;clip: rect(1px 1px 1px 1px);clip: rect(1px, 1px, 1px, 1px);height: 1px;margin: -1px;overflow: hidden;padding: 0;position: absolute;width: 1px;}#sk-container-id-1 div.sk-estimator {font-family: monospace;background-color: #f0f8ff;border: 1px dotted black;border-radius: 0.25em;box-sizing: border-box;margin-bottom: 0.5em;}#sk-container-id-1 div.sk-estimator:hover {background-color: #d4ebff;}#sk-container-id-1 div.sk-parallel-item::after {content: \"\";width: 100%;border-bottom: 1px solid gray;flex-grow: 1;}#sk-container-id-1 div.sk-label:hover label.sk-toggleable__label {background-color: #d4ebff;}#sk-container-id-1 div.sk-serial::before {content: \"\";position: absolute;border-left: 1px solid gray;box-sizing: border-box;top: 0;bottom: 0;left: 50%;z-index: 0;}#sk-container-id-1 div.sk-serial {display: flex;flex-direction: column;align-items: center;background-color: white;padding-right: 0.2em;padding-left: 0.2em;position: relative;}#sk-container-id-1 div.sk-item {position: relative;z-index: 1;}#sk-container-id-1 div.sk-parallel {display: flex;align-items: stretch;justify-content: center;background-color: white;position: relative;}#sk-container-id-1 div.sk-item::before, #sk-container-id-1 div.sk-parallel-item::before {content: \"\";position: absolute;border-left: 1px solid gray;box-sizing: border-box;top: 0;bottom: 0;left: 50%;z-index: -1;}#sk-container-id-1 div.sk-parallel-item {display: flex;flex-direction: column;z-index: 1;position: relative;background-color: white;}#sk-container-id-1 div.sk-parallel-item:first-child::after {align-self: flex-end;width: 50%;}#sk-container-id-1 div.sk-parallel-item:last-child::after {align-self: flex-start;width: 50%;}#sk-container-id-1 div.sk-parallel-item:only-child::after {width: 0;}#sk-container-id-1 div.sk-dashed-wrapped {border: 1px dashed gray;margin: 0 0.4em 0.5em 0.4em;box-sizing: border-box;padding-bottom: 0.4em;background-color: white;}#sk-container-id-1 div.sk-label label {font-family: monospace;font-weight: bold;display: inline-block;line-height: 1.2em;}#sk-container-id-1 div.sk-label-container {text-align: center;}#sk-container-id-1 div.sk-container {/* jupyter's `normalize.less` sets `[hidden] { display: none; }` but bootstrap.min.css set `[hidden] { display: none !important; }` so we also need the `!important` here to be able to override the default hidden behavior on the sphinx rendered scikit-learn.org. See: https://github.com/scikit-learn/scikit-learn/issues/21755 */display: inline-block !important;position: relative;}#sk-container-id-1 div.sk-text-repr-fallback {display: none;}</style><div id=\"sk-container-id-1\" class=\"sk-top-container\"><div class=\"sk-text-repr-fallback\"><pre>GridSearchCV(cv=5, estimator=RandomForestClassifier(random_state=42), n_jobs=-1,\n",
              "             param_grid={&#x27;criterion&#x27;: [&#x27;gini&#x27;, &#x27;entropy&#x27;],\n",
              "                         &#x27;max_depth&#x27;: [None, 10, 20, 30],\n",
              "                         &#x27;min_samples_split&#x27;: [2, 5, 10],\n",
              "                         &#x27;n_estimators&#x27;: [100, 200, 300]},\n",
              "             scoring=&#x27;accuracy&#x27;)</pre><b>In a Jupyter environment, please rerun this cell to show the HTML representation or trust the notebook. <br />On GitHub, the HTML representation is unable to render, please try loading this page with nbviewer.org.</b></div><div class=\"sk-container\" hidden><div class=\"sk-item sk-dashed-wrapped\"><div class=\"sk-label-container\"><div class=\"sk-label sk-toggleable\"><input class=\"sk-toggleable__control sk-hidden--visually\" id=\"sk-estimator-id-1\" type=\"checkbox\" ><label for=\"sk-estimator-id-1\" class=\"sk-toggleable__label sk-toggleable__label-arrow\">GridSearchCV</label><div class=\"sk-toggleable__content\"><pre>GridSearchCV(cv=5, estimator=RandomForestClassifier(random_state=42), n_jobs=-1,\n",
              "             param_grid={&#x27;criterion&#x27;: [&#x27;gini&#x27;, &#x27;entropy&#x27;],\n",
              "                         &#x27;max_depth&#x27;: [None, 10, 20, 30],\n",
              "                         &#x27;min_samples_split&#x27;: [2, 5, 10],\n",
              "                         &#x27;n_estimators&#x27;: [100, 200, 300]},\n",
              "             scoring=&#x27;accuracy&#x27;)</pre></div></div></div><div class=\"sk-parallel\"><div class=\"sk-parallel-item\"><div class=\"sk-item\"><div class=\"sk-label-container\"><div class=\"sk-label sk-toggleable\"><input class=\"sk-toggleable__control sk-hidden--visually\" id=\"sk-estimator-id-2\" type=\"checkbox\" ><label for=\"sk-estimator-id-2\" class=\"sk-toggleable__label sk-toggleable__label-arrow\">estimator: RandomForestClassifier</label><div class=\"sk-toggleable__content\"><pre>RandomForestClassifier(random_state=42)</pre></div></div></div><div class=\"sk-serial\"><div class=\"sk-item\"><div class=\"sk-estimator sk-toggleable\"><input class=\"sk-toggleable__control sk-hidden--visually\" id=\"sk-estimator-id-3\" type=\"checkbox\" ><label for=\"sk-estimator-id-3\" class=\"sk-toggleable__label sk-toggleable__label-arrow\">RandomForestClassifier</label><div class=\"sk-toggleable__content\"><pre>RandomForestClassifier(random_state=42)</pre></div></div></div></div></div></div></div></div></div></div>"
            ]
          },
          "metadata": {},
          "execution_count": 19
        }
      ]
    },
    {
      "cell_type": "markdown",
      "source": [
        "###Best Parameters:\n",
        "Description: This task extracts the best parameters found by GridSearchCV and initializes the best-performing model. These parameters will be used to train the final model, which should yield the best results based on the search criteria."
      ],
      "metadata": {
        "id": "oOyfmojiHU3z"
      }
    },
    {
      "cell_type": "code",
      "source": [
        "# Best parameters\n",
        "best_params = grid_search.best_params_\n",
        "best_rf_classifier = grid_search.best_estimator_\n"
      ],
      "metadata": {
        "id": "WUE1RHiFHRVY"
      },
      "execution_count": null,
      "outputs": []
    },
    {
      "cell_type": "markdown",
      "source": [
        "### Summarize Hyperparameter Tuning Results\n",
        "Description: This task involves extracting and summarizing the best hyperparameters and performance metrics from the grid search or random search tuning process. The best combination of hyperparameters is identified based on cross-validation, providing insights into how the model was optimized for performance.\n"
      ],
      "metadata": {
        "id": "f8VdKVa9esOC"
      }
    },
    {
      "cell_type": "code",
      "source": [
        "# Extract the best parameters and summarize\n",
        "def hyperparameter_tuning_summary(grid_search):\n",
        "    print(\"### Hyperparameter Tuning Summary ###\")\n",
        "    print(f\"Best Number of Estimators: {grid_search.best_params_['n_estimators']}\")\n",
        "    print(f\"Best Maximum Depth: {grid_search.best_params_['max_depth']}\")\n",
        "    print(f\"Best Minimum Samples Split: {grid_search.best_params_['min_samples_split']}\")\n",
        "    print(f\"Best Criterion: {grid_search.best_params_['criterion']}\")\n",
        "    print(f\"Best Cross-Validation Accuracy: {grid_search.best_score_:.4f}\")\n",
        "\n",
        "# Generate summary\n",
        "hyperparameter_tuning_summary(grid_search)\n"
      ],
      "metadata": {
        "id": "tQXNNb26elaE",
        "outputId": "7671ee75-3ac0-4a0c-e4d6-c07d1a4f3805",
        "colab": {
          "base_uri": "https://localhost:8080/"
        }
      },
      "execution_count": null,
      "outputs": [
        {
          "output_type": "stream",
          "name": "stdout",
          "text": [
            "### Hyperparameter Tuning Summary ###\n",
            "Best Number of Estimators: 100\n",
            "Best Maximum Depth: None\n",
            "Best Minimum Samples Split: 5\n",
            "Best Criterion: gini\n",
            "Best Cross-Validation Accuracy: 0.9622\n"
          ]
        }
      ]
    },
    {
      "cell_type": "markdown",
      "source": [
        "### Evaluate Model Performance Across Training, Test, and Cross-Validation Sets\n",
        "Description: This task evaluates the RandomForestClassifier on three distinct sets: the training set, test set, and cross-validation set. By assessing performance on these sets, we can determine how well the model fits the training data, generalizes to unseen test data, and performs under cross-validation to ensure robust results. The metrics used include accuracy for each of these sets.\n"
      ],
      "metadata": {
        "id": "gfRhxOSAjnIE"
      }
    },
    {
      "cell_type": "code",
      "source": [
        "# Evaluate the model's accuracy on the test set\n",
        "test_accuracy = best_rf_classifier.score(X_test, y_test)\n",
        "print(f\"Test Accuracy: {test_accuracy * 100:.2f}%\")\n",
        "\n",
        "# Display the best cross-validation accuracy from the GridSearchCV\n",
        "print(\"Best cross-validation accuracy: {:.2f}%\".format(grid_search.best_score_ * 100))\n",
        "\n",
        "# Evaluate the model's accuracy on the training set\n",
        "training_accuracy = best_rf_classifier.score(X_train, y_train)\n",
        "print(f\"Training Accuracy: {training_accuracy * 100:.2f}%\")\n"
      ],
      "metadata": {
        "id": "z80eskC3jv4T",
        "outputId": "69ad3dcd-89b9-4235-fe8e-a271ce2ba0e6",
        "colab": {
          "base_uri": "https://localhost:8080/"
        }
      },
      "execution_count": null,
      "outputs": [
        {
          "output_type": "stream",
          "name": "stdout",
          "text": [
            "Test Accuracy: 95.68%\n",
            "Best cross-validation accuracy: 96.22%\n",
            "Training Accuracy: 99.46%\n"
          ]
        }
      ]
    },
    {
      "cell_type": "markdown",
      "source": [
        "###Feature Importance:\n",
        "Description: This task retrieves and visualizes the feature importances of the RandomForestClassifier. It ranks features based on their contribution to the model's predictive power, helping to identify which features are most influential in the model’s decisions."
      ],
      "metadata": {
        "id": "3oJ-Pa7nHbTR"
      }
    },
    {
      "cell_type": "code",
      "source": [
        "# Feature importance\n",
        "importances = best_rf_classifier.feature_importances_\n",
        "indices = np.argsort(importances)[::-1]\n"
      ],
      "metadata": {
        "id": "yiVMnilhHVbD"
      },
      "execution_count": null,
      "outputs": []
    },
    {
      "cell_type": "markdown",
      "source": [
        "###Plot Feature Importances:\n",
        "Description: This task generates a bar plot of the feature importances, helping to visualize the significance of each feature. It helps in understanding which features have the most impact on the predictions, allowing for potential feature selection or further analysis."
      ],
      "metadata": {
        "id": "X8JO0whaHetM"
      }
    },
    {
      "cell_type": "code",
      "source": [
        "# Plot the feature importances\n",
        "plt.figure(figsize=(12, 6))\n",
        "plt.title(\"Feature Importances\")\n",
        "plt.bar(range(X.shape[1]), importances[indices], align=\"center\")\n",
        "plt.xticks(range(X.shape[1]), [X.columns[i] for i in indices], rotation=90)\n",
        "plt.show()\n"
      ],
      "metadata": {
        "id": "y02snWlBHcvb",
        "colab": {
          "base_uri": "https://localhost:8080/",
          "height": 562
        },
        "outputId": "35f780f0-c855-4c7e-cc38-472aa227da2c"
      },
      "execution_count": null,
      "outputs": [
        {
          "output_type": "display_data",
          "data": {
            "text/plain": [
              "<Figure size 1200x600 with 1 Axes>"
            ],
            "image/png": "[encoded data removed]"
          },
          "metadata": {}
        }
      ]
    },
    {
      "cell_type": "markdown",
      "source": [
        "###Predictions and Confusion Matrix:\n",
        "Description: This task makes predictions on the test set using the best-performing model from the GridSearchCV, then computes the confusion matrix to evaluate the model’s performance. The confusion matrix shows the number of true positives, true negatives, false positives, and false negatives, providing a comprehensive view of classification accuracy."
      ],
      "metadata": {
        "id": "Ie6I_idQHh4J"
      }
    },
    {
      "cell_type": "code",
      "source": [
        "# Predictions and confusion matrix\n",
        "y_pred = best_rf_classifier.predict(X_test)\n",
        "cm = confusion_matrix(y_test, y_pred)\n"
      ],
      "metadata": {
        "id": "Kaie3lsnHgbQ"
      },
      "execution_count": null,
      "outputs": []
    },
    {
      "cell_type": "markdown",
      "source": [
        "###Plot Confusion Matrix:\n",
        "\n",
        "Description: This task visualizes the confusion matrix as a heatmap. The confusion matrix shows the number of correct and incorrect predictions made by the classifier for each class. This helps in understanding the classification performance by providing insights into the number of true positives, true negatives, false positives, and false negatives."
      ],
      "metadata": {
        "id": "5x0-spuzHpGB"
      }
    },
    {
      "cell_type": "code",
      "source": [
        "# Plot the confusion matrix\n",
        "plt.figure(figsize=(10, 7))\n",
        "sns.heatmap(cm, annot=True, fmt=\"d\", cmap=\"Blues\")\n",
        "plt.xlabel(\"Predicted\")\n",
        "plt.ylabel(\"True\")\n",
        "plt.title(\"Confusion Matrix\")\n",
        "plt.show()\n"
      ],
      "metadata": {
        "id": "YLgrcVelHkmj",
        "colab": {
          "base_uri": "https://localhost:8080/",
          "height": 641
        },
        "outputId": "0c8d342d-2635-4948-862f-167b9b6777f1"
      },
      "execution_count": null,
      "outputs": [
        {
          "output_type": "display_data",
          "data": {
            "text/plain": [
              "<Figure size 1000x700 with 2 Axes>"
            ],
            "image/png": "[encoded data removed]"
          },
          "metadata": {}
        }
      ]
    },
    {
      "cell_type": "markdown",
      "source": [
        "### Normalized Confusion Matrix:\n",
        "\n",
        "Description: This task generates a normalized confusion matrix to evaluate the performance of the classifier. The confusion matrix shows the percentage of correctly and incorrectly classified instances, normalized by the total number of instances in each class. This helps visualize the classification accuracy for each class."
      ],
      "metadata": {
        "id": "5dhb2cfCh_LJ"
      }
    },
    {
      "cell_type": "code",
      "source": [
        "cm_normalized = cm.astype('float') / cm.sum(axis=1)[:, np.newaxis]\n",
        "\n",
        "plt.figure(figsize=(10, 7))\n",
        "sns.heatmap(cm_normalized, annot=True, fmt=\".2f\", cmap=\"Blues\")\n",
        "plt.xlabel(\"Predicted\")\n",
        "plt.ylabel(\"True\")\n",
        "plt.title(\"Normalized Confusion Matrix\")\n",
        "plt.show()\n"
      ],
      "metadata": {
        "colab": {
          "base_uri": "https://localhost:8080/",
          "height": 641
        },
        "outputId": "9a872505-5c5c-427e-c4f0-a04c8fea96f5",
        "id": "-PpiH9cmch-N"
      },
      "execution_count": null,
      "outputs": [
        {
          "output_type": "display_data",
          "data": {
            "text/plain": [
              "<Figure size 1000x700 with 2 Axes>"
            ],
            "image/png": "[encoded data removed]"
          },
          "metadata": {}
        }
      ]
    },
    {
      "cell_type": "markdown",
      "source": [
        "###Classification Report: (Table)\n",
        "Description: This task generates and prints a detailed classification report that includes precision, recall, F1-score, and support for each class. The report provides a summary of the classifier's performance across multiple metrics, helping to evaluate the overall effectiveness of the model."
      ],
      "metadata": {
        "id": "eEm8_uqEHmt2"
      }
    },
    {
      "cell_type": "code",
      "source": [
        "# Classification report\n",
        "report = classification_report(y_test, y_pred)\n",
        "print(report)\n"
      ],
      "metadata": {
        "id": "CGhu2UyvHq_X",
        "colab": {
          "base_uri": "https://localhost:8080/"
        },
        "outputId": "7a578404-27b4-46bb-b36c-3cd67accdc28"
      },
      "execution_count": null,
      "outputs": [
        {
          "output_type": "stream",
          "name": "stdout",
          "text": [
            "              precision    recall  f1-score   support\n",
            "\n",
            "         0.0       0.96      0.96      0.96        97\n",
            "         1.0       0.95      0.95      0.95        88\n",
            "\n",
            "    accuracy                           0.96       185\n",
            "   macro avg       0.96      0.96      0.96       185\n",
            "weighted avg       0.96      0.96      0.96       185\n",
            "\n"
          ]
        }
      ]
    },
    {
      "cell_type": "markdown",
      "source": [
        "###Classification Report:(Graph)\n",
        "\n",
        "Description: This task creates a classification report that includes precision, recall, F1-score, and support for each class. The results are visualized as a heatmap for easier interpretation of the model’s classification performance across different metrics."
      ],
      "metadata": {
        "id": "OLJYwZGOiCy0"
      }
    },
    {
      "cell_type": "code",
      "source": [
        "from sklearn.metrics import classification_report\n",
        "\n",
        "report = classification_report(y_test, y_pred, output_dict=True)\n",
        "report_df = pd.DataFrame(report).transpose()\n",
        "\n",
        "plt.figure(figsize=(12, 6))\n",
        "sns.heatmap(report_df.iloc[:-1, :].T, annot=True, cmap=\"Blues\")\n",
        "plt.title(\"Classification Report\")\n",
        "plt.show()\n"
      ],
      "metadata": {
        "colab": {
          "base_uri": "https://localhost:8080/",
          "height": 545
        },
        "outputId": "6c9d8ee7-e363-4fb8-b294-7137218f48a4",
        "id": "-yGSVhymck7q"
      },
      "execution_count": null,
      "outputs": [
        {
          "output_type": "display_data",
          "data": {
            "text/plain": [
              "<Figure size 1200x600 with 2 Axes>"
            ],
            "image/png": "[encoded data removed]"
          },
          "metadata": {}
        }
      ]
    },
    {
      "cell_type": "markdown",
      "source": [
        "###Cumulative Gains Chart\n",
        "\n",
        "Description: This task generates a cumulative gains chart to evaluate the performance of the classifier. It shows how well the model distinguishes between the two classes (0 and 1) by plotting the cumulative gains as a function of the percentage of the sample. The closer the curve is to the top-left corner, the better the classifier's performance."
      ],
      "metadata": {
        "id": "Cso53QlXhpoa"
      }
    },
    {
      "cell_type": "code",
      "source": [
        "import scikitplot as skplt\n",
        "# Plot the cumulative gains chart\n",
        "skplt.metrics.plot_cumulative_gain(y_test, best_rf_classifier.predict_proba(X_test))\n",
        "plt.title('Cumulative Gains Chart')\n",
        "plt.show()\n"
      ],
      "metadata": {
        "id": "o-k0YdJ5Hvnh",
        "colab": {
          "base_uri": "https://localhost:8080/",
          "height": 472
        },
        "outputId": "a6f064fa-4b78-40fe-df81-3524c91506c6"
      },
      "execution_count": null,
      "outputs": [
        {
          "output_type": "display_data",
          "data": {
            "text/plain": [
              "<Figure size 640x480 with 1 Axes>"
            ],
            "image/png": "[encoded data removed]"
          },
          "metadata": {}
        }
      ]
    },
    {
      "cell_type": "markdown",
      "source": [
        "###Receiver Operating Characteristic (ROC) Curve:\n",
        "\n",
        "Description: This task plots the ROC curve and calculates the AUC (Area Under the Curve) score. The ROC curve visualizes the trade-off between the true positive rate (sensitivity) and false positive rate for different threshold values. The AUC score quantifies the model's overall ability to discriminate between classes, with a value closer to 1 indicating better performance."
      ],
      "metadata": {
        "id": "OusbEywthrvQ"
      }
    },
    {
      "cell_type": "code",
      "source": [
        "from sklearn.metrics import roc_curve, roc_auc_score\n",
        "\n",
        "# Compute the ROC curve and AUC score\n",
        "y_prob = best_rf_classifier.predict_proba(X_test)[:, 1]  # Assuming binary classification\n",
        "fpr, tpr, _ = roc_curve(y_test, y_prob)\n",
        "auc_score = roc_auc_score(y_test, y_prob)\n",
        "\n",
        "# Plot the ROC curve\n",
        "plt.figure(figsize=(8, 6))\n",
        "plt.plot(fpr, tpr, color='blue', label=f'AUC = {auc_score:.2f}')\n",
        "plt.plot([0, 1], [0, 1], color='red', linestyle='--')\n",
        "plt.xlabel('False Positive Rate')\n",
        "plt.ylabel('True Positive Rate')\n",
        "plt.title('Receiver Operating Characteristic (ROC) Curve')\n",
        "plt.legend()\n",
        "plt.show()\n"
      ],
      "metadata": {
        "colab": {
          "base_uri": "https://localhost:8080/",
          "height": 564
        },
        "outputId": "c6545973-3a87-4177-85cf-5e45571ba2ca",
        "id": "b12UQTyWcSzH"
      },
      "execution_count": null,
      "outputs": [
        {
          "output_type": "display_data",
          "data": {
            "text/plain": [
              "<Figure size 800x600 with 1 Axes>"
            ],
            "image/png": "[encoded data removed]"
          },
          "metadata": {}
        }
      ]
    },
    {
      "cell_type": "markdown",
      "source": [
        "###Precision-Recall Curve:\n",
        "\n",
        "Description: This task generates the precision-recall curve to evaluate the model's performance, especially for imbalanced datasets. The curve plots precision versus recall for different threshold values, with higher values indicating better performance. The average precision score is also calculated."
      ],
      "metadata": {
        "id": "gyNEJHyRhxZy"
      }
    },
    {
      "cell_type": "code",
      "source": [
        "from sklearn.metrics import precision_recall_curve, average_precision_score\n",
        "\n",
        "# Compute the Precision-Recall curve and average precision score\n",
        "precision, recall, _ = precision_recall_curve(y_test, y_prob)\n",
        "avg_precision = average_precision_score(y_test, y_prob)\n",
        "\n",
        "# Plot the Precision-Recall curve\n",
        "plt.figure(figsize=(8, 6))\n",
        "plt.plot(recall, precision, color='blue', label=f'Average Precision = {avg_precision:.2f}')\n",
        "plt.xlabel('Recall')\n",
        "plt.ylabel('Precision')\n",
        "plt.title('Precision-Recall Curve')\n",
        "plt.legend()\n",
        "plt.show()\n"
      ],
      "metadata": {
        "colab": {
          "base_uri": "https://localhost:8080/",
          "height": 564
        },
        "outputId": "0c3d2ab6-c778-4f03-f057-99aa4637991d",
        "id": "q6OExnRDcV9f"
      },
      "execution_count": null,
      "outputs": [
        {
          "output_type": "display_data",
          "data": {
            "text/plain": [
              "<Figure size 800x600 with 1 Axes>"
            ],
            "image/png": "[encoded data removed]"
          },
          "metadata": {}
        }
      ]
    },
    {
      "cell_type": "markdown",
      "source": [
        "###Learning Curves:\n",
        "\n",
        "Description: This task computes and plots the learning curves to analyze the model’s performance with respect to the size of the training dataset. The plot shows the training and validation accuracy as a function of the training set size, helping to identify whether the model suffers from high bias or high variance.\n",
        "\n"
      ],
      "metadata": {
        "id": "hiWfWpoUh4el"
      }
    },
    {
      "cell_type": "code",
      "source": [
        "from sklearn.model_selection import learning_curve\n",
        "\n",
        "# Compute learning curves\n",
        "train_sizes, train_scores, val_scores = learning_curve(best_rf_classifier, X_scaled, y, cv=5, scoring='accuracy', n_jobs=-1)\n",
        "\n",
        "# Calculate mean and standard deviation for training and validation scores\n",
        "train_mean = np.mean(train_scores, axis=1)\n",
        "train_std = np.std(train_scores, axis=1)\n",
        "val_mean = np.mean(val_scores, axis=1)\n",
        "val_std = np.std(val_scores, axis=1)\n",
        "\n",
        "# Plot learning curves\n",
        "plt.figure(figsize=(10, 6))\n",
        "plt.plot(train_sizes, train_mean, label='Training score')\n",
        "plt.plot(train_sizes, val_mean, label='Validation score')\n",
        "plt.fill_between(train_sizes, train_mean - train_std, train_mean + train_std, alpha=0.1)\n",
        "plt.fill_between(train_sizes, val_mean - val_std, val_mean + val_std, alpha=0.1)\n",
        "plt.xlabel('Training Set Size')\n",
        "plt.ylabel('Accuracy')\n",
        "plt.title('Learning Curves')\n",
        "plt.legend()\n",
        "plt.show()\n"
      ],
      "metadata": {
        "colab": {
          "base_uri": "https://localhost:8080/",
          "height": 564
        },
        "outputId": "84fb5f1e-9dee-4121-d0f3-946e70240328",
        "id": "jWixNqu7cYyS"
      },
      "execution_count": null,
      "outputs": [
        {
          "output_type": "display_data",
          "data": {
            "text/plain": [
              "<Figure size 1000x600 with 1 Axes>"
            ],
            "image/png": "[encoded data removed]"
          },
          "metadata": {}
        }
      ]
    },
    {
      "cell_type": "markdown",
      "source": [
        "### Feature Importances:\n",
        "\n",
        "Description: This task visualizes the importance of each feature used in the model. By plotting the relative importance of each feature, the task helps identify which features contribute the most to the model's predictive power."
      ],
      "metadata": {
        "id": "FHEBMpdKh74-"
      }
    },
    {
      "cell_type": "code",
      "source": [
        "importances = best_rf_classifier.feature_importances_\n",
        "indices = np.argsort(importances)[::-1]\n",
        "\n",
        "plt.figure(figsize=(12, 6))\n",
        "plt.title(\"Feature Importances\")\n",
        "plt.bar(range(X.shape[1]), importances[indices], align=\"center\")\n",
        "plt.xticks(range(X.shape[1]), [X.columns[i] for i in indices], rotation=90)\n",
        "plt.show()\n"
      ],
      "metadata": {
        "colab": {
          "base_uri": "https://localhost:8080/",
          "height": 562
        },
        "outputId": "97da290b-e435-4cee-cabb-2de47e1ac92b",
        "id": "8Ww3IqEyceC8"
      },
      "execution_count": null,
      "outputs": [
        {
          "output_type": "display_data",
          "data": {
            "text/plain": [
              "<Figure size 1200x600 with 1 Axes>"
            ],
            "image/png": "[encoded data removed]"
          },
          "metadata": {}
        }
      ]
    },
    {
      "cell_type": "markdown",
      "source": [
        "###Partial Dependence Plot:\n",
        "\n",
        "Description: This task generates partial dependence plots (PDP) to visualize the relationship between selected features and the target variable, holding other features constant. PDPs help interpret how the model's predictions change with varying values of specific features, providing insights into feature importance."
      ],
      "metadata": {
        "id": "98dIOztfew4b"
      }
    },
    {
      "cell_type": "code",
      "source": [
        "from sklearn.inspection import PartialDependenceDisplay\n",
        "import matplotlib.pyplot as plt\n",
        "\n",
        "# Example: first two features\n",
        "features = [0, 1]\n",
        "\n",
        "# Create subplots for partial dependence\n",
        "fig, ax = plt.subplots(figsize=(12, 6))\n",
        "\n",
        "# Use PartialDependenceDisplay instead of plot_partial_dependence\n",
        "PartialDependenceDisplay.from_estimator(best_rf_classifier, X_train, features, ax=ax)\n",
        "\n",
        "# Show the plot\n",
        "plt.show()\n"
      ],
      "metadata": {
        "id": "Bhqnb9azCcu0",
        "colab": {
          "base_uri": "https://localhost:8080/",
          "height": 542
        },
        "outputId": "58122403-ef76-435d-a64f-8839481bf5aa"
      },
      "execution_count": null,
      "outputs": [
        {
          "output_type": "display_data",
          "data": {
            "text/plain": [
              "<Figure size 1200x600 with 3 Axes>"
            ],
            "image/png": "[encoded data removed]"
          },
          "metadata": {}
        }
      ]
    },
    {
      "cell_type": "markdown",
      "source": [
        "### ===================  TASK A -  COMPLETED  ============================="
      ],
      "metadata": {
        "id": "PAkH0kXLIUaa"
      }
    },
    {
      "cell_type": "markdown",
      "source": [
        "### TASK B. Multi-label image-based digit classification problem"
      ],
      "metadata": {
        "id": "GzLDLg4kIUt7"
      }
    },
    {
      "cell_type": "markdown",
      "source": [
        "###Task Requirments:\n",
        "\n",
        "6. Load and preprocess the dataset for the multi-label image-based digit classification problem (normalise pixel values, resize images if necessary, etc).\n",
        "\n",
        "7. Build a convolutional neural network (CNN) model for the multi-label image-based digit classification task.\n",
        "\n",
        "8. Fine-tune the CNN model using appropriate techniques (eg, hyperparameter tuning, cross-validation, etc).\n",
        "\n",
        "9. Visualise the dataset and / or the CNN model's results, where applicable (eg, feature maps, learning curves, etc).\n",
        "\n",
        "10. Report the final performance of the CNN model using appropriate performance metrics (eg, accuracy, F1-score, etc).\n",
        "\n",
        "11. Collaborate within the team and decide on the best model (for classification) and CNN architecture (for digit recognition).\n"
      ],
      "metadata": {
        "id": "QRAgh8X5IiS1"
      }
    },
    {
      "cell_type": "markdown",
      "source": [
        "###Response to Task Requirements 6 to 11"
      ],
      "metadata": {
        "id": "s5dCWztHJdW9"
      }
    },
    {
      "cell_type": "markdown",
      "source": [
        "### Setup and Dependencies\n",
        "Description: This section installs the required software and libraries for extracting files and setting up the working environment."
      ],
      "metadata": {
        "id": "LmXATLCqcLpG"
      }
    },
    {
      "cell_type": "code",
      "execution_count": 4,
      "metadata": {
        "colab": {
          "base_uri": "https://localhost:8080/"
        },
        "outputId": "6d0a4c0a-0f9e-4589-b94b-e6537f3eeccb",
        "id": "B7VMjoG9U4Nm"
      },
      "outputs": [
        {
          "output_type": "stream",
          "name": "stdout",
          "text": [
            "Reading package lists... Done\n",
            "Building dependency tree... Done\n",
            "Reading state information... Done\n",
            "p7zip-full is already the newest version (16.02+dfsg-8).\n",
            "0 upgraded, 0 newly installed, 0 to remove and 49 not upgraded.\n",
            "Collecting patool\n",
            "  Downloading patool-2.4.0-py2.py3-none-any.whl.metadata (4.0 kB)\n",
            "Downloading patool-2.4.0-py2.py3-none-any.whl (96 kB)\n",
            "\u001b[2K   \u001b[90m━━━━━━━━━━━━━━━━━━━━━━━━━━━━━━━━━━━━━━━━\u001b[0m \u001b[32m96.9/96.9 kB\u001b[0m \u001b[31m1.8 MB/s\u001b[0m eta \u001b[36m0:00:00\u001b[0m\n",
            "\u001b[?25hInstalling collected packages: patool\n",
            "Successfully installed patool-2.4.0\n"
          ]
        },
        {
          "output_type": "stream",
          "name": "stderr",
          "text": [
            "INFO patool: Extracting /content/drive/MyDrive/dataset2.zip ...\n",
            "INFO:patool:Extracting /content/drive/MyDrive/dataset2.zip ...\n",
            "INFO patool: ... creating output directory `./dataset2'.\n",
            "INFO:patool:... creating output directory `./dataset2'.\n",
            "INFO patool: running /usr/bin/7z x -o./dataset2 -- /content/drive/MyDrive/dataset2.zip\n",
            "INFO:patool:running /usr/bin/7z x -o./dataset2 -- /content/drive/MyDrive/dataset2.zip\n",
            "INFO patool:     with input=''\n",
            "INFO:patool:    with input=''\n",
            "INFO patool: ... /content/drive/MyDrive/dataset2.zip extracted to `./dataset2'.\n",
            "INFO:patool:... /content/drive/MyDrive/dataset2.zip extracted to `./dataset2'.\n"
          ]
        },
        {
          "output_type": "stream",
          "name": "stdout",
          "text": [
            "['triple_mnist']\n"
          ]
        }
      ],
      "source": [
        "### Section 1: Setup and Dependencies\n",
        "!apt-get install p7zip-full # Install 7-Zip\n",
        "!pip install patool # Install the patool library which provides the patoolib module\n",
        "import zipfile\n",
        "import os\n",
        "import patoolib # Now you can import patoolib\n",
        "\n",
        "# Path to the uploaded zip file\n",
        "zip_file_path = '/content/drive/MyDrive/dataset2.zip'\n",
        "extracted_folder_path = './dataset2'  # Use a relative path for the extraction directory\n",
        "\n",
        "# Extract the zip file using patool\n",
        "patoolib.extract_archive(zip_file_path, outdir=extracted_folder_path)\n",
        "\n",
        "# List the contents of the extracted folder\n",
        "extracted_files = os.listdir(extracted_folder_path)\n",
        "print(extracted_files)\n",
        "\n"
      ]
    },
    {
      "cell_type": "markdown",
      "source": [
        " ### Dataset Directory Setup and File Splitting:\n",
        "\n",
        " In this section, you are reorganising the dataset by splitting the images into training, validation, and test sets based on predefined ratios (60% train, 20% validation, 20% test). The files are copied into new directories structured in a way that can be easily fed into machine learning models for training and evaluation."
      ],
      "metadata": {
        "id": "qcfGEGSuc-I0"
      }
    },
    {
      "cell_type": "code",
      "source": [
        "# Import Libraries\n",
        "import os\n",
        "import shutil\n",
        "from pathlib import Path\n",
        "import random\n",
        "\n",
        "# Paths to original directories\n",
        "original_base_dir = Path('dataset2/triple_mnist')\n",
        "original_train_dir = original_base_dir / 'train'\n",
        "original_val_dir = original_base_dir / 'val'\n",
        "original_test_dir = original_base_dir / 'test'\n",
        "\n",
        "# Path to the new dataset directory\n",
        "new_base_dir = Path('dataset-c/triple_mnist')\n",
        "new_train_dir = new_base_dir / 'train'\n",
        "new_val_dir = new_base_dir / 'val'\n",
        "new_test_dir = new_base_dir / 'test'\n",
        "\n",
        "# Ensure the new directories exist\n",
        "new_train_dir.mkdir(parents=True, exist_ok=True)\n",
        "new_val_dir.mkdir(parents=True, exist_ok=True)\n",
        "new_test_dir.mkdir(parents=True, exist_ok=True)\n",
        "\n",
        "# Function to split and copy files\n",
        "def split_and_copy_files(src_dir, new_train_dir, new_val_dir, new_test_dir, train_ratio=0.6, val_ratio=0.2, test_ratio=0.2):\n",
        "    if not src_dir.exists():\n",
        "        return\n",
        "\n",
        "    classes = sorted(os.listdir(src_dir))\n",
        "\n",
        "    for cls in classes:\n",
        "        cls_path = src_dir / cls\n",
        "        if cls_path.is_dir():\n",
        "            images = list(cls_path.glob('*'))\n",
        "            random.shuffle(images)\n",
        "\n",
        "            num_train = int(len(images) * train_ratio)\n",
        "            num_val = int(len(images) * val_ratio)\n",
        "\n",
        "            train_images = images[:num_train]\n",
        "            val_images = images[num_train:num_train+num_val]\n",
        "            test_images = images[num_train+num_val:]\n",
        "\n",
        "            cls_train_dir = new_train_dir / cls\n",
        "            cls_val_dir = new_val_dir / cls\n",
        "            cls_test_dir = new_test_dir / cls\n",
        "\n",
        "            cls_train_dir.mkdir(parents=True, exist_ok=True)\n",
        "            cls_val_dir.mkdir(parents=True, exist_ok=True)\n",
        "            cls_test_dir.mkdir(parents=True, exist_ok=True)\n",
        "\n",
        "            for img in train_images:\n",
        "                shutil.copy(str(img), str(cls_train_dir / img.name))\n",
        "            for img in val_images:\n",
        "                shutil.copy(str(img), str(cls_val_dir / img.name))\n",
        "            for img in test_images:\n",
        "                shutil.copy(str(img), str(cls_test_dir / img.name))\n",
        "\n",
        "# Split and copy files from original train, val, and test directories\n",
        "split_and_copy_files(original_train_dir, new_train_dir, new_val_dir, new_test_dir)\n",
        "split_and_copy_files(original_val_dir, new_train_dir, new_val_dir, new_test_dir)\n",
        "split_and_copy_files(original_test_dir, new_train_dir, new_val_dir, new_test_dir)\n",
        "\n",
        "print(\"Files split and copied successfully!\")"
      ],
      "metadata": {
        "colab": {
          "base_uri": "https://localhost:8080/"
        },
        "id": "XFDSyQu_wCfZ",
        "outputId": "9ecb34e8-03f0-4a45-b41a-9a10f08e0e02"
      },
      "execution_count": 5,
      "outputs": [
        {
          "output_type": "stream",
          "name": "stdout",
          "text": [
            "Files split and copied successfully!\n"
          ]
        }
      ]
    },
    {
      "cell_type": "markdown",
      "source": [
        "### Importing Essential Libraries\n",
        "\n",
        "Description: This section imports the key libraries and modules required for handling data, building and training a CNN model, and visualizing results. These include tools for image processing, deep learning model construction, and utilities for handling class imbalances.It includes the Keras Tuner library for hyperparameter tuning, as well as key Keras components like Conv2D, Dense, Adam, and callback methods such as EarlyStopping and ReduceLROnPlateau."
      ],
      "metadata": {
        "id": "MMG69-JceJRb"
      }
    },
    {
      "cell_type": "code",
      "source": [
        "#  import keras_tuner as kt\n",
        "!pip install keras-tuner -q\n",
        "\n",
        "import os\n",
        "import numpy as np\n",
        "import tensorflow as tf\n",
        "import keras_tuner as kt\n",
        "from tensorflow.keras.preprocessing.image import ImageDataGenerator\n",
        "from tensorflow.keras.models import Sequential\n",
        "from tensorflow.keras.layers import Conv2D, MaxPooling2D, Flatten, Dense, Dropout, BatchNormalization\n",
        "from tensorflow.keras.optimizers import Adam\n",
        "from tensorflow.keras.regularizers import l2\n",
        "from tensorflow.keras.callbacks import EarlyStopping, ReduceLROnPlateau\n",
        "import matplotlib.pyplot as plt\n",
        "from sklearn.utils.class_weight import compute_class_weight"
      ],
      "metadata": {
        "id": "MwY_8XZskUhn",
        "colab": {
          "base_uri": "https://localhost:8080/"
        },
        "outputId": "698e6f8e-27c8-483f-bfc9-5a431c5b0cf5"
      },
      "execution_count": 2,
      "outputs": [
        {
          "output_type": "stream",
          "name": "stdout",
          "text": [
            "\u001b[?25l   \u001b[90m━━━━━━━━━━━━━━━━━━━━━━━━━━━━━━━━━━━━━━━━\u001b[0m \u001b[32m0.0/129.1 kB\u001b[0m \u001b[31m?\u001b[0m eta \u001b[36m-:--:--\u001b[0m\r\u001b[2K   \u001b[91m━━━━━━━━━━━━━━━━━━━━━━\u001b[0m\u001b[90m╺\u001b[0m\u001b[90m━━━━━━━━━━━━━━━━━\u001b[0m \u001b[32m71.7/129.1 kB\u001b[0m \u001b[31m2.6 MB/s\u001b[0m eta \u001b[36m0:00:01\u001b[0m\r\u001b[2K   \u001b[90m━━━━━━━━━━━━━━━━━━━━━━━━━━━━━━━━━━━━━━━━\u001b[0m \u001b[32m129.1/129.1 kB\u001b[0m \u001b[31m2.4 MB/s\u001b[0m eta \u001b[36m0:00:00\u001b[0m\n",
            "\u001b[?25h"
          ]
        }
      ]
    },
    {
      "cell_type": "markdown",
      "source": [
        "### Dataset Preparation and Image Loading\n",
        "Description: In this section, directories for training, validation, and testing datasets are defined. It also specifies image size, batch size, and creates ImageDataGenerator instances to rescale pixel values and load the images in grayscale mode. These generators are then used to load images into the model for training, validation, and testing, ensuring data is ready for further processing."
      ],
      "metadata": {
        "id": "rxxcUwuHfGHs"
      }
    },
    {
      "cell_type": "code",
      "source": [
        "# Define directories for training, validation, and testing datasets\n",
        "train_dir = os.path.join('/content/dataset-c/triple_mnist/train')\n",
        "val_dir = os.path.join('/content/dataset-c/triple_mnist/val')\n",
        "test_dir = os.path.join('/content/dataset-c/triple_mnist/test')\n",
        "\n",
        "# Image size and batch size\n",
        "image_size = (42, 42)\n",
        "batch_size = 32\n",
        "\n",
        "# Create ImageDataGenerator with color_mode set to 'grayscale'\n",
        "train_datagen = ImageDataGenerator(rescale=1.0/255.0)\n",
        "val_datagen = ImageDataGenerator(rescale=1.0/255.0)\n",
        "test_datagen = ImageDataGenerator(rescale=1.0/255.0)\n",
        "\n",
        "# Load images with 'grayscale' mode\n",
        "train_generator = train_datagen.flow_from_directory(\n",
        "    train_dir,\n",
        "    target_size=image_size,\n",
        "    batch_size=batch_size,\n",
        "    class_mode='categorical',\n",
        "    color_mode='grayscale',  # Convert images to grayscale\n",
        "    shuffle=True\n",
        ")\n",
        "\n",
        "val_generator = val_datagen.flow_from_directory(\n",
        "    val_dir,\n",
        "    target_size=image_size,\n",
        "    batch_size=batch_size,\n",
        "    class_mode='categorical',\n",
        "    color_mode='grayscale',  # Convert images to grayscale\n",
        "    shuffle=False\n",
        ")\n",
        "\n",
        "test_generator = test_datagen.flow_from_directory(\n",
        "    test_dir,\n",
        "    target_size=image_size,\n",
        "    batch_size=batch_size,\n",
        "    class_mode='categorical',\n",
        "    color_mode='grayscale',  # Convert images to grayscale\n",
        "    shuffle=False\n",
        ")"
      ],
      "metadata": {
        "id": "uX6DrweQWvko",
        "colab": {
          "base_uri": "https://localhost:8080/"
        },
        "outputId": "8c602053-3998-43a0-82dc-d615c0a50d72"
      },
      "execution_count": 6,
      "outputs": [
        {
          "output_type": "stream",
          "name": "stdout",
          "text": [
            "Found 60000 images belonging to 1000 classes.\n",
            "Found 20000 images belonging to 1000 classes.\n",
            "Found 20000 images belonging to 1000 classes.\n"
          ]
        }
      ]
    },
    {
      "cell_type": "markdown",
      "source": [
        "###Building the Model - Hyperparameter Tuning with Keras Tuner\n",
        "\n",
        "Description: This section sets up the Keras Tuner to optimize the hyperparameters of the CNN model, including the number of filters, dense units, dropout rate, learning rate, L2 regularization, batch size, and activation function. It uses the Hyperband search algorithm and evaluates the model based on validation accuracy."
      ],
      "metadata": {
        "id": "ZtDeUHwcd6X0"
      }
    },
    {
      "cell_type": "code",
      "source": [
        "from tensorflow.keras.layers import Input\n",
        "\n",
        "# Function to build the model with hyperparameters\n",
        "def build_model(hp):\n",
        "    model = Sequential()\n",
        "\n",
        "    # Define the input layer explicitly to avoid warnings\n",
        "    model.add(Input(shape=(42, 42, 1)))\n",
        "\n",
        "    # Hyperparameters to tune\n",
        "    hp_filters_1 = hp.Int('filters_1', min_value=32, max_value=128, step=32)\n",
        "    hp_filters_2 = hp.Int('filters_2', min_value=64, max_value=256, step=64)\n",
        "    hp_dense_units = hp.Int('dense_units', min_value=64, max_value=256, step=64)\n",
        "    hp_dropout_rate = hp.Float('dropout_rate', min_value=0.2, max_value=0.5, step=0.1)\n",
        "    hp_learning_rate = hp.Float('learning_rate', min_value=1e-4, max_value=1e-2, sampling='log')\n",
        "    hp_l2_reg = hp.Float('l2_regularization', min_value=1e-5, max_value=1e-2, sampling='log')\n",
        "    hp_batch_size = hp.Choice('batch_size', values=[16, 32, 64])\n",
        "    hp_activation = hp.Choice('activation', values=['relu', 'leaky_relu', 'sigmoid', 'tanh'])\n",
        "\n",
        "    # First convolutional layer\n",
        "    model.add(Conv2D(hp_filters_1, (3, 3), kernel_regularizer=l2(hp_l2_reg)))\n",
        "    if hp_activation == 'leaky_relu':\n",
        "        model.add(tf.keras.layers.LeakyReLU(alpha=0.01))\n",
        "    else:\n",
        "        model.add(tf.keras.layers.Activation(hp_activation))\n",
        "    model.add(BatchNormalization())\n",
        "    model.add(MaxPooling2D((2, 2)))\n",
        "\n",
        "    # Second convolutional layer\n",
        "    model.add(Conv2D(hp_filters_2, (3, 3), kernel_regularizer=l2(hp_l2_reg)))\n",
        "    if hp_activation == 'leaky_relu':\n",
        "        model.add(tf.keras.layers.LeakyReLU(alpha=0.01))\n",
        "    else:\n",
        "        model.add(tf.keras.layers.Activation(hp_activation))\n",
        "    model.add(BatchNormalization())\n",
        "    model.add(MaxPooling2D((2, 2)))\n",
        "\n",
        "    # Fully connected layer\n",
        "    model.add(Flatten())\n",
        "    model.add(Dense(hp_dense_units, kernel_regularizer=l2(hp_l2_reg)))\n",
        "    if hp_activation == 'leaky_relu':\n",
        "        model.add(tf.keras.layers.LeakyReLU(alpha=0.01))\n",
        "    else:\n",
        "        model.add(tf.keras.layers.Activation(hp_activation))\n",
        "    model.add(BatchNormalization())\n",
        "    model.add(Dropout(hp_dropout_rate))\n",
        "\n",
        "    # Output layer\n",
        "    model.add(Dense(train_generator.num_classes, activation='softmax'))\n",
        "\n",
        "    # Compile model\n",
        "    model.compile(optimizer=Adam(learning_rate=hp_learning_rate),\n",
        "                  loss='categorical_crossentropy',\n",
        "                  metrics=['accuracy'])\n",
        "\n",
        "    return model\n",
        "\n"
      ],
      "metadata": {
        "id": "SlvEdFFud-LU"
      },
      "execution_count": 7,
      "outputs": []
    },
    {
      "cell_type": "markdown",
      "source": [
        "###Hyperparameter Tuning with Keras Tune\n",
        "Description:\n",
        "This section sets up the Keras Tuner using the Hyperband search algorithm. It defines the objective (val_accuracy) to optimize and sets a maximum of 20 epochs. The results will be saved in the specified directory."
      ],
      "metadata": {
        "id": "TOKNtgyHeNOt"
      }
    },
    {
      "cell_type": "code",
      "source": [
        "# Instantiate the Keras Tuner\n",
        "tuner = kt.Hyperband(\n",
        "    build_model,\n",
        "    objective='val_accuracy',\n",
        "    max_epochs=20,\n",
        "    factor=3,\n",
        "    directory='/content/drive/MyDrive/my_dir',\n",
        "    project_name='cnn_tuning'\n",
        ")\n"
      ],
      "metadata": {
        "id": "F9V7fGZmfMIY",
        "colab": {
          "base_uri": "https://localhost:8080/"
        },
        "outputId": "cc5f3a1a-6c41-4775-fdec-9a210d01e68a"
      },
      "execution_count": 10,
      "outputs": [
        {
          "output_type": "stream",
          "name": "stdout",
          "text": [
            "Reloading Tuner from /content/drive/MyDrive/my_dir/cnn_tuning/tuner0.json\n"
          ]
        }
      ]
    },
    {
      "cell_type": "markdown",
      "source": [
        "###Callbacks and Running the Hyperparameter Search\n",
        "Description:\n",
        "This section defines two callbacks: EarlyStopping to halt training when the validation loss stops improving, and ReduceLROnPlateau to reduce the learning rate when the validation loss plateaus. Then, it runs the hyperparameter tuning using the tuner.search function on the training and validation datasets."
      ],
      "metadata": {
        "id": "WMs7QOOeefqx"
      }
    },
    {
      "cell_type": "code",
      "source": [
        "# Set up callbacks\n",
        "early_stopping = EarlyStopping(monitor='val_loss', patience=5, restore_best_weights=True)\n",
        "reduce_lr = ReduceLROnPlateau(monitor='val_loss', factor=0.2, patience=3, min_lr=1e-5)\n",
        "\n",
        "# Run the hyperparameter search\n",
        "tuner.search(train_generator,\n",
        "             epochs=20,\n",
        "             validation_data=val_generator,\n",
        "             callbacks=[early_stopping, reduce_lr])\n"
      ],
      "metadata": {
        "id": "qHcj6dACetYE"
      },
      "execution_count": 13,
      "outputs": []
    },
    {
      "cell_type": "markdown",
      "source": [
        "###Retrieve Best Hyperparameters and Model\n",
        "Description:\n",
        "Once the search is complete, this section retrieves the best set of hyperparameters and the model associated with those parameters. It then prints out the optimal values for each hyperparameter."
      ],
      "metadata": {
        "id": "ZcbQnF24ewSc"
      }
    },
    {
      "cell_type": "code",
      "source": [
        "# Get the best hyperparameters and model\n",
        "best_hp = tuner.get_best_hyperparameters(num_trials=1)[0]\n",
        "best_model = tuner.get_best_models(num_models=1)[0]\n",
        "\n",
        "# Print the best hyperparameters found\n",
        "print(\"Best Hyperparameters:\")\n",
        "print(f\"Filters for 1st Conv Layer: {best_hp.get('filters_1')}\")\n",
        "print(f\"Filters for 2nd Conv Layer: {best_hp.get('filters_2')}\")\n",
        "print(f\"Dense Units: {best_hp.get('dense_units')}\")\n",
        "print(f\"Dropout Rate: {best_hp.get('dropout_rate')}\")\n",
        "print(f\"Learning Rate: {best_hp.get('learning_rate')}\")\n",
        "print(f\"L2 Regularization: {best_hp.get('l2_regularization')}\")\n",
        "print(f\"Batch Size: {best_hp.get('batch_size')}\")\n",
        "print(f\"Activation Function: {best_hp.get('activation')}\")\n"
      ],
      "metadata": {
        "id": "PBU_3yFjeVnV",
        "colab": {
          "base_uri": "https://localhost:8080/"
        },
        "outputId": "d54b7e2e-9676-45fe-e4fa-3081e16b1866"
      },
      "execution_count": 14,
      "outputs": [
        {
          "output_type": "stream",
          "name": "stdout",
          "text": [
            "Best Hyperparameters:\n",
            "Filters for 1st Conv Layer: 96\n",
            "Filters for 2nd Conv Layer: 64\n",
            "Dense Units: 128\n",
            "Dropout Rate: 0.4\n",
            "Learning Rate: 0.00025071332274895686\n",
            "L2 Regularization: 0.002369069534544757\n",
            "Batch Size: 16\n",
            "Activation Function: leaky_relu\n"
          ]
        }
      ]
    },
    {
      "cell_type": "markdown",
      "source": [
        "###Section 6: Model Summary and Final Training\n",
        "Description:\n",
        "This section prints the architecture of the best model found by the tuner. It then trains the model using the optimal hyperparameters on the full dataset for 20 epochs with the defined callbacks."
      ],
      "metadata": {
        "id": "OaKLYD2QfaS0"
      }
    },
    {
      "cell_type": "code",
      "source": [
        "# Print the model architecture\n",
        "print(\"\\nWinning Model Architecture:\")\n",
        "best_model.summary()\n",
        "\n",
        "# Train the model with the best hyperparameters on the full dataset\n",
        "history = best_model.fit(train_generator,\n",
        "                         epochs=20,\n",
        "                         validation_data=val_generator,\n",
        "                         callbacks=[early_stopping, reduce_lr])\n"
      ],
      "metadata": {
        "id": "UK5EconQfiGi",
        "colab": {
          "base_uri": "https://localhost:8080/",
          "height": 1000
        },
        "outputId": "c2b79f1a-8d15-41f5-b633-8413a2fda5ab"
      },
      "execution_count": 16,
      "outputs": [
        {
          "metadata": {
            "tags": null
          },
          "name": "stdout",
          "output_type": "stream",
          "text": [
            "\n",
            "Winning Model Architecture:\n"
          ]
        },
        {
          "data": {
            "text/html": [
              "<pre style=\"white-space:pre;overflow-x:auto;line-height:normal;font-family:Menlo,'DejaVu Sans Mono',consolas,'Courier New',monospace\"><span style=\"font-weight: bold\">Model: \"sequential\"</span>\n",
              "</pre>\n"
            ],
            "text/plain": [
              "\u001b[1mModel: \"sequential\"\u001b[0m\n"
            ]
          },
          "metadata": {},
          "output_type": "display_data"
        },
        {
          "data": {
            "text/html": [
              "<pre style=\"white-space:pre;overflow-x:auto;line-height:normal;font-family:Menlo,'DejaVu Sans Mono',consolas,'Courier New',monospace\">┏━━━━━━━━━━━━━━━━━━━━━━━━━━━━━━━━━━━━━━┳━━━━━━━━━━━━━━━━━━━━━━━━━━━━━┳━━━━━━━━━━━━━━━━━┓\n",
              "┃<span style=\"font-weight: bold\"> Layer (type)                         </span>┃<span style=\"font-weight: bold\"> Output Shape                </span>┃<span style=\"font-weight: bold\">         Param # </span>┃\n",
              "┡━━━━━━━━━━━━━━━━━━━━━━━━━━━━━━━━━━━━━━╇━━━━━━━━━━━━━━━━━━━━━━━━━━━━━╇━━━━━━━━━━━━━━━━━┩\n",
              "│ conv2d (<span style=\"color: #0087ff; text-decoration-color: #0087ff\">Conv2D</span>)                      │ (<span style=\"color: #00d7ff; text-decoration-color: #00d7ff\">None</span>, <span style=\"color: #00af00; text-decoration-color: #00af00\">40</span>, <span style=\"color: #00af00; text-decoration-color: #00af00\">40</span>, <span style=\"color: #00af00; text-decoration-color: #00af00\">96</span>)          │             <span style=\"color: #00af00; text-decoration-color: #00af00\">960</span> │\n",
              "├──────────────────────────────────────┼─────────────────────────────┼─────────────────┤\n",
              "│ leaky_re_lu (<span style=\"color: #0087ff; text-decoration-color: #0087ff\">LeakyReLU</span>)              │ (<span style=\"color: #00d7ff; text-decoration-color: #00d7ff\">None</span>, <span style=\"color: #00af00; text-decoration-color: #00af00\">40</span>, <span style=\"color: #00af00; text-decoration-color: #00af00\">40</span>, <span style=\"color: #00af00; text-decoration-color: #00af00\">96</span>)          │               <span style=\"color: #00af00; text-decoration-color: #00af00\">0</span> │\n",
              "├──────────────────────────────────────┼─────────────────────────────┼─────────────────┤\n",
              "│ batch_normalization                  │ (<span style=\"color: #00d7ff; text-decoration-color: #00d7ff\">None</span>, <span style=\"color: #00af00; text-decoration-color: #00af00\">40</span>, <span style=\"color: #00af00; text-decoration-color: #00af00\">40</span>, <span style=\"color: #00af00; text-decoration-color: #00af00\">96</span>)          │             <span style=\"color: #00af00; text-decoration-color: #00af00\">384</span> │\n",
              "│ (<span style=\"color: #0087ff; text-decoration-color: #0087ff\">BatchNormalization</span>)                 │                             │                 │\n",
              "├──────────────────────────────────────┼─────────────────────────────┼─────────────────┤\n",
              "│ max_pooling2d (<span style=\"color: #0087ff; text-decoration-color: #0087ff\">MaxPooling2D</span>)         │ (<span style=\"color: #00d7ff; text-decoration-color: #00d7ff\">None</span>, <span style=\"color: #00af00; text-decoration-color: #00af00\">20</span>, <span style=\"color: #00af00; text-decoration-color: #00af00\">20</span>, <span style=\"color: #00af00; text-decoration-color: #00af00\">96</span>)          │               <span style=\"color: #00af00; text-decoration-color: #00af00\">0</span> │\n",
              "├──────────────────────────────────────┼─────────────────────────────┼─────────────────┤\n",
              "│ conv2d_1 (<span style=\"color: #0087ff; text-decoration-color: #0087ff\">Conv2D</span>)                    │ (<span style=\"color: #00d7ff; text-decoration-color: #00d7ff\">None</span>, <span style=\"color: #00af00; text-decoration-color: #00af00\">18</span>, <span style=\"color: #00af00; text-decoration-color: #00af00\">18</span>, <span style=\"color: #00af00; text-decoration-color: #00af00\">64</span>)          │          <span style=\"color: #00af00; text-decoration-color: #00af00\">55,360</span> │\n",
              "├──────────────────────────────────────┼─────────────────────────────┼─────────────────┤\n",
              "│ leaky_re_lu_1 (<span style=\"color: #0087ff; text-decoration-color: #0087ff\">LeakyReLU</span>)            │ (<span style=\"color: #00d7ff; text-decoration-color: #00d7ff\">None</span>, <span style=\"color: #00af00; text-decoration-color: #00af00\">18</span>, <span style=\"color: #00af00; text-decoration-color: #00af00\">18</span>, <span style=\"color: #00af00; text-decoration-color: #00af00\">64</span>)          │               <span style=\"color: #00af00; text-decoration-color: #00af00\">0</span> │\n",
              "├──────────────────────────────────────┼─────────────────────────────┼─────────────────┤\n",
              "│ batch_normalization_1                │ (<span style=\"color: #00d7ff; text-decoration-color: #00d7ff\">None</span>, <span style=\"color: #00af00; text-decoration-color: #00af00\">18</span>, <span style=\"color: #00af00; text-decoration-color: #00af00\">18</span>, <span style=\"color: #00af00; text-decoration-color: #00af00\">64</span>)          │             <span style=\"color: #00af00; text-decoration-color: #00af00\">256</span> │\n",
              "│ (<span style=\"color: #0087ff; text-decoration-color: #0087ff\">BatchNormalization</span>)                 │                             │                 │\n",
              "├──────────────────────────────────────┼─────────────────────────────┼─────────────────┤\n",
              "│ max_pooling2d_1 (<span style=\"color: #0087ff; text-decoration-color: #0087ff\">MaxPooling2D</span>)       │ (<span style=\"color: #00d7ff; text-decoration-color: #00d7ff\">None</span>, <span style=\"color: #00af00; text-decoration-color: #00af00\">9</span>, <span style=\"color: #00af00; text-decoration-color: #00af00\">9</span>, <span style=\"color: #00af00; text-decoration-color: #00af00\">64</span>)            │               <span style=\"color: #00af00; text-decoration-color: #00af00\">0</span> │\n",
              "├──────────────────────────────────────┼─────────────────────────────┼─────────────────┤\n",
              "│ flatten (<span style=\"color: #0087ff; text-decoration-color: #0087ff\">Flatten</span>)                    │ (<span style=\"color: #00d7ff; text-decoration-color: #00d7ff\">None</span>, <span style=\"color: #00af00; text-decoration-color: #00af00\">5184</span>)                │               <span style=\"color: #00af00; text-decoration-color: #00af00\">0</span> │\n",
              "├──────────────────────────────────────┼─────────────────────────────┼─────────────────┤\n",
              "│ dense (<span style=\"color: #0087ff; text-decoration-color: #0087ff\">Dense</span>)                        │ (<span style=\"color: #00d7ff; text-decoration-color: #00d7ff\">None</span>, <span style=\"color: #00af00; text-decoration-color: #00af00\">128</span>)                 │         <span style=\"color: #00af00; text-decoration-color: #00af00\">663,680</span> │\n",
              "├──────────────────────────────────────┼─────────────────────────────┼─────────────────┤\n",
              "│ leaky_re_lu_2 (<span style=\"color: #0087ff; text-decoration-color: #0087ff\">LeakyReLU</span>)            │ (<span style=\"color: #00d7ff; text-decoration-color: #00d7ff\">None</span>, <span style=\"color: #00af00; text-decoration-color: #00af00\">128</span>)                 │               <span style=\"color: #00af00; text-decoration-color: #00af00\">0</span> │\n",
              "├──────────────────────────────────────┼─────────────────────────────┼─────────────────┤\n",
              "│ batch_normalization_2                │ (<span style=\"color: #00d7ff; text-decoration-color: #00d7ff\">None</span>, <span style=\"color: #00af00; text-decoration-color: #00af00\">128</span>)                 │             <span style=\"color: #00af00; text-decoration-color: #00af00\">512</span> │\n",
              "│ (<span style=\"color: #0087ff; text-decoration-color: #0087ff\">BatchNormalization</span>)                 │                             │                 │\n",
              "├──────────────────────────────────────┼─────────────────────────────┼─────────────────┤\n",
              "│ dropout (<span style=\"color: #0087ff; text-decoration-color: #0087ff\">Dropout</span>)                    │ (<span style=\"color: #00d7ff; text-decoration-color: #00d7ff\">None</span>, <span style=\"color: #00af00; text-decoration-color: #00af00\">128</span>)                 │               <span style=\"color: #00af00; text-decoration-color: #00af00\">0</span> │\n",
              "├──────────────────────────────────────┼─────────────────────────────┼─────────────────┤\n",
              "│ dense_1 (<span style=\"color: #0087ff; text-decoration-color: #0087ff\">Dense</span>)                      │ (<span style=\"color: #00d7ff; text-decoration-color: #00d7ff\">None</span>, <span style=\"color: #00af00; text-decoration-color: #00af00\">1000</span>)                │         <span style=\"color: #00af00; text-decoration-color: #00af00\">129,000</span> │\n",
              "└──────────────────────────────────────┴─────────────────────────────┴─────────────────┘\n",
              "</pre>\n"
            ],
            "text/plain": [
              "┏━━━━━━━━━━━━━━━━━━━━━━━━━━━━━━━━━━━━━━┳━━━━━━━━━━━━━━━━━━━━━━━━━━━━━┳━━━━━━━━━━━━━━━━━┓\n",
              "┃\u001b[1m \u001b[0m\u001b[1mLayer (type)                        \u001b[0m\u001b[1m \u001b[0m┃\u001b[1m \u001b[0m\u001b[1mOutput Shape               \u001b[0m\u001b[1m \u001b[0m┃\u001b[1m \u001b[0m\u001b[1m        Param #\u001b[0m\u001b[1m \u001b[0m┃\n",
              "┡━━━━━━━━━━━━━━━━━━━━━━━━━━━━━━━━━━━━━━╇━━━━━━━━━━━━━━━━━━━━━━━━━━━━━╇━━━━━━━━━━━━━━━━━┩\n",
              "│ conv2d (\u001b[38;5;33mConv2D\u001b[0m)                      │ (\u001b[38;5;45mNone\u001b[0m, \u001b[38;5;34m40\u001b[0m, \u001b[38;5;34m40\u001b[0m, \u001b[38;5;34m96\u001b[0m)          │             \u001b[38;5;34m960\u001b[0m │\n",
              "├──────────────────────────────────────┼─────────────────────────────┼─────────────────┤\n",
              "│ leaky_re_lu (\u001b[38;5;33mLeakyReLU\u001b[0m)              │ (\u001b[38;5;45mNone\u001b[0m, \u001b[38;5;34m40\u001b[0m, \u001b[38;5;34m40\u001b[0m, \u001b[38;5;34m96\u001b[0m)          │               \u001b[38;5;34m0\u001b[0m │\n",
              "├──────────────────────────────────────┼─────────────────────────────┼─────────────────┤\n",
              "│ batch_normalization                  │ (\u001b[38;5;45mNone\u001b[0m, \u001b[38;5;34m40\u001b[0m, \u001b[38;5;34m40\u001b[0m, \u001b[38;5;34m96\u001b[0m)          │             \u001b[38;5;34m384\u001b[0m │\n",
              "│ (\u001b[38;5;33mBatchNormalization\u001b[0m)                 │                             │                 │\n",
              "├──────────────────────────────────────┼─────────────────────────────┼─────────────────┤\n",
              "│ max_pooling2d (\u001b[38;5;33mMaxPooling2D\u001b[0m)         │ (\u001b[38;5;45mNone\u001b[0m, \u001b[38;5;34m20\u001b[0m, \u001b[38;5;34m20\u001b[0m, \u001b[38;5;34m96\u001b[0m)          │               \u001b[38;5;34m0\u001b[0m │\n",
              "├──────────────────────────────────────┼─────────────────────────────┼─────────────────┤\n",
              "│ conv2d_1 (\u001b[38;5;33mConv2D\u001b[0m)                    │ (\u001b[38;5;45mNone\u001b[0m, \u001b[38;5;34m18\u001b[0m, \u001b[38;5;34m18\u001b[0m, \u001b[38;5;34m64\u001b[0m)          │          \u001b[38;5;34m55,360\u001b[0m │\n",
              "├──────────────────────────────────────┼─────────────────────────────┼─────────────────┤\n",
              "│ leaky_re_lu_1 (\u001b[38;5;33mLeakyReLU\u001b[0m)            │ (\u001b[38;5;45mNone\u001b[0m, \u001b[38;5;34m18\u001b[0m, \u001b[38;5;34m18\u001b[0m, \u001b[38;5;34m64\u001b[0m)          │               \u001b[38;5;34m0\u001b[0m │\n",
              "├──────────────────────────────────────┼─────────────────────────────┼─────────────────┤\n",
              "│ batch_normalization_1                │ (\u001b[38;5;45mNone\u001b[0m, \u001b[38;5;34m18\u001b[0m, \u001b[38;5;34m18\u001b[0m, \u001b[38;5;34m64\u001b[0m)          │             \u001b[38;5;34m256\u001b[0m │\n",
              "│ (\u001b[38;5;33mBatchNormalization\u001b[0m)                 │                             │                 │\n",
              "├──────────────────────────────────────┼─────────────────────────────┼─────────────────┤\n",
              "│ max_pooling2d_1 (\u001b[38;5;33mMaxPooling2D\u001b[0m)       │ (\u001b[38;5;45mNone\u001b[0m, \u001b[38;5;34m9\u001b[0m, \u001b[38;5;34m9\u001b[0m, \u001b[38;5;34m64\u001b[0m)            │               \u001b[38;5;34m0\u001b[0m │\n",
              "├──────────────────────────────────────┼─────────────────────────────┼─────────────────┤\n",
              "│ flatten (\u001b[38;5;33mFlatten\u001b[0m)                    │ (\u001b[38;5;45mNone\u001b[0m, \u001b[38;5;34m5184\u001b[0m)                │               \u001b[38;5;34m0\u001b[0m │\n",
              "├──────────────────────────────────────┼─────────────────────────────┼─────────────────┤\n",
              "│ dense (\u001b[38;5;33mDense\u001b[0m)                        │ (\u001b[38;5;45mNone\u001b[0m, \u001b[38;5;34m128\u001b[0m)                 │         \u001b[38;5;34m663,680\u001b[0m │\n",
              "├──────────────────────────────────────┼─────────────────────────────┼─────────────────┤\n",
              "│ leaky_re_lu_2 (\u001b[38;5;33mLeakyReLU\u001b[0m)            │ (\u001b[38;5;45mNone\u001b[0m, \u001b[38;5;34m128\u001b[0m)                 │               \u001b[38;5;34m0\u001b[0m │\n",
              "├──────────────────────────────────────┼─────────────────────────────┼─────────────────┤\n",
              "│ batch_normalization_2                │ (\u001b[38;5;45mNone\u001b[0m, \u001b[38;5;34m128\u001b[0m)                 │             \u001b[38;5;34m512\u001b[0m │\n",
              "│ (\u001b[38;5;33mBatchNormalization\u001b[0m)                 │                             │                 │\n",
              "├──────────────────────────────────────┼─────────────────────────────┼─────────────────┤\n",
              "│ dropout (\u001b[38;5;33mDropout\u001b[0m)                    │ (\u001b[38;5;45mNone\u001b[0m, \u001b[38;5;34m128\u001b[0m)                 │               \u001b[38;5;34m0\u001b[0m │\n",
              "├──────────────────────────────────────┼─────────────────────────────┼─────────────────┤\n",
              "│ dense_1 (\u001b[38;5;33mDense\u001b[0m)                      │ (\u001b[38;5;45mNone\u001b[0m, \u001b[38;5;34m1000\u001b[0m)                │         \u001b[38;5;34m129,000\u001b[0m │\n",
              "└──────────────────────────────────────┴─────────────────────────────┴─────────────────┘\n"
            ]
          },
          "metadata": {},
          "output_type": "display_data"
        },
        {
          "data": {
            "text/html": [
              "<pre style=\"white-space:pre;overflow-x:auto;line-height:normal;font-family:Menlo,'DejaVu Sans Mono',consolas,'Courier New',monospace\"><span style=\"font-weight: bold\"> Total params: </span><span style=\"color: #00af00; text-decoration-color: #00af00\">2,549,306</span> (9.72 MB)\n",
              "</pre>\n"
            ],
            "text/plain": [
              "\u001b[1m Total params: \u001b[0m\u001b[38;5;34m2,549,306\u001b[0m (9.72 MB)\n"
            ]
          },
          "metadata": {},
          "output_type": "display_data"
        },
        {
          "data": {
            "text/html": [
              "<pre style=\"white-space:pre;overflow-x:auto;line-height:normal;font-family:Menlo,'DejaVu Sans Mono',consolas,'Courier New',monospace\"><span style=\"font-weight: bold\"> Trainable params: </span><span style=\"color: #00af00; text-decoration-color: #00af00\">849,576</span> (3.24 MB)\n",
              "</pre>\n"
            ],
            "text/plain": [
              "\u001b[1m Trainable params: \u001b[0m\u001b[38;5;34m849,576\u001b[0m (3.24 MB)\n"
            ]
          },
          "metadata": {},
          "output_type": "display_data"
        },
        {
          "data": {
            "text/html": [
              "<pre style=\"white-space:pre;overflow-x:auto;line-height:normal;font-family:Menlo,'DejaVu Sans Mono',consolas,'Courier New',monospace\"><span style=\"font-weight: bold\"> Non-trainable params: </span><span style=\"color: #00af00; text-decoration-color: #00af00\">576</span> (2.25 KB)\n",
              "</pre>\n"
            ],
            "text/plain": [
              "\u001b[1m Non-trainable params: \u001b[0m\u001b[38;5;34m576\u001b[0m (2.25 KB)\n"
            ]
          },
          "metadata": {},
          "output_type": "display_data"
        },
        {
          "data": {
            "text/html": [
              "<pre style=\"white-space:pre;overflow-x:auto;line-height:normal;font-family:Menlo,'DejaVu Sans Mono',consolas,'Courier New',monospace\"><span style=\"font-weight: bold\"> Optimizer params: </span><span style=\"color: #00af00; text-decoration-color: #00af00\">1,699,154</span> (6.48 MB)\n",
              "</pre>\n"
            ],
            "text/plain": [
              "\u001b[1m Optimizer params: \u001b[0m\u001b[38;5;34m1,699,154\u001b[0m (6.48 MB)\n"
            ]
          },
          "metadata": {},
          "output_type": "display_data"
        },
        {
          "output_type": "stream",
          "name": "stdout",
          "text": [
            "Epoch 1/20\n",
            "\u001b[1m1875/1875\u001b[0m \u001b[32m━━━━━━━━━━━━━━━━━━━━\u001b[0m\u001b[37m\u001b[0m \u001b[1m535s\u001b[0m 285ms/step - accuracy: 0.9333 - loss: 0.4114 - val_accuracy: 0.9598 - val_loss: 0.3527 - learning_rate: 2.5071e-04\n",
            "Epoch 2/20\n",
            "\u001b[1m1875/1875\u001b[0m \u001b[32m━━━━━━━━━━━━━━━━━━━━\u001b[0m\u001b[37m\u001b[0m \u001b[1m564s\u001b[0m 287ms/step - accuracy: 0.9460 - loss: 0.4010 - val_accuracy: 0.9516 - val_loss: 0.4054 - learning_rate: 2.5071e-04\n",
            "Epoch 3/20\n",
            "\u001b[1m1875/1875\u001b[0m \u001b[32m━━━━━━━━━━━━━━━━━━━━\u001b[0m\u001b[37m\u001b[0m \u001b[1m550s\u001b[0m 280ms/step - accuracy: 0.9510 - loss: 0.3968 - val_accuracy: 0.9471 - val_loss: 0.4171 - learning_rate: 2.5071e-04\n",
            "Epoch 4/20\n",
            "\u001b[1m1875/1875\u001b[0m \u001b[32m━━━━━━━━━━━━━━━━━━━━\u001b[0m\u001b[37m\u001b[0m \u001b[1m519s\u001b[0m 277ms/step - accuracy: 0.9508 - loss: 0.4001 - val_accuracy: 0.9445 - val_loss: 0.4331 - learning_rate: 2.5071e-04\n",
            "Epoch 5/20\n",
            "\u001b[1m1875/1875\u001b[0m \u001b[32m━━━━━━━━━━━━━━━━━━━━\u001b[0m\u001b[37m\u001b[0m \u001b[1m521s\u001b[0m 278ms/step - accuracy: 0.9663 - loss: 0.3591 - val_accuracy: 0.9670 - val_loss: 0.3300 - learning_rate: 5.0143e-05\n",
            "Epoch 6/20\n",
            "\u001b[1m1875/1875\u001b[0m \u001b[32m━━━━━━━━━━━━━━━━━━━━\u001b[0m\u001b[37m\u001b[0m \u001b[1m521s\u001b[0m 277ms/step - accuracy: 0.9828 - loss: 0.2813 - val_accuracy: 0.9679 - val_loss: 0.3010 - learning_rate: 5.0143e-05\n",
            "Epoch 7/20\n",
            "\u001b[1m1875/1875\u001b[0m \u001b[32m━━━━━━━━━━━━━━━━━━━━\u001b[0m\u001b[37m\u001b[0m \u001b[1m564s\u001b[0m 278ms/step - accuracy: 0.9870 - loss: 0.2419 - val_accuracy: 0.9704 - val_loss: 0.2748 - learning_rate: 5.0143e-05\n",
            "Epoch 8/20\n",
            "\u001b[1m1875/1875\u001b[0m \u001b[32m━━━━━━━━━━━━━━━━━━━━\u001b[0m\u001b[37m\u001b[0m \u001b[1m570s\u001b[0m 283ms/step - accuracy: 0.9894 - loss: 0.2159 - val_accuracy: 0.9694 - val_loss: 0.2576 - learning_rate: 5.0143e-05\n",
            "Epoch 9/20\n",
            "\u001b[1m1875/1875\u001b[0m \u001b[32m━━━━━━━━━━━━━━━━━━━━\u001b[0m\u001b[37m\u001b[0m \u001b[1m553s\u001b[0m 278ms/step - accuracy: 0.9908 - loss: 0.1933 - val_accuracy: 0.9679 - val_loss: 0.2402 - learning_rate: 5.0143e-05\n",
            "Epoch 10/20\n",
            "\u001b[1m1875/1875\u001b[0m \u001b[32m━━━━━━━━━━━━━━━━━━━━\u001b[0m\u001b[37m\u001b[0m \u001b[1m518s\u001b[0m 276ms/step - accuracy: 0.9918 - loss: 0.1751 - val_accuracy: 0.9693 - val_loss: 0.2299 - learning_rate: 5.0143e-05\n",
            "Epoch 11/20\n",
            "\u001b[1m1875/1875\u001b[0m \u001b[32m━━━━━━━━━━━━━━━━━━━━\u001b[0m\u001b[37m\u001b[0m \u001b[1m573s\u001b[0m 282ms/step - accuracy: 0.9928 - loss: 0.1612 - val_accuracy: 0.9668 - val_loss: 0.2281 - learning_rate: 5.0143e-05\n",
            "Epoch 12/20\n",
            "\u001b[1m1875/1875\u001b[0m \u001b[32m━━━━━━━━━━━━━━━━━━━━\u001b[0m\u001b[37m\u001b[0m \u001b[1m525s\u001b[0m 280ms/step - accuracy: 0.9929 - loss: 0.1495 - val_accuracy: 0.9674 - val_loss: 0.2172 - learning_rate: 5.0143e-05\n",
            "Epoch 13/20\n",
            "\u001b[1m1875/1875\u001b[0m \u001b[32m━━━━━━━━━━━━━━━━━━━━\u001b[0m\u001b[37m\u001b[0m \u001b[1m515s\u001b[0m 274ms/step - accuracy: 0.9926 - loss: 0.1418 - val_accuracy: 0.9694 - val_loss: 0.2062 - learning_rate: 5.0143e-05\n",
            "Epoch 14/20\n",
            "\u001b[1m1875/1875\u001b[0m \u001b[32m━━━━━━━━━━━━━━━━━━━━\u001b[0m\u001b[37m\u001b[0m \u001b[1m566s\u001b[0m 277ms/step - accuracy: 0.9931 - loss: 0.1341 - val_accuracy: 0.9693 - val_loss: 0.1997 - learning_rate: 5.0143e-05\n",
            "Epoch 15/20\n",
            "\u001b[1m1875/1875\u001b[0m \u001b[32m━━━━━━━━━━━━━━━━━━━━\u001b[0m\u001b[37m\u001b[0m \u001b[1m519s\u001b[0m 277ms/step - accuracy: 0.9933 - loss: 0.1281 - val_accuracy: 0.9669 - val_loss: 0.2004 - learning_rate: 5.0143e-05\n",
            "Epoch 16/20\n",
            "\u001b[1m1875/1875\u001b[0m \u001b[32m━━━━━━━━━━━━━━━━━━━━\u001b[0m\u001b[37m\u001b[0m \u001b[1m556s\u001b[0m 274ms/step - accuracy: 0.9933 - loss: 0.1225 - val_accuracy: 0.9682 - val_loss: 0.1921 - learning_rate: 5.0143e-05\n",
            "Epoch 17/20\n",
            "\u001b[1m1875/1875\u001b[0m \u001b[32m━━━━━━━━━━━━━━━━━━━━\u001b[0m\u001b[37m\u001b[0m \u001b[1m515s\u001b[0m 275ms/step - accuracy: 0.9940 - loss: 0.1177 - val_accuracy: 0.9664 - val_loss: 0.1949 - learning_rate: 5.0143e-05\n",
            "Epoch 18/20\n",
            "\u001b[1m1875/1875\u001b[0m \u001b[32m━━━━━━━━━━━━━━━━━━━━\u001b[0m\u001b[37m\u001b[0m \u001b[1m560s\u001b[0m 274ms/step - accuracy: 0.9934 - loss: 0.1147 - val_accuracy: 0.9673 - val_loss: 0.1891 - learning_rate: 5.0143e-05\n",
            "Epoch 19/20\n",
            "\u001b[1m1875/1875\u001b[0m \u001b[32m━━━━━━━━━━━━━━━━━━━━\u001b[0m\u001b[37m\u001b[0m \u001b[1m521s\u001b[0m 278ms/step - accuracy: 0.9932 - loss: 0.1124 - val_accuracy: 0.9678 - val_loss: 0.1869 - learning_rate: 5.0143e-05\n",
            "Epoch 20/20\n",
            "\u001b[1m1875/1875\u001b[0m \u001b[32m━━━━━━━━━━━━━━━━━━━━\u001b[0m\u001b[37m\u001b[0m \u001b[1m555s\u001b[0m 274ms/step - accuracy: 0.9934 - loss: 0.1079 - val_accuracy: 0.9666 - val_loss: 0.1917 - learning_rate: 5.0143e-05\n"
          ]
        }
      ]
    },
    {
      "cell_type": "markdown",
      "source": [
        "###Plot Learning Curves\n",
        "Description:\n",
        "This section visualizes the training and validation accuracy and loss over time by plotting the learning curves. It uses matplotlib to display two subplots: one for accuracy and one for loss."
      ],
      "metadata": {
        "id": "a37MJhSWflRc"
      }
    },
    {
      "cell_type": "code",
      "source": [
        "# Plot learning curves\n",
        "import matplotlib.pyplot as plt\n",
        "\n",
        "plt.figure(figsize=(12, 4))\n",
        "\n",
        "plt.subplot(1, 2, 1)\n",
        "plt.plot(history.history['accuracy'], label='accuracy')\n",
        "plt.plot(history.history['val_accuracy'], label='val_accuracy')\n",
        "plt.xlabel('Epoch')\n",
        "plt.ylabel('Accuracy')\n",
        "plt.ylim([0, 1])\n",
        "plt.legend(loc='lower right')\n",
        "\n",
        "plt.subplot(1, 2, 2)\n",
        "plt.plot(history.history['loss'], label='loss')\n",
        "plt.plot(history.history['val_loss'], label='val_loss')\n",
        "plt.xlabel('Epoch')\n",
        "plt.ylabel('Loss')\n",
        "plt.legend(loc='upper right')\n",
        "\n",
        "plt.show()\n"
      ],
      "metadata": {
        "id": "elrgkBVsfsIi",
        "colab": {
          "base_uri": "https://localhost:8080/",
          "height": 392
        },
        "outputId": "ecbe7d25-ecdc-41b1-bd0a-b866f1425635"
      },
      "execution_count": 17,
      "outputs": [
        {
          "output_type": "display_data",
          "data": {
            "text/plain": [
              "<Figure size 1200x400 with 2 Axes>"
            ],
            "image/png": "[encoded data removed]"
          },
          "metadata": {}
        }
      ]
    },
    {
      "cell_type": "markdown",
      "source": [
        "###Evaluate the Model on Test Data\n",
        "Description:\n",
        "The final section evaluates the best model on the test dataset and prints the resulting accuracy. This provides a measure of how well the model generalizes to unseen data."
      ],
      "metadata": {
        "id": "1Win4yThfv15"
      }
    },
    {
      "cell_type": "code",
      "source": [
        "# Evaluate the model on the test data\n",
        "test_loss, test_accuracy = best_model.evaluate(test_generator)\n",
        "print(f'Test accuracy: {test_accuracy:.4f}')\n"
      ],
      "metadata": {
        "id": "C9IEVhkuf0sk",
        "colab": {
          "base_uri": "https://localhost:8080/"
        },
        "outputId": "0765ae72-f755-400a-d405-e03e7f54d17d"
      },
      "execution_count": 18,
      "outputs": [
        {
          "output_type": "stream",
          "name": "stdout",
          "text": [
            "\u001b[1m625/625\u001b[0m \u001b[32m━━━━━━━━━━━━━━━━━━━━\u001b[0m\u001b[37m\u001b[0m \u001b[1m44s\u001b[0m 70ms/step - accuracy: 0.9726 - loss: 0.1680\n",
            "Test accuracy: 0.9683\n"
          ]
        }
      ]
    },
    {
      "cell_type": "code",
      "source": [
        "# Normalize the confusion matrix by dividing each value by the sum of its row (i.e., number of actual occurrences per class)\n",
        "# Add a small value (epsilon) to avoid division by zero\n",
        "epsilon = 1e-10  # Small value to prevent division by zero\n",
        "conf_matrix_subset_normalized = conf_matrix_subset.astype('float') / (conf_matrix_subset.sum(axis=1)[:, np.newaxis] + epsilon)\n",
        "\n",
        "plt.figure(figsize=(12, 10))  # Increase the size of the figure\n",
        "sns.heatmap(conf_matrix_subset_normalized, annot=False, fmt='.2f', cmap='Blues',\n",
        "            xticklabels=list(test_generator.class_indices.keys())[:20],  # Limit to first 20 classes for readability\n",
        "            yticklabels=list(test_generator.class_indices.keys())[:20])  # Adjust this number as needed\n",
        "plt.xticks(rotation=90)  # Rotate x-axis labels for better readability\n",
        "plt.yticks(rotation=0)  # Keep y-axis labels horizontal\n",
        "plt.title('Normalized Confusion Matrix (Subset)')\n",
        "plt.ylabel('Actual Label')\n",
        "plt.xlabel('Predicted Label')\n",
        "plt.show()\n"
      ],
      "metadata": {
        "colab": {
          "base_uri": "https://localhost:8080/",
          "height": 885
        },
        "id": "TPzTaF9yBZyT",
        "outputId": "e9764f44-b04c-4170-c736-89b75c5fbef7"
      },
      "execution_count": null,
      "outputs": [
        {
          "output_type": "display_data",
          "data": {
            "text/plain": [
              "<Figure size 1200x1000 with 2 Axes>"
            ],
            "image/png": "[encoded data removed]"
          },
          "metadata": {}
        }
      ]
    },
    {
      "cell_type": "markdown",
      "source": [
        "###Classification Report Generation\n",
        "Description: This section generates a classification report for the model, including precision, recall, f1-score, and support for each class. It prints a summary for the entire dataset based on the model’s predictions."
      ],
      "metadata": {
        "id": "_R71YSo07C-c"
      }
    },
    {
      "cell_type": "code",
      "source": [
        "from sklearn.metrics import classification_report\n",
        "\n",
        "# Predict probabilities for the test set\n",
        "pred_probabilities = best_model.predict(test_generator, steps=test_generator.samples // test_generator.batch_size)\n",
        "\n",
        "# Convert probabilities to class indices\n",
        "pred_classes = np.argmax(pred_probabilities, axis=1)\n",
        "\n",
        "# Get true classes\n",
        "true_classes = test_generator.classes\n",
        "\n",
        "# Generate a classification report\n",
        "report = classification_report(true_classes, pred_classes, target_names=test_generator.class_indices.keys())\n",
        "print(report)\n"
      ],
      "metadata": {
        "id": "GFwHHkE6Cbj1",
        "colab": {
          "base_uri": "https://localhost:8080/"
        },
        "outputId": "92eb1ec8-22ee-4666-c8d4-e12b79115f6e"
      },
      "execution_count": 20,
      "outputs": [
        {
          "output_type": "stream",
          "name": "stdout",
          "text": [
            "\u001b[1m625/625\u001b[0m \u001b[32m━━━━━━━━━━━━━━━━━━━━\u001b[0m\u001b[37m\u001b[0m \u001b[1m42s\u001b[0m 68ms/step\n",
            "              precision    recall  f1-score   support\n",
            "\n",
            "         000       0.91      1.00      0.95        20\n",
            "         001       1.00      1.00      1.00        20\n",
            "         002       0.87      1.00      0.93        20\n",
            "         003       1.00      0.95      0.97        20\n",
            "         004       0.95      0.95      0.95        20\n",
            "         005       1.00      1.00      1.00        20\n",
            "         006       0.95      1.00      0.98        20\n",
            "         007       1.00      1.00      1.00        20\n",
            "         008       1.00      1.00      1.00        20\n",
            "         009       1.00      1.00      1.00        20\n",
            "         010       1.00      0.95      0.97        20\n",
            "         011       1.00      1.00      1.00        20\n",
            "         012       1.00      1.00      1.00        20\n",
            "         013       0.95      1.00      0.98        20\n",
            "         014       1.00      0.95      0.97        20\n",
            "         015       0.90      0.95      0.93        20\n",
            "         016       1.00      1.00      1.00        20\n",
            "         017       1.00      1.00      1.00        20\n",
            "         018       1.00      1.00      1.00        20\n",
            "         019       0.95      0.95      0.95        20\n",
            "         020       1.00      0.95      0.97        20\n",
            "         021       0.95      0.95      0.95        20\n",
            "         022       1.00      0.95      0.97        20\n",
            "         023       0.95      0.95      0.95        20\n",
            "         024       1.00      0.95      0.97        20\n",
            "         025       1.00      0.95      0.97        20\n",
            "         026       0.95      0.95      0.95        20\n",
            "         027       1.00      0.90      0.95        20\n",
            "         028       0.95      1.00      0.98        20\n",
            "         029       1.00      1.00      1.00        20\n",
            "         030       1.00      0.95      0.97        20\n",
            "         031       1.00      1.00      1.00        20\n",
            "         032       0.95      1.00      0.98        20\n",
            "         033       0.91      1.00      0.95        20\n",
            "         034       1.00      1.00      1.00        20\n",
            "         035       1.00      0.95      0.97        20\n",
            "         036       1.00      1.00      1.00        20\n",
            "         037       1.00      1.00      1.00        20\n",
            "         038       1.00      0.95      0.97        20\n",
            "         039       1.00      1.00      1.00        20\n",
            "         040       1.00      1.00      1.00        20\n",
            "         041       1.00      0.95      0.97        20\n",
            "         042       0.95      0.95      0.95        20\n",
            "         043       0.95      0.95      0.95        20\n",
            "         044       1.00      1.00      1.00        20\n",
            "         045       1.00      1.00      1.00        20\n",
            "         046       0.95      0.95      0.95        20\n",
            "         047       0.91      1.00      0.95        20\n",
            "         048       1.00      1.00      1.00        20\n",
            "         049       1.00      1.00      1.00        20\n",
            "         050       1.00      0.95      0.97        20\n",
            "         051       1.00      1.00      1.00        20\n",
            "         052       1.00      1.00      1.00        20\n",
            "         053       0.95      0.95      0.95        20\n",
            "         054       0.95      1.00      0.98        20\n",
            "         055       1.00      1.00      1.00        20\n",
            "         056       1.00      0.95      0.97        20\n",
            "         057       1.00      1.00      1.00        20\n",
            "         058       0.95      1.00      0.98        20\n",
            "         059       1.00      1.00      1.00        20\n",
            "         060       0.91      1.00      0.95        20\n",
            "         061       0.95      1.00      0.98        20\n",
            "         062       0.95      0.95      0.95        20\n",
            "         063       0.95      1.00      0.98        20\n",
            "         064       1.00      0.90      0.95        20\n",
            "         065       1.00      0.95      0.97        20\n",
            "         066       0.91      1.00      0.95        20\n",
            "         067       1.00      1.00      1.00        20\n",
            "         068       1.00      0.95      0.97        20\n",
            "         069       0.95      1.00      0.98        20\n",
            "         070       0.91      1.00      0.95        20\n",
            "         071       1.00      0.95      0.97        20\n",
            "         072       1.00      1.00      1.00        20\n",
            "         073       0.95      0.90      0.92        20\n",
            "         074       1.00      1.00      1.00        20\n",
            "         075       0.91      1.00      0.95        20\n",
            "         076       1.00      0.95      0.97        20\n",
            "         077       0.95      1.00      0.98        20\n",
            "         078       1.00      0.95      0.97        20\n",
            "         079       0.95      1.00      0.98        20\n",
            "         080       1.00      1.00      1.00        20\n",
            "         081       1.00      1.00      1.00        20\n",
            "         082       1.00      1.00      1.00        20\n",
            "         083       1.00      1.00      1.00        20\n",
            "         084       1.00      1.00      1.00        20\n",
            "         085       0.95      1.00      0.98        20\n",
            "         086       0.95      0.90      0.92        20\n",
            "         087       0.95      1.00      0.98        20\n",
            "         088       0.95      1.00      0.98        20\n",
            "         089       1.00      1.00      1.00        20\n",
            "         090       0.87      1.00      0.93        20\n",
            "         091       0.91      1.00      0.95        20\n",
            "         092       0.95      0.90      0.92        20\n",
            "         093       0.89      0.85      0.87        20\n",
            "         094       1.00      0.95      0.97        20\n",
            "         095       0.95      1.00      0.98        20\n",
            "         096       0.95      1.00      0.98        20\n",
            "         097       0.95      0.95      0.95        20\n",
            "         098       1.00      0.90      0.95        20\n",
            "         099       1.00      1.00      1.00        20\n",
            "         100       0.95      1.00      0.98        20\n",
            "         101       1.00      0.95      0.97        20\n",
            "         102       0.95      1.00      0.98        20\n",
            "         103       1.00      0.95      0.97        20\n",
            "         104       0.91      1.00      0.95        20\n",
            "         105       1.00      1.00      1.00        20\n",
            "         106       1.00      0.95      0.97        20\n",
            "         107       1.00      1.00      1.00        20\n",
            "         108       1.00      0.95      0.97        20\n",
            "         109       1.00      0.95      0.97        20\n",
            "         110       0.95      1.00      0.98        20\n",
            "         111       0.90      0.95      0.93        20\n",
            "         112       0.95      0.95      0.95        20\n",
            "         113       1.00      1.00      1.00        20\n",
            "         114       1.00      0.95      0.97        20\n",
            "         115       1.00      1.00      1.00        20\n",
            "         116       1.00      1.00      1.00        20\n",
            "         117       1.00      1.00      1.00        20\n",
            "         118       0.95      1.00      0.98        20\n",
            "         119       0.95      0.95      0.95        20\n",
            "         120       0.90      0.95      0.93        20\n",
            "         121       0.95      1.00      0.98        20\n",
            "         122       0.91      1.00      0.95        20\n",
            "         123       0.95      0.95      0.95        20\n",
            "         124       1.00      0.95      0.97        20\n",
            "         125       0.95      0.95      0.95        20\n",
            "         126       0.95      0.90      0.92        20\n",
            "         127       1.00      1.00      1.00        20\n",
            "         128       1.00      1.00      1.00        20\n",
            "         129       0.95      0.95      0.95        20\n",
            "         130       1.00      0.95      0.97        20\n",
            "         131       0.91      1.00      0.95        20\n",
            "         132       0.95      0.95      0.95        20\n",
            "         133       1.00      1.00      1.00        20\n",
            "         134       1.00      1.00      1.00        20\n",
            "         135       0.95      1.00      0.98        20\n",
            "         136       1.00      0.95      0.97        20\n",
            "         137       0.95      1.00      0.98        20\n",
            "         138       1.00      0.95      0.97        20\n",
            "         139       0.95      0.95      0.95        20\n",
            "         140       1.00      0.90      0.95        20\n",
            "         141       0.95      1.00      0.98        20\n",
            "         142       1.00      1.00      1.00        20\n",
            "         143       1.00      1.00      1.00        20\n",
            "         144       1.00      1.00      1.00        20\n",
            "         145       0.95      1.00      0.98        20\n",
            "         146       1.00      1.00      1.00        20\n",
            "         147       1.00      0.95      0.97        20\n",
            "         148       1.00      0.95      0.97        20\n",
            "         149       1.00      1.00      1.00        20\n",
            "         150       0.95      1.00      0.98        20\n",
            "         151       1.00      1.00      1.00        20\n",
            "         152       0.95      1.00      0.98        20\n",
            "         153       1.00      1.00      1.00        20\n",
            "         154       0.95      0.95      0.95        20\n",
            "         155       0.95      0.95      0.95        20\n",
            "         156       0.95      0.95      0.95        20\n",
            "         157       1.00      0.90      0.95        20\n",
            "         158       0.95      1.00      0.98        20\n",
            "         159       0.90      0.95      0.93        20\n",
            "         160       0.95      1.00      0.98        20\n",
            "         161       1.00      0.85      0.92        20\n",
            "         162       1.00      1.00      1.00        20\n",
            "         163       1.00      1.00      1.00        20\n",
            "         164       1.00      1.00      1.00        20\n",
            "         165       0.95      0.90      0.92        20\n",
            "         166       1.00      1.00      1.00        20\n",
            "         167       0.95      1.00      0.98        20\n",
            "         168       1.00      0.95      0.97        20\n",
            "         169       1.00      1.00      1.00        20\n",
            "         170       0.95      1.00      0.98        20\n",
            "         171       0.95      1.00      0.98        20\n",
            "         172       0.95      0.95      0.95        20\n",
            "         173       0.90      0.95      0.93        20\n",
            "         174       0.95      1.00      0.98        20\n",
            "         175       1.00      0.95      0.97        20\n",
            "         176       0.95      0.90      0.92        20\n",
            "         177       1.00      0.95      0.97        20\n",
            "         178       1.00      1.00      1.00        20\n",
            "         179       1.00      1.00      1.00        20\n",
            "         180       1.00      1.00      1.00        20\n",
            "         181       1.00      0.95      0.97        20\n",
            "         182       1.00      0.90      0.95        20\n",
            "         183       0.95      1.00      0.98        20\n",
            "         184       0.95      1.00      0.98        20\n",
            "         185       1.00      0.85      0.92        20\n",
            "         186       1.00      1.00      1.00        20\n",
            "         187       1.00      1.00      1.00        20\n",
            "         188       1.00      1.00      1.00        20\n",
            "         189       0.95      1.00      0.98        20\n",
            "         190       0.95      1.00      0.98        20\n",
            "         191       1.00      1.00      1.00        20\n",
            "         192       0.95      1.00      0.98        20\n",
            "         193       1.00      1.00      1.00        20\n",
            "         194       0.95      1.00      0.98        20\n",
            "         195       1.00      1.00      1.00        20\n",
            "         196       1.00      1.00      1.00        20\n",
            "         197       0.90      0.95      0.93        20\n",
            "         198       1.00      1.00      1.00        20\n",
            "         199       0.95      0.90      0.92        20\n",
            "         200       0.91      1.00      0.95        20\n",
            "         201       1.00      0.95      0.97        20\n",
            "         202       1.00      1.00      1.00        20\n",
            "         203       1.00      0.95      0.97        20\n",
            "         204       0.95      1.00      0.98        20\n",
            "         205       1.00      0.95      0.97        20\n",
            "         206       1.00      1.00      1.00        20\n",
            "         207       1.00      1.00      1.00        20\n",
            "         208       0.95      1.00      0.98        20\n",
            "         209       0.91      1.00      0.95        20\n",
            "         210       0.95      1.00      0.98        20\n",
            "         211       1.00      0.90      0.95        20\n",
            "         212       0.95      1.00      0.98        20\n",
            "         213       1.00      0.95      0.97        20\n",
            "         214       1.00      1.00      1.00        20\n",
            "         215       0.90      0.90      0.90        20\n",
            "         216       0.95      1.00      0.98        20\n",
            "         217       0.95      1.00      0.98        20\n",
            "         218       1.00      0.95      0.97        20\n",
            "         219       0.95      1.00      0.98        20\n",
            "         220       1.00      0.90      0.95        20\n",
            "         221       0.95      1.00      0.98        20\n",
            "         222       0.95      0.95      0.95        20\n",
            "         223       0.90      0.95      0.93        20\n",
            "         224       0.95      1.00      0.98        20\n",
            "         225       0.95      0.95      0.95        20\n",
            "         226       1.00      1.00      1.00        20\n",
            "         227       1.00      0.90      0.95        20\n",
            "         228       0.95      0.95      0.95        20\n",
            "         229       1.00      0.95      0.97        20\n",
            "         230       0.95      0.95      0.95        20\n",
            "         231       1.00      0.95      0.97        20\n",
            "         232       1.00      0.95      0.97        20\n",
            "         233       1.00      1.00      1.00        20\n",
            "         234       1.00      0.95      0.97        20\n",
            "         235       1.00      1.00      1.00        20\n",
            "         236       0.95      0.95      0.95        20\n",
            "         237       0.95      0.95      0.95        20\n",
            "         238       0.91      1.00      0.95        20\n",
            "         239       0.95      0.95      0.95        20\n",
            "         240       1.00      1.00      1.00        20\n",
            "         241       0.91      1.00      0.95        20\n",
            "         242       1.00      1.00      1.00        20\n",
            "         243       1.00      0.95      0.97        20\n",
            "         244       0.95      1.00      0.98        20\n",
            "         245       0.95      0.90      0.92        20\n",
            "         246       1.00      0.95      0.97        20\n",
            "         247       1.00      0.90      0.95        20\n",
            "         248       0.95      0.95      0.95        20\n",
            "         249       1.00      0.95      0.97        20\n",
            "         250       1.00      1.00      1.00        20\n",
            "         251       0.95      0.95      0.95        20\n",
            "         252       1.00      1.00      1.00        20\n",
            "         253       0.95      0.95      0.95        20\n",
            "         254       1.00      1.00      1.00        20\n",
            "         255       0.95      0.95      0.95        20\n",
            "         256       0.95      1.00      0.98        20\n",
            "         257       0.90      0.95      0.93        20\n",
            "         258       0.95      0.95      0.95        20\n",
            "         259       0.95      0.95      0.95        20\n",
            "         260       0.95      1.00      0.98        20\n",
            "         261       0.86      0.95      0.90        20\n",
            "         262       1.00      0.95      0.97        20\n",
            "         263       0.91      1.00      0.95        20\n",
            "         264       0.95      0.95      0.95        20\n",
            "         265       0.95      0.95      0.95        20\n",
            "         266       1.00      1.00      1.00        20\n",
            "         267       1.00      1.00      1.00        20\n",
            "         268       1.00      1.00      1.00        20\n",
            "         269       1.00      0.95      0.97        20\n",
            "         270       0.95      0.90      0.92        20\n",
            "         271       1.00      1.00      1.00        20\n",
            "         272       1.00      1.00      1.00        20\n",
            "         273       0.87      1.00      0.93        20\n",
            "         274       1.00      0.95      0.97        20\n",
            "         275       0.91      1.00      0.95        20\n",
            "         276       1.00      1.00      1.00        20\n",
            "         277       1.00      0.95      0.97        20\n",
            "         278       0.95      0.95      0.95        20\n",
            "         279       0.95      1.00      0.98        20\n",
            "         280       1.00      1.00      1.00        20\n",
            "         281       0.91      1.00      0.95        20\n",
            "         282       0.95      1.00      0.98        20\n",
            "         283       0.95      1.00      0.98        20\n",
            "         284       1.00      0.90      0.95        20\n",
            "         285       1.00      1.00      1.00        20\n",
            "         286       1.00      1.00      1.00        20\n",
            "         287       0.87      1.00      0.93        20\n",
            "         288       1.00      1.00      1.00        20\n",
            "         289       0.95      0.95      0.95        20\n",
            "         290       1.00      1.00      1.00        20\n",
            "         291       1.00      1.00      1.00        20\n",
            "         292       1.00      1.00      1.00        20\n",
            "         293       1.00      1.00      1.00        20\n",
            "         294       1.00      0.95      0.97        20\n",
            "         295       1.00      1.00      1.00        20\n",
            "         296       0.95      0.95      0.95        20\n",
            "         297       0.95      0.95      0.95        20\n",
            "         298       0.95      1.00      0.98        20\n",
            "         299       0.95      1.00      0.98        20\n",
            "         300       0.90      0.95      0.93        20\n",
            "         301       0.90      0.95      0.93        20\n",
            "         302       1.00      0.95      0.97        20\n",
            "         303       1.00      1.00      1.00        20\n",
            "         304       1.00      1.00      1.00        20\n",
            "         305       1.00      1.00      1.00        20\n",
            "         306       1.00      0.95      0.97        20\n",
            "         307       1.00      1.00      1.00        20\n",
            "         308       0.95      1.00      0.98        20\n",
            "         309       0.95      0.90      0.92        20\n",
            "         310       1.00      0.95      0.97        20\n",
            "         311       1.00      0.95      0.97        20\n",
            "         312       1.00      0.90      0.95        20\n",
            "         313       0.95      0.95      0.95        20\n",
            "         314       1.00      1.00      1.00        20\n",
            "         315       0.89      0.85      0.87        20\n",
            "         316       0.91      1.00      0.95        20\n",
            "         317       1.00      1.00      1.00        20\n",
            "         318       0.91      1.00      0.95        20\n",
            "         319       0.95      1.00      0.98        20\n",
            "         320       1.00      0.95      0.97        20\n",
            "         321       0.95      0.95      0.95        20\n",
            "         322       1.00      0.85      0.92        20\n",
            "         323       1.00      1.00      1.00        20\n",
            "         324       1.00      0.95      0.97        20\n",
            "         325       1.00      1.00      1.00        20\n",
            "         326       1.00      1.00      1.00        20\n",
            "         327       0.95      1.00      0.98        20\n",
            "         328       0.87      1.00      0.93        20\n",
            "         329       1.00      1.00      1.00        20\n",
            "         330       0.95      0.90      0.92        20\n",
            "         331       0.95      0.90      0.92        20\n",
            "         332       1.00      1.00      1.00        20\n",
            "         333       1.00      0.95      0.97        20\n",
            "         334       1.00      1.00      1.00        20\n",
            "         335       0.95      1.00      0.98        20\n",
            "         336       0.91      1.00      0.95        20\n",
            "         337       0.95      1.00      0.98        20\n",
            "         338       0.95      0.95      0.95        20\n",
            "         339       1.00      0.95      0.97        20\n",
            "         340       0.91      1.00      0.95        20\n",
            "         341       1.00      1.00      1.00        20\n",
            "         342       1.00      1.00      1.00        20\n",
            "         343       0.91      1.00      0.95        20\n",
            "         344       0.91      1.00      0.95        20\n",
            "         345       1.00      1.00      1.00        20\n",
            "         346       1.00      1.00      1.00        20\n",
            "         347       1.00      1.00      1.00        20\n",
            "         348       1.00      1.00      1.00        20\n",
            "         349       0.95      0.90      0.92        20\n",
            "         350       1.00      1.00      1.00        20\n",
            "         351       0.95      1.00      0.98        20\n",
            "         352       1.00      1.00      1.00        20\n",
            "         353       1.00      1.00      1.00        20\n",
            "         354       1.00      0.95      0.97        20\n",
            "         355       0.95      0.95      0.95        20\n",
            "         356       1.00      0.95      0.97        20\n",
            "         357       0.95      0.95      0.95        20\n",
            "         358       1.00      1.00      1.00        20\n",
            "         359       1.00      0.90      0.95        20\n",
            "         360       0.95      0.95      0.95        20\n",
            "         361       0.90      0.95      0.93        20\n",
            "         362       0.95      0.90      0.92        20\n",
            "         363       0.95      0.95      0.95        20\n",
            "         364       0.95      0.95      0.95        20\n",
            "         365       1.00      0.90      0.95        20\n",
            "         366       0.95      0.95      0.95        20\n",
            "         367       1.00      0.95      0.97        20\n",
            "         368       1.00      1.00      1.00        20\n",
            "         369       1.00      0.95      0.97        20\n",
            "         370       0.95      0.95      0.95        20\n",
            "         371       1.00      1.00      1.00        20\n",
            "         372       1.00      1.00      1.00        20\n",
            "         373       1.00      0.80      0.89        20\n",
            "         374       0.95      1.00      0.98        20\n",
            "         375       1.00      1.00      1.00        20\n",
            "         376       0.95      0.95      0.95        20\n",
            "         377       0.90      0.95      0.93        20\n",
            "         378       0.95      0.90      0.92        20\n",
            "         379       0.95      0.95      0.95        20\n",
            "         380       1.00      1.00      1.00        20\n",
            "         381       1.00      1.00      1.00        20\n",
            "         382       0.95      1.00      0.98        20\n",
            "         383       0.95      1.00      0.98        20\n",
            "         384       1.00      0.95      0.97        20\n",
            "         385       0.95      1.00      0.98        20\n",
            "         386       1.00      1.00      1.00        20\n",
            "         387       0.95      0.95      0.95        20\n",
            "         388       1.00      1.00      1.00        20\n",
            "         389       0.95      0.95      0.95        20\n",
            "         390       1.00      0.95      0.97        20\n",
            "         391       1.00      1.00      1.00        20\n",
            "         392       1.00      1.00      1.00        20\n",
            "         393       0.91      1.00      0.95        20\n",
            "         394       0.95      0.95      0.95        20\n",
            "         395       1.00      1.00      1.00        20\n",
            "         396       0.95      1.00      0.98        20\n",
            "         397       1.00      0.95      0.97        20\n",
            "         398       1.00      0.95      0.97        20\n",
            "         399       0.87      1.00      0.93        20\n",
            "         400       1.00      0.95      0.97        20\n",
            "         401       0.95      1.00      0.98        20\n",
            "         402       0.95      1.00      0.98        20\n",
            "         403       1.00      0.95      0.97        20\n",
            "         404       1.00      0.95      0.97        20\n",
            "         405       0.95      1.00      0.98        20\n",
            "         406       1.00      1.00      1.00        20\n",
            "         407       0.94      0.85      0.89        20\n",
            "         408       0.91      1.00      0.95        20\n",
            "         409       0.95      1.00      0.98        20\n",
            "         410       1.00      1.00      1.00        20\n",
            "         411       1.00      1.00      1.00        20\n",
            "         412       1.00      0.95      0.97        20\n",
            "         413       1.00      0.95      0.97        20\n",
            "         414       0.95      0.95      0.95        20\n",
            "         415       1.00      0.95      0.97        20\n",
            "         416       1.00      0.90      0.95        20\n",
            "         417       0.91      1.00      0.95        20\n",
            "         418       0.95      1.00      0.98        20\n",
            "         419       1.00      0.95      0.97        20\n",
            "         420       0.95      1.00      0.98        20\n",
            "         421       1.00      1.00      1.00        20\n",
            "         422       0.95      1.00      0.98        20\n",
            "         423       1.00      0.95      0.97        20\n",
            "         424       1.00      1.00      1.00        20\n",
            "         425       1.00      1.00      1.00        20\n",
            "         426       0.95      0.95      0.95        20\n",
            "         427       0.95      0.95      0.95        20\n",
            "         428       1.00      1.00      1.00        20\n",
            "         429       0.91      1.00      0.95        20\n",
            "         430       0.95      0.95      0.95        20\n",
            "         431       1.00      1.00      1.00        20\n",
            "         432       1.00      1.00      1.00        20\n",
            "         433       1.00      0.95      0.97        20\n",
            "         434       1.00      1.00      1.00        20\n",
            "         435       1.00      0.95      0.97        20\n",
            "         436       0.95      0.95      0.95        20\n",
            "         437       1.00      1.00      1.00        20\n",
            "         438       1.00      1.00      1.00        20\n",
            "         439       1.00      0.95      0.97        20\n",
            "         440       1.00      1.00      1.00        20\n",
            "         441       1.00      0.95      0.97        20\n",
            "         442       1.00      1.00      1.00        20\n",
            "         443       1.00      0.90      0.95        20\n",
            "         444       1.00      0.95      0.97        20\n",
            "         445       1.00      0.95      0.97        20\n",
            "         446       0.90      0.90      0.90        20\n",
            "         447       1.00      0.95      0.97        20\n",
            "         448       0.90      0.90      0.90        20\n",
            "         449       0.91      1.00      0.95        20\n",
            "         450       0.95      1.00      0.98        20\n",
            "         451       1.00      1.00      1.00        20\n",
            "         452       1.00      1.00      1.00        20\n",
            "         453       0.90      0.95      0.93        20\n",
            "         454       0.91      1.00      0.95        20\n",
            "         455       1.00      0.90      0.95        20\n",
            "         456       1.00      0.95      0.97        20\n",
            "         457       1.00      0.95      0.97        20\n",
            "         458       1.00      1.00      1.00        20\n",
            "         459       0.95      0.95      0.95        20\n",
            "         460       0.86      0.95      0.90        20\n",
            "         461       1.00      1.00      1.00        20\n",
            "         462       0.95      0.95      0.95        20\n",
            "         463       0.95      1.00      0.98        20\n",
            "         464       1.00      0.95      0.97        20\n",
            "         465       0.95      1.00      0.98        20\n",
            "         466       1.00      1.00      1.00        20\n",
            "         467       1.00      1.00      1.00        20\n",
            "         468       1.00      0.95      0.97        20\n",
            "         469       1.00      1.00      1.00        20\n",
            "         470       0.95      1.00      0.98        20\n",
            "         471       0.94      0.85      0.89        20\n",
            "         472       0.95      1.00      0.98        20\n",
            "         473       1.00      0.95      0.97        20\n",
            "         474       1.00      0.95      0.97        20\n",
            "         475       1.00      0.95      0.97        20\n",
            "         476       0.90      0.95      0.93        20\n",
            "         477       0.90      0.95      0.93        20\n",
            "         478       1.00      1.00      1.00        20\n",
            "         479       1.00      0.95      0.97        20\n",
            "         480       1.00      0.95      0.97        20\n",
            "         481       1.00      1.00      1.00        20\n",
            "         482       1.00      0.90      0.95        20\n",
            "         483       0.90      0.95      0.93        20\n",
            "         484       0.95      1.00      0.98        20\n",
            "         485       0.95      1.00      0.98        20\n",
            "         486       0.91      1.00      0.95        20\n",
            "         487       1.00      0.95      0.97        20\n",
            "         488       0.95      0.95      0.95        20\n",
            "         489       0.95      0.90      0.92        20\n",
            "         490       1.00      1.00      1.00        20\n",
            "         491       1.00      0.95      0.97        20\n",
            "         492       1.00      0.95      0.97        20\n",
            "         493       1.00      1.00      1.00        20\n",
            "         494       0.95      0.95      0.95        20\n",
            "         495       0.90      0.95      0.93        20\n",
            "         496       1.00      0.95      0.97        20\n",
            "         497       1.00      0.95      0.97        20\n",
            "         498       1.00      1.00      1.00        20\n",
            "         499       1.00      1.00      1.00        20\n",
            "         500       0.95      0.95      0.95        20\n",
            "         501       0.95      0.95      0.95        20\n",
            "         502       0.95      0.95      0.95        20\n",
            "         503       0.95      0.95      0.95        20\n",
            "         504       0.95      0.95      0.95        20\n",
            "         505       0.95      1.00      0.98        20\n",
            "         506       0.95      0.95      0.95        20\n",
            "         507       0.95      0.95      0.95        20\n",
            "         508       1.00      0.90      0.95        20\n",
            "         509       0.95      0.90      0.92        20\n",
            "         510       1.00      0.95      0.97        20\n",
            "         511       0.95      0.90      0.92        20\n",
            "         512       0.95      0.95      0.95        20\n",
            "         513       1.00      0.90      0.95        20\n",
            "         514       1.00      1.00      1.00        20\n",
            "         515       0.90      0.95      0.93        20\n",
            "         516       0.91      1.00      0.95        20\n",
            "         517       0.87      1.00      0.93        20\n",
            "         518       0.95      1.00      0.98        20\n",
            "         519       0.95      0.90      0.92        20\n",
            "         520       1.00      1.00      1.00        20\n",
            "         521       1.00      1.00      1.00        20\n",
            "         522       1.00      0.95      0.97        20\n",
            "         523       1.00      1.00      1.00        20\n",
            "         524       0.95      1.00      0.98        20\n",
            "         525       0.91      1.00      0.95        20\n",
            "         526       1.00      1.00      1.00        20\n",
            "         527       1.00      1.00      1.00        20\n",
            "         528       1.00      0.90      0.95        20\n",
            "         529       1.00      0.95      0.97        20\n",
            "         530       0.95      1.00      0.98        20\n",
            "         531       0.95      0.95      0.95        20\n",
            "         532       0.95      1.00      0.98        20\n",
            "         533       1.00      1.00      1.00        20\n",
            "         534       0.95      0.95      0.95        20\n",
            "         535       1.00      1.00      1.00        20\n",
            "         536       1.00      1.00      1.00        20\n",
            "         537       0.91      1.00      0.95        20\n",
            "         538       1.00      1.00      1.00        20\n",
            "         539       1.00      0.95      0.97        20\n",
            "         540       0.86      0.95      0.90        20\n",
            "         541       0.90      0.95      0.93        20\n",
            "         542       1.00      0.90      0.95        20\n",
            "         543       1.00      0.95      0.97        20\n",
            "         544       1.00      1.00      1.00        20\n",
            "         545       1.00      1.00      1.00        20\n",
            "         546       1.00      1.00      1.00        20\n",
            "         547       1.00      1.00      1.00        20\n",
            "         548       1.00      1.00      1.00        20\n",
            "         549       1.00      0.95      0.97        20\n",
            "         550       1.00      0.95      0.97        20\n",
            "         551       1.00      0.80      0.89        20\n",
            "         552       1.00      0.95      0.97        20\n",
            "         553       1.00      1.00      1.00        20\n",
            "         554       0.86      0.90      0.88        20\n",
            "         555       1.00      0.95      0.97        20\n",
            "         556       1.00      1.00      1.00        20\n",
            "         557       1.00      0.95      0.97        20\n",
            "         558       0.95      0.95      0.95        20\n",
            "         559       1.00      0.90      0.95        20\n",
            "         560       1.00      0.90      0.95        20\n",
            "         561       0.90      0.95      0.93        20\n",
            "         562       0.90      0.90      0.90        20\n",
            "         563       0.95      1.00      0.98        20\n",
            "         564       0.95      1.00      0.98        20\n",
            "         565       0.86      0.95      0.90        20\n",
            "         566       0.95      0.90      0.92        20\n",
            "         567       0.95      0.95      0.95        20\n",
            "         568       1.00      1.00      1.00        20\n",
            "         569       1.00      0.85      0.92        20\n",
            "         570       0.95      1.00      0.98        20\n",
            "         571       0.95      0.95      0.95        20\n",
            "         572       0.95      0.95      0.95        20\n",
            "         573       1.00      1.00      1.00        20\n",
            "         574       1.00      1.00      1.00        20\n",
            "         575       1.00      0.90      0.95        20\n",
            "         576       1.00      0.90      0.95        20\n",
            "         577       1.00      0.85      0.92        20\n",
            "         578       0.83      0.95      0.88        20\n",
            "         579       0.91      1.00      0.95        20\n",
            "         580       1.00      1.00      1.00        20\n",
            "         581       0.95      1.00      0.98        20\n",
            "         582       1.00      0.85      0.92        20\n",
            "         583       1.00      1.00      1.00        20\n",
            "         584       0.91      1.00      0.95        20\n",
            "         585       1.00      0.95      0.97        20\n",
            "         586       1.00      0.95      0.97        20\n",
            "         587       1.00      0.90      0.95        20\n",
            "         588       0.95      0.95      0.95        20\n",
            "         589       0.90      0.90      0.90        20\n",
            "         590       0.95      1.00      0.98        20\n",
            "         591       1.00      0.95      0.97        20\n",
            "         592       0.91      1.00      0.95        20\n",
            "         593       1.00      1.00      1.00        20\n",
            "         594       1.00      0.95      0.97        20\n",
            "         595       1.00      1.00      1.00        20\n",
            "         596       0.95      1.00      0.98        20\n",
            "         597       0.91      1.00      0.95        20\n",
            "         598       1.00      1.00      1.00        20\n",
            "         599       0.90      0.95      0.93        20\n",
            "         600       1.00      1.00      1.00        20\n",
            "         601       1.00      1.00      1.00        20\n",
            "         602       1.00      1.00      1.00        20\n",
            "         603       1.00      1.00      1.00        20\n",
            "         604       1.00      0.95      0.97        20\n",
            "         605       1.00      0.95      0.97        20\n",
            "         606       1.00      1.00      1.00        20\n",
            "         607       1.00      0.95      0.97        20\n",
            "         608       1.00      1.00      1.00        20\n",
            "         609       0.95      1.00      0.98        20\n",
            "         610       1.00      0.90      0.95        20\n",
            "         611       0.95      0.95      0.95        20\n",
            "         612       0.90      0.95      0.93        20\n",
            "         613       1.00      0.95      0.97        20\n",
            "         614       0.95      0.95      0.95        20\n",
            "         615       0.95      1.00      0.98        20\n",
            "         616       0.95      0.95      0.95        20\n",
            "         617       0.95      0.95      0.95        20\n",
            "         618       1.00      0.85      0.92        20\n",
            "         619       1.00      1.00      1.00        20\n",
            "         620       1.00      1.00      1.00        20\n",
            "         621       0.95      1.00      0.98        20\n",
            "         622       1.00      0.95      0.97        20\n",
            "         623       1.00      1.00      1.00        20\n",
            "         624       0.86      0.95      0.90        20\n",
            "         625       1.00      1.00      1.00        20\n",
            "         626       1.00      1.00      1.00        20\n",
            "         627       0.94      0.85      0.89        20\n",
            "         628       0.91      1.00      0.95        20\n",
            "         629       0.95      0.90      0.92        20\n",
            "         630       0.95      1.00      0.98        20\n",
            "         631       0.87      1.00      0.93        20\n",
            "         632       1.00      1.00      1.00        20\n",
            "         633       1.00      1.00      1.00        20\n",
            "         634       0.95      1.00      0.98        20\n",
            "         635       0.95      0.95      0.95        20\n",
            "         636       1.00      1.00      1.00        20\n",
            "         637       1.00      0.90      0.95        20\n",
            "         638       1.00      0.90      0.95        20\n",
            "         639       0.91      1.00      0.95        20\n",
            "         640       1.00      1.00      1.00        20\n",
            "         641       0.95      0.95      0.95        20\n",
            "         642       1.00      0.95      0.97        20\n",
            "         643       0.95      1.00      0.98        20\n",
            "         644       0.95      1.00      0.98        20\n",
            "         645       0.95      1.00      0.98        20\n",
            "         646       0.95      1.00      0.98        20\n",
            "         647       1.00      1.00      1.00        20\n",
            "         648       1.00      1.00      1.00        20\n",
            "         649       0.95      1.00      0.98        20\n",
            "         650       1.00      1.00      1.00        20\n",
            "         651       0.95      0.90      0.92        20\n",
            "         652       0.95      1.00      0.98        20\n",
            "         653       1.00      1.00      1.00        20\n",
            "         654       1.00      0.95      0.97        20\n",
            "         655       1.00      0.90      0.95        20\n",
            "         656       1.00      0.95      0.97        20\n",
            "         657       1.00      1.00      1.00        20\n",
            "         658       0.95      1.00      0.98        20\n",
            "         659       1.00      0.95      0.97        20\n",
            "         660       1.00      1.00      1.00        20\n",
            "         661       1.00      0.95      0.97        20\n",
            "         662       0.95      1.00      0.98        20\n",
            "         663       1.00      1.00      1.00        20\n",
            "         664       1.00      0.95      0.97        20\n",
            "         665       0.95      0.95      0.95        20\n",
            "         666       1.00      1.00      1.00        20\n",
            "         667       1.00      1.00      1.00        20\n",
            "         668       0.90      0.95      0.93        20\n",
            "         669       0.95      0.95      0.95        20\n",
            "         670       1.00      1.00      1.00        20\n",
            "         671       0.95      1.00      0.98        20\n",
            "         672       0.95      1.00      0.98        20\n",
            "         673       1.00      0.90      0.95        20\n",
            "         674       1.00      0.95      0.97        20\n",
            "         675       0.95      0.95      0.95        20\n",
            "         676       1.00      1.00      1.00        20\n",
            "         677       0.95      0.95      0.95        20\n",
            "         678       0.91      1.00      0.95        20\n",
            "         679       0.91      1.00      0.95        20\n",
            "         680       0.95      0.95      0.95        20\n",
            "         681       0.95      1.00      0.98        20\n",
            "         682       1.00      0.95      0.97        20\n",
            "         683       0.95      0.95      0.95        20\n",
            "         684       0.95      0.95      0.95        20\n",
            "         685       1.00      0.95      0.97        20\n",
            "         686       0.95      0.95      0.95        20\n",
            "         687       0.95      0.95      0.95        20\n",
            "         688       1.00      0.95      0.97        20\n",
            "         689       0.90      0.90      0.90        20\n",
            "         690       0.95      1.00      0.98        20\n",
            "         691       0.95      1.00      0.98        20\n",
            "         692       0.95      1.00      0.98        20\n",
            "         693       1.00      0.95      0.97        20\n",
            "         694       0.95      1.00      0.98        20\n",
            "         695       1.00      0.90      0.95        20\n",
            "         696       0.95      0.95      0.95        20\n",
            "         697       0.95      1.00      0.98        20\n",
            "         698       1.00      1.00      1.00        20\n",
            "         699       0.95      0.95      0.95        20\n",
            "         700       0.95      1.00      0.98        20\n",
            "         701       0.95      1.00      0.98        20\n",
            "         702       1.00      1.00      1.00        20\n",
            "         703       0.95      1.00      0.98        20\n",
            "         704       1.00      1.00      1.00        20\n",
            "         705       1.00      1.00      1.00        20\n",
            "         706       1.00      1.00      1.00        20\n",
            "         707       1.00      1.00      1.00        20\n",
            "         708       0.95      0.95      0.95        20\n",
            "         709       1.00      1.00      1.00        20\n",
            "         710       0.95      1.00      0.98        20\n",
            "         711       0.95      1.00      0.98        20\n",
            "         712       1.00      1.00      1.00        20\n",
            "         713       1.00      1.00      1.00        20\n",
            "         714       1.00      1.00      1.00        20\n",
            "         715       0.95      0.90      0.92        20\n",
            "         716       1.00      1.00      1.00        20\n",
            "         717       0.95      1.00      0.98        20\n",
            "         718       0.95      1.00      0.98        20\n",
            "         719       1.00      1.00      1.00        20\n",
            "         720       0.95      0.95      0.95        20\n",
            "         721       1.00      1.00      1.00        20\n",
            "         722       1.00      1.00      1.00        20\n",
            "         723       0.95      1.00      0.98        20\n",
            "         724       0.95      0.95      0.95        20\n",
            "         725       1.00      0.95      0.97        20\n",
            "         726       1.00      1.00      1.00        20\n",
            "         727       1.00      0.95      0.97        20\n",
            "         728       1.00      0.95      0.97        20\n",
            "         729       1.00      1.00      1.00        20\n",
            "         730       1.00      0.90      0.95        20\n",
            "         731       0.95      1.00      0.98        20\n",
            "         732       1.00      0.95      0.97        20\n",
            "         733       0.95      0.95      0.95        20\n",
            "         734       1.00      0.95      0.97        20\n",
            "         735       1.00      1.00      1.00        20\n",
            "         736       1.00      1.00      1.00        20\n",
            "         737       0.95      0.95      0.95        20\n",
            "         738       1.00      0.95      0.97        20\n",
            "         739       0.95      1.00      0.98        20\n",
            "         740       0.90      0.90      0.90        20\n",
            "         741       0.95      1.00      0.98        20\n",
            "         742       1.00      1.00      1.00        20\n",
            "         743       1.00      1.00      1.00        20\n",
            "         744       0.90      0.90      0.90        20\n",
            "         745       0.95      1.00      0.98        20\n",
            "         746       1.00      1.00      1.00        20\n",
            "         747       1.00      0.95      0.97        20\n",
            "         748       0.91      1.00      0.95        20\n",
            "         749       0.91      1.00      0.95        20\n",
            "         750       1.00      1.00      1.00        20\n",
            "         751       1.00      1.00      1.00        20\n",
            "         752       1.00      1.00      1.00        20\n",
            "         753       1.00      0.90      0.95        20\n",
            "         754       1.00      1.00      1.00        20\n",
            "         755       0.95      1.00      0.98        20\n",
            "         756       1.00      0.95      0.97        20\n",
            "         757       1.00      0.90      0.95        20\n",
            "         758       0.95      1.00      0.98        20\n",
            "         759       0.91      1.00      0.95        20\n",
            "         760       1.00      0.90      0.95        20\n",
            "         761       0.95      0.90      0.92        20\n",
            "         762       0.95      1.00      0.98        20\n",
            "         763       1.00      1.00      1.00        20\n",
            "         764       1.00      0.95      0.97        20\n",
            "         765       0.95      1.00      0.98        20\n",
            "         766       0.95      1.00      0.98        20\n",
            "         767       1.00      1.00      1.00        20\n",
            "         768       0.95      1.00      0.98        20\n",
            "         769       1.00      1.00      1.00        20\n",
            "         770       0.87      1.00      0.93        20\n",
            "         771       1.00      0.85      0.92        20\n",
            "         772       1.00      0.95      0.97        20\n",
            "         773       0.90      0.95      0.93        20\n",
            "         774       1.00      1.00      1.00        20\n",
            "         775       0.95      0.90      0.92        20\n",
            "         776       1.00      1.00      1.00        20\n",
            "         777       0.95      1.00      0.98        20\n",
            "         778       0.95      1.00      0.98        20\n",
            "         779       1.00      0.95      0.97        20\n",
            "         780       1.00      0.95      0.97        20\n",
            "         781       1.00      1.00      1.00        20\n",
            "         782       0.78      0.90      0.84        20\n",
            "         783       1.00      0.90      0.95        20\n",
            "         784       1.00      0.85      0.92        20\n",
            "         785       1.00      1.00      1.00        20\n",
            "         786       1.00      0.95      0.97        20\n",
            "         787       0.95      0.95      0.95        20\n",
            "         788       1.00      1.00      1.00        20\n",
            "         789       1.00      1.00      1.00        20\n",
            "         790       0.90      0.90      0.90        20\n",
            "         791       1.00      1.00      1.00        20\n",
            "         792       1.00      1.00      1.00        20\n",
            "         793       1.00      1.00      1.00        20\n",
            "         794       1.00      0.90      0.95        20\n",
            "         795       1.00      0.90      0.95        20\n",
            "         796       0.95      1.00      0.98        20\n",
            "         797       0.95      1.00      0.98        20\n",
            "         798       1.00      1.00      1.00        20\n",
            "         799       0.91      1.00      0.95        20\n",
            "         800       1.00      1.00      1.00        20\n",
            "         801       1.00      1.00      1.00        20\n",
            "         802       0.95      1.00      0.98        20\n",
            "         803       1.00      1.00      1.00        20\n",
            "         804       0.95      1.00      0.98        20\n",
            "         805       1.00      1.00      1.00        20\n",
            "         806       1.00      0.95      0.97        20\n",
            "         807       0.91      1.00      0.95        20\n",
            "         808       1.00      1.00      1.00        20\n",
            "         809       1.00      1.00      1.00        20\n",
            "         810       1.00      1.00      1.00        20\n",
            "         811       0.91      1.00      0.95        20\n",
            "         812       1.00      0.95      0.97        20\n",
            "         813       1.00      0.95      0.97        20\n",
            "         814       1.00      1.00      1.00        20\n",
            "         815       1.00      0.90      0.95        20\n",
            "         816       1.00      0.95      0.97        20\n",
            "         817       1.00      1.00      1.00        20\n",
            "         818       1.00      0.85      0.92        20\n",
            "         819       0.95      0.95      0.95        20\n",
            "         820       1.00      0.95      0.97        20\n",
            "         821       0.91      1.00      0.95        20\n",
            "         822       0.91      1.00      0.95        20\n",
            "         823       0.94      0.85      0.89        20\n",
            "         824       1.00      1.00      1.00        20\n",
            "         825       0.95      0.95      0.95        20\n",
            "         826       1.00      0.95      0.97        20\n",
            "         827       1.00      1.00      1.00        20\n",
            "         828       1.00      0.95      0.97        20\n",
            "         829       1.00      0.90      0.95        20\n",
            "         830       1.00      1.00      1.00        20\n",
            "         831       0.95      0.90      0.92        20\n",
            "         832       1.00      0.90      0.95        20\n",
            "         833       1.00      1.00      1.00        20\n",
            "         834       0.95      1.00      0.98        20\n",
            "         835       0.95      0.90      0.92        20\n",
            "         836       1.00      1.00      1.00        20\n",
            "         837       1.00      0.95      0.97        20\n",
            "         838       0.95      1.00      0.98        20\n",
            "         839       1.00      1.00      1.00        20\n",
            "         840       1.00      0.90      0.95        20\n",
            "         841       0.95      0.90      0.92        20\n",
            "         842       0.91      1.00      0.95        20\n",
            "         843       0.86      0.90      0.88        20\n",
            "         844       0.95      0.95      0.95        20\n",
            "         845       1.00      0.85      0.92        20\n",
            "         846       0.95      1.00      0.98        20\n",
            "         847       1.00      0.90      0.95        20\n",
            "         848       1.00      1.00      1.00        20\n",
            "         849       0.95      0.95      0.95        20\n",
            "         850       1.00      0.95      0.97        20\n",
            "         851       1.00      0.85      0.92        20\n",
            "         852       0.95      1.00      0.98        20\n",
            "         853       0.95      1.00      0.98        20\n",
            "         854       0.90      0.95      0.93        20\n",
            "         855       0.95      0.95      0.95        20\n",
            "         856       0.95      0.95      0.95        20\n",
            "         857       0.95      0.95      0.95        20\n",
            "         858       0.91      1.00      0.95        20\n",
            "         859       0.95      0.90      0.92        20\n",
            "         860       0.90      0.95      0.93        20\n",
            "         861       0.86      0.95      0.90        20\n",
            "         862       1.00      0.95      0.97        20\n",
            "         863       0.95      0.90      0.92        20\n",
            "         864       1.00      1.00      1.00        20\n",
            "         865       1.00      0.90      0.95        20\n",
            "         866       0.95      1.00      0.98        20\n",
            "         867       1.00      0.95      0.97        20\n",
            "         868       0.95      0.90      0.92        20\n",
            "         869       0.95      1.00      0.98        20\n",
            "         870       0.95      1.00      0.98        20\n",
            "         871       1.00      0.90      0.95        20\n",
            "         872       1.00      1.00      1.00        20\n",
            "         873       0.95      0.95      0.95        20\n",
            "         874       1.00      1.00      1.00        20\n",
            "         875       0.95      0.95      0.95        20\n",
            "         876       0.95      1.00      0.98        20\n",
            "         877       1.00      1.00      1.00        20\n",
            "         878       0.90      0.95      0.93        20\n",
            "         879       1.00      0.90      0.95        20\n",
            "         880       1.00      0.90      0.95        20\n",
            "         881       1.00      0.90      0.95        20\n",
            "         882       0.95      1.00      0.98        20\n",
            "         883       0.95      0.95      0.95        20\n",
            "         884       0.90      0.90      0.90        20\n",
            "         885       0.95      1.00      0.98        20\n",
            "         886       0.95      0.95      0.95        20\n",
            "         887       0.95      1.00      0.98        20\n",
            "         888       0.95      0.95      0.95        20\n",
            "         889       0.86      0.95      0.90        20\n",
            "         890       0.95      1.00      0.98        20\n",
            "         891       0.95      1.00      0.98        20\n",
            "         892       1.00      1.00      1.00        20\n",
            "         893       1.00      0.95      0.97        20\n",
            "         894       0.95      0.95      0.95        20\n",
            "         895       0.95      0.95      0.95        20\n",
            "         896       1.00      0.95      0.97        20\n",
            "         897       0.83      1.00      0.91        20\n",
            "         898       0.95      1.00      0.98        20\n",
            "         899       0.94      0.85      0.89        20\n",
            "         900       0.90      0.90      0.90        20\n",
            "         901       0.95      0.95      0.95        20\n",
            "         902       0.95      1.00      0.98        20\n",
            "         903       0.95      1.00      0.98        20\n",
            "         904       0.95      1.00      0.98        20\n",
            "         905       1.00      0.95      0.97        20\n",
            "         906       1.00      1.00      1.00        20\n",
            "         907       0.95      0.90      0.92        20\n",
            "         908       1.00      0.90      0.95        20\n",
            "         909       1.00      1.00      1.00        20\n",
            "         910       0.95      0.95      0.95        20\n",
            "         911       1.00      0.90      0.95        20\n",
            "         912       0.95      0.95      0.95        20\n",
            "         913       0.90      0.95      0.93        20\n",
            "         914       1.00      0.95      0.97        20\n",
            "         915       1.00      0.95      0.97        20\n",
            "         916       0.95      1.00      0.98        20\n",
            "         917       0.95      0.90      0.92        20\n",
            "         918       0.95      0.95      0.95        20\n",
            "         919       0.95      1.00      0.98        20\n",
            "         920       0.95      1.00      0.98        20\n",
            "         921       1.00      1.00      1.00        20\n",
            "         922       0.95      0.90      0.92        20\n",
            "         923       1.00      0.90      0.95        20\n",
            "         924       0.91      1.00      0.95        20\n",
            "         925       1.00      0.95      0.97        20\n",
            "         926       1.00      0.90      0.95        20\n",
            "         927       1.00      1.00      1.00        20\n",
            "         928       0.86      0.95      0.90        20\n",
            "         929       1.00      1.00      1.00        20\n",
            "         930       0.91      1.00      0.95        20\n",
            "         931       0.95      0.95      0.95        20\n",
            "         932       1.00      0.95      0.97        20\n",
            "         933       0.90      0.90      0.90        20\n",
            "         934       1.00      1.00      1.00        20\n",
            "         935       0.90      0.95      0.93        20\n",
            "         936       1.00      1.00      1.00        20\n",
            "         937       1.00      1.00      1.00        20\n",
            "         938       0.90      0.90      0.90        20\n",
            "         939       0.91      1.00      0.95        20\n",
            "         940       0.95      0.95      0.95        20\n",
            "         941       0.95      1.00      0.98        20\n",
            "         942       0.91      1.00      0.95        20\n",
            "         943       1.00      0.95      0.97        20\n",
            "         944       0.83      0.95      0.88        20\n",
            "         945       1.00      1.00      1.00        20\n",
            "         946       0.95      1.00      0.98        20\n",
            "         947       1.00      1.00      1.00        20\n",
            "         948       0.94      0.85      0.89        20\n",
            "         949       1.00      0.95      0.97        20\n",
            "         950       1.00      0.90      0.95        20\n",
            "         951       1.00      1.00      1.00        20\n",
            "         952       0.91      1.00      0.95        20\n",
            "         953       1.00      0.90      0.95        20\n",
            "         954       0.95      0.90      0.92        20\n",
            "         955       1.00      0.90      0.95        20\n",
            "         956       0.83      0.95      0.88        20\n",
            "         957       0.95      0.90      0.92        20\n",
            "         958       1.00      0.90      0.95        20\n",
            "         959       1.00      0.95      0.97        20\n",
            "         960       0.95      0.95      0.95        20\n",
            "         961       1.00      1.00      1.00        20\n",
            "         962       1.00      0.95      0.97        20\n",
            "         963       0.95      1.00      0.98        20\n",
            "         964       0.87      1.00      0.93        20\n",
            "         965       1.00      1.00      1.00        20\n",
            "         966       1.00      1.00      1.00        20\n",
            "         967       0.95      1.00      0.98        20\n",
            "         968       0.95      1.00      0.98        20\n",
            "         969       1.00      0.95      0.97        20\n",
            "         970       0.95      0.90      0.92        20\n",
            "         971       1.00      1.00      1.00        20\n",
            "         972       1.00      1.00      1.00        20\n",
            "         973       0.90      0.95      0.93        20\n",
            "         974       0.91      1.00      0.95        20\n",
            "         975       1.00      1.00      1.00        20\n",
            "         976       1.00      1.00      1.00        20\n",
            "         977       0.90      0.95      0.93        20\n",
            "         978       0.95      1.00      0.98        20\n",
            "         979       0.95      1.00      0.98        20\n",
            "         980       1.00      1.00      1.00        20\n",
            "         981       0.95      0.95      0.95        20\n",
            "         982       1.00      0.95      0.97        20\n",
            "         983       1.00      1.00      1.00        20\n",
            "         984       0.95      0.95      0.95        20\n",
            "         985       1.00      1.00      1.00        20\n",
            "         986       0.95      0.95      0.95        20\n",
            "         987       1.00      0.95      0.97        20\n",
            "         988       0.95      1.00      0.98        20\n",
            "         989       0.90      0.90      0.90        20\n",
            "         990       0.95      0.90      0.92        20\n",
            "         991       0.95      1.00      0.98        20\n",
            "         992       0.95      0.90      0.92        20\n",
            "         993       1.00      0.95      0.97        20\n",
            "         994       0.95      0.95      0.95        20\n",
            "         995       1.00      1.00      1.00        20\n",
            "         996       0.91      1.00      0.95        20\n",
            "         997       1.00      0.95      0.97        20\n",
            "         998       0.95      0.95      0.95        20\n",
            "         999       1.00      1.00      1.00        20\n",
            "\n",
            "    accuracy                           0.97     20000\n",
            "   macro avg       0.97      0.97      0.97     20000\n",
            "weighted avg       0.97      0.97      0.97     20000\n",
            "\n"
          ]
        }
      ]
    },
    {
      "cell_type": "markdown",
      "source": [
        "###Generating and Converting Classification Report to Dictionary Format\n",
        "Description:\n",
        "This section of the code generates a detailed classification report using sklearn.metrics.classification_report, which includes metrics like precision, recall, F1-score, and support for each class based on the true labels and predicted labels from the model. Additionally, it converts the report into a dictionary format for further analysis or processing."
      ],
      "metadata": {
        "id": "e45G4tAWD8WV"
      }
    },
    {
      "cell_type": "code",
      "source": [
        "from sklearn.metrics import classification_report\n",
        "import numpy as np\n",
        "\n",
        "# Assuming true_classes and pred_classes are already defined\n",
        "true_classes = test_generator.classes  # Actual classes\n",
        "pred_probabilities = best_model.predict(test_generator, steps=test_generator.samples // test_generator.batch_size, verbose=1)\n",
        "pred_classes = np.argmax(pred_probabilities, axis=1)\n",
        "\n",
        "# Generate classification report and convert it to dictionary format\n",
        "classification_report_dict = classification_report(true_classes, pred_classes, output_dict=True)\n"
      ],
      "metadata": {
        "id": "mdFlNGBJD2BV"
      },
      "execution_count": null,
      "outputs": []
    },
    {
      "cell_type": "markdown",
      "source": [
        "###F1-Score Visualization per Class\n",
        "Description: This section visualizes the F1-score for each class using bar plots. It provides various visualizations, such as showing the top classes by F1-score and the bottom classes, for deeper performance analysis.\n",
        "\n"
      ],
      "metadata": {
        "id": "ez7Xw5vk-CPf"
      }
    },
    {
      "cell_type": "code",
      "source": [
        "import pandas as pd\n",
        "import matplotlib.pyplot as plt\n",
        "\n",
        "# Convert the classification report to a DataFrame for easier plotting\n",
        "classification_report_df = pd.DataFrame(classification_report_dict).transpose()\n",
        "\n",
        "# Exclude 'accuracy', 'macro avg', and 'weighted avg' from the plot\n",
        "class_scores = classification_report_df[:-3]\n",
        "\n",
        "# Plotting F1-score for a subset of classes (e.g., first 20)\n",
        "plt.figure(figsize=(15, 5))\n",
        "plt.bar(class_scores.index[:20], class_scores['f1-score'][:20], color='skyblue', width=0.6)\n",
        "plt.xticks(rotation=45)\n",
        "plt.xlabel('Classes')\n",
        "plt.ylabel('F1-Score')\n",
        "plt.title('F1-Score per Class (Subset)')\n",
        "plt.grid(axis='y', linestyle='--', alpha=0.7)\n",
        "plt.show()\n",
        "\n",
        "# Sorting classes by F1-score and plotting\n",
        "sorted_class_scores = class_scores.sort_values('f1-score', ascending=False)\n",
        "\n",
        "plt.figure(figsize=(15, 5))\n",
        "plt.bar(sorted_class_scores.index, sorted_class_scores['f1-score'], color='skyblue', width=0.6)\n",
        "plt.xticks(rotation=45)\n",
        "plt.xlabel('Classes')\n",
        "plt.ylabel('F1-Score')\n",
        "plt.title('F1-Score per Class (Sorted)')\n",
        "plt.grid(axis='y', linestyle='--', alpha=0.7)\n",
        "plt.show()\n",
        "\n",
        "# Plotting the top 10 classes with highest F1-score\n",
        "plt.figure(figsize=(10, 5))\n",
        "plt.bar(sorted_class_scores.index[:10], sorted_class_scores['f1-score'][:10], color='skyblue', width=0.6)\n",
        "plt.xticks(rotation=45)\n",
        "plt.xlabel('Classes')\n",
        "plt.ylabel('F1-Score')\n",
        "plt.title('Top 10 Classes by F1-Score')\n",
        "plt.grid(axis='y', linestyle='--', alpha=0.7)\n",
        "plt.show()\n",
        "\n",
        "# Plotting the bottom 10 classes with lowest F1-score\n",
        "plt.figure(figsize=(10, 5))\n",
        "plt.bar(sorted_class_scores.index[-10:], sorted_class_scores['f1-score'][-10:], color='skyblue', width=0.6)\n",
        "plt.xticks(rotation=45)\n",
        "plt.xlabel('Classes')\n",
        "plt.ylabel('F1-Score')\n",
        "plt.title('Bottom 10 Classes by F1-Score')\n",
        "plt.grid(axis='y', linestyle='--', alpha=0.7)\n",
        "plt.show()\n"
      ],
      "metadata": {
        "id": "jC9ZDz-yFH1x"
      },
      "execution_count": null,
      "outputs": []
    },
    {
      "cell_type": "markdown",
      "source": [
        "###Precision-Recall Curve\n",
        "Description: This section generates and visualizes the precision-recall curve for each class, allowing evaluation of how the model performs across recall thresholds for different classes."
      ],
      "metadata": {
        "id": "r236MJme-Mau"
      }
    },
    {
      "cell_type": "code",
      "source": [
        "import numpy as np\n",
        "import matplotlib.pyplot as plt\n",
        "from sklearn.metrics import precision_recall_curve\n",
        "import tensorflow as tf\n",
        "\n",
        "# Suppress TensorFlow logging\n",
        "tf.get_logger().setLevel('ERROR')\n",
        "\n",
        "# Assuming you have your test generator\n",
        "test_generator.reset()  # Reset generator to start from the beginning\n",
        "\n",
        "# Obtain true classes and predicted probabilities\n",
        "y_true = []\n",
        "y_scores = []\n",
        "\n",
        "# Loop through the test generator to get all batches\n",
        "for _ in range(len(test_generator)):\n",
        "    X_batch, y_batch = next(test_generator)\n",
        "    y_true.extend(np.argmax(y_batch, axis=1))\n",
        "    y_scores_batch = best_model.predict(X_batch, verbose=0)  # Suppress verbose output with verbose=0\n",
        "    y_scores.extend(y_scores_batch)\n",
        "\n",
        "# Convert lists to numpy arrays for easier processing\n",
        "y_true = np.array(y_true)\n",
        "y_scores = np.array(y_scores)\n",
        "\n",
        "# Debugging outputs\n",
        "print(f'y_true shape: {y_true.shape}')\n",
        "print(f'y_scores shape: {y_scores.shape}')\n",
        "print(f'First few y_true values: {y_true[:10]}')\n",
        "print(f'First few y_scores values: {y_scores[:10]}')\n",
        "\n",
        "# Generate precision-recall curves for each class\n",
        "plt.figure(figsize=(10, 8))\n",
        "\n",
        "for i in range(len(test_generator.class_indices)):  # Loop through each class\n",
        "    precision, recall, _ = precision_recall_curve(y_true == i, y_scores[:, i])\n",
        "    plt.plot(recall, precision, lw=2, label=f'Class {i}')\n",
        "\n",
        "plt.xlabel('Recall')\n",
        "plt.ylabel('Precision')\n",
        "plt.title('Precision-Recall Curve for Each Class')\n",
        "plt.legend(loc='upper center', bbox_to_anchor=(0.5, -0.15), fancybox=True, shadow=True, ncol=5)  # Adjust legend position\n",
        "plt.grid(True)\n",
        "plt.show()\n"
      ],
      "metadata": {
        "id": "e5iGoAJ6MYvk"
      },
      "execution_count": null,
      "outputs": []
    },
    {
      "cell_type": "markdown",
      "source": [
        "###ROC Curve Visualization\n",
        "Description: This section generates ROC curves for each class and visualizes the true positive rate (sensitivity) against the false positive rate (1-specificity)."
      ],
      "metadata": {
        "id": "oQZwe7_U-UmC"
      }
    },
    {
      "cell_type": "code",
      "source": [
        "from sklearn.metrics import roc_curve, auc\n",
        "from sklearn.preprocessing import label_binarize\n",
        "import matplotlib.pyplot as plt\n",
        "\n",
        "# Binarize the output classes for multiclass ROC calculation\n",
        "n_classes = len(test_generator.class_indices)\n",
        "y_true_bin = label_binarize(true_classes, classes=list(range(n_classes)))\n",
        "\n",
        "plt.figure(figsize=(10, 8))\n",
        "\n",
        "for i in range(n_classes):\n",
        "    fpr, tpr, _ = roc_curve(y_true_bin[:, i], pred_probabilities[:, i])\n",
        "    roc_auc = auc(fpr, tpr)\n",
        "    plt.plot(fpr, tpr, lw=1, label=f'Class {i} (area = {roc_auc:.2f})')\n",
        "\n",
        "plt.plot([0, 1], [0, 1], 'k--')\n",
        "plt.xlabel('False Positive Rate')\n",
        "plt.ylabel('True Positive Rate')\n",
        "plt.title('ROC Curve for Each Class')\n",
        "\n",
        "# Modify the legend to place it below the plot and format it as a square\n",
        "plt.legend(loc='upper center', bbox_to_anchor=(0.5, -0.15), ncol=8, fontsize='small', frameon=False)\n",
        "\n",
        "plt.show()\n"
      ],
      "metadata": {
        "id": "Pc5EBMOANrw_"
      },
      "execution_count": null,
      "outputs": []
    },
    {
      "cell_type": "markdown",
      "source": [
        "###Visualization of Correct and Incorrect Predictions in CNN\n",
        "Description:\n",
        "This code is designed to visualize the results of a Convolutional Neural Network (CNN) by displaying a few examples of both correct and incorrect predictions made by the model on the dataset. It iterates over batches of images, identifies where the model predictions are correct or incorrect, and plots a few examples of each. The displayed images show the predicted class and the true class, helping assess how well the model is performing and understand common mistakes it may be making.\n",
        "\n",
        "Key functionalities include:\n",
        "*   Displaying correctly predicted images with the predicted class label.\n",
        "*   Displaying incorrectly predicted images alongside both the predicted and true class labels.\n",
        "*   Ensuring that multiple examples are shown in a neatly arranged grid for easy comparison."
      ],
      "metadata": {
        "id": "UEVArIAL-ycy"
      }
    },
    {
      "cell_type": "code",
      "source": [
        "import numpy as np\n",
        "import matplotlib.pyplot as plt\n",
        "\n",
        "# Show a few examples of correct and incorrect predictions\n",
        "fig, axes = plt.subplots(2, 5, figsize=(15, 6))\n",
        "axes = axes.ravel()\n",
        "\n",
        "correct_count = 0\n",
        "incorrect_count = 0\n",
        "seen_correct_classes = set()\n",
        "seen_incorrect_classes = set()\n",
        "\n",
        "# Iterate over multiple batches\n",
        "while correct_count < 5 or incorrect_count < 5:\n",
        "    X_batch, y_batch = next(test_generator)\n",
        "    pred_probs = best_model.predict(X_batch)\n",
        "    preds = np.argmax(pred_probs, axis=1)\n",
        "\n",
        "    # Process correct predictions\n",
        "    if correct_count < 5:\n",
        "        correct_indices = np.where(preds == np.argmax(y_batch, axis=1))[0]\n",
        "        for index in correct_indices:\n",
        "            predicted_class = preds[index]\n",
        "            if correct_count < 5 and predicted_class not in seen_correct_classes:\n",
        "                axes[correct_count].set_title(f'Correct: {predicted_class}')\n",
        "                axes[correct_count].imshow(X_batch[index].squeeze(), cmap='gray')\n",
        "                correct_count += 1\n",
        "                seen_correct_classes.add(predicted_class)\n",
        "            if correct_count >= 5:\n",
        "                break\n",
        "\n",
        "    # Process incorrect predictions\n",
        "    if incorrect_count < 5:\n",
        "        incorrect_indices = np.where(preds != np.argmax(y_batch, axis=1))[0]\n",
        "        for index in incorrect_indices:\n",
        "            predicted_class = preds[index]\n",
        "            true_class = np.argmax(y_batch[index])\n",
        "            if incorrect_count < 5 and (predicted_class, true_class) not in seen_incorrect_classes:\n",
        "                axes[5 + incorrect_count].set_title(f'Incorrect: {predicted_class}, True: {true_class}')\n",
        "                axes[5 + incorrect_count].imshow(X_batch[index].squeeze(), cmap='gray')\n",
        "                incorrect_count += 1\n",
        "                seen_incorrect_classes.add((predicted_class, true_class))\n",
        "            if incorrect_count >= 5:\n",
        "                break\n",
        "\n",
        "    # Check if all required images have been found\n",
        "    if correct_count >= 5 and incorrect_count >= 5:\n",
        "        break\n",
        "\n",
        "plt.tight_layout()\n",
        "plt.show()\n"
      ],
      "metadata": {
        "id": "mmyQ5w5bTsPP"
      },
      "execution_count": null,
      "outputs": []
    }
  ]
}