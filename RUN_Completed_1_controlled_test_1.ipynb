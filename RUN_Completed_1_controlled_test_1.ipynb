{
  "nbformat": 4,
  "nbformat_minor": 0,
  "metadata": {
    "colab": {
      "provenance": [],
      "machine_shape": "hm",
      "gpuType": "A100",
      "mount_file_id": "1DeiW7lm03AeWmTddRyXO6-QBQPuNjZkU",
      "authorship_tag": "ABX9TyMnVnrLMWgk4d2dndH4UgD1",
      "include_colab_link": true
    },
    "kernelspec": {
      "name": "python3",
      "display_name": "Python 3"
    },
    "language_info": {
      "name": "python"
    },
    "accelerator": "GPU"
  },
  "cells": [
    {
      "cell_type": "markdown",
      "metadata": {
        "id": "view-in-github",
        "colab_type": "text"
      },
      "source": [
        "<a href=\"https://colab.research.google.com/github/LukmaanViscomi/AI-Deep-Learning/blob/main/RUN_Completed_1_controlled_test_1.ipynb\" target=\"_parent\"><img src=\"https://colab.research.google.com/assets/colab-badge.svg\" alt=\"Open In Colab\"/></a>"
      ]
    },
    {
      "cell_type": "markdown",
      "source": [
        "### PHASE-1 - UNZIP THE DATA"
      ],
      "metadata": {
        "id": "8jBACT8WZpU0"
      }
    },
    {
      "cell_type": "markdown",
      "source": [
        "### New Section"
      ],
      "metadata": {
        "id": "ayqyEsstZic8"
      }
    },
    {
      "cell_type": "code",
      "source": [
        "!apt-get install p7zip-full # Install 7-Zip\n",
        "!pip install patool # Install the patool library which provides the patoolib module\n",
        "import zipfile\n",
        "import os\n",
        "import patoolib # Now you can import patoolib\n",
        "\n",
        "# Path to the uploaded zip file\n",
        "zip_file_path = 'dataset2 (1).zip'\n",
        "extracted_folder_path = './dataset2'  # Use a relative path for the extraction directory\n",
        "\n",
        "# Extract the zip file using patool\n",
        "patoolib.extract_archive(zip_file_path, outdir=extracted_folder_path)\n",
        "\n",
        "# List the contents of the extracted folder\n",
        "extracted_files = os.listdir(extracted_folder_path)\n",
        "print(extracted_files)"
      ],
      "metadata": {
        "id": "tZMl4NRlv_ds",
        "colab": {
          "base_uri": "https://localhost:8080/"
        },
        "outputId": "59f2b6b5-0cda-41c3-c3dd-13933d16869f"
      },
      "execution_count": 1,
      "outputs": [
        {
          "output_type": "stream",
          "name": "stdout",
          "text": [
            "Reading package lists... Done\n",
            "Building dependency tree... Done\n",
            "Reading state information... Done\n",
            "p7zip-full is already the newest version (16.02+dfsg-8).\n",
            "0 upgraded, 0 newly installed, 0 to remove and 45 not upgraded.\n",
            "Collecting patool\n",
            "  Downloading patool-2.3.0-py2.py3-none-any.whl.metadata (4.0 kB)\n",
            "Downloading patool-2.3.0-py2.py3-none-any.whl (96 kB)\n",
            "\u001b[2K   \u001b[90m━━━━━━━━━━━━━━━━━━━━━━━━━━━━━━━━━━━━━━━━\u001b[0m \u001b[32m96.6/96.6 kB\u001b[0m \u001b[31m1.1 MB/s\u001b[0m eta \u001b[36m0:00:00\u001b[0m\n",
            "\u001b[?25hInstalling collected packages: patool\n",
            "Successfully installed patool-2.3.0\n"
          ]
        },
        {
          "output_type": "stream",
          "name": "stderr",
          "text": [
            "INFO patool: Extracting dataset2 (1).zip ...\n",
            "INFO:patool:Extracting dataset2 (1).zip ...\n",
            "INFO patool: ... creating output directory `./dataset2'.\n",
            "INFO:patool:... creating output directory `./dataset2'.\n",
            "INFO patool: running /usr/bin/7z x -o./dataset2 -- \"dataset2 (1).zip\"\n",
            "INFO:patool:running /usr/bin/7z x -o./dataset2 -- \"dataset2 (1).zip\"\n",
            "INFO patool:     with input=''\n",
            "INFO:patool:    with input=''\n",
            "INFO patool: ... dataset2 (1).zip extracted to `./dataset2'.\n",
            "INFO:patool:... dataset2 (1).zip extracted to `./dataset2'.\n"
          ]
        },
        {
          "output_type": "stream",
          "name": "stdout",
          "text": [
            "['triple_mnist']\n"
          ]
        }
      ]
    },
    {
      "cell_type": "markdown",
      "source": [
        "### PHASE-2 - REDISTRIBUTE THE DATASET FOR TRAIN-VAL-TEST"
      ],
      "metadata": {
        "id": "IebDDjncZ1E3"
      }
    },
    {
      "cell_type": "code",
      "source": [
        "import os\n",
        "import shutil\n",
        "from pathlib import Path\n",
        "import random\n",
        "\n",
        "# Paths to original directories\n",
        "original_base_dir = Path('dataset2/triple_mnist')\n",
        "original_train_dir = original_base_dir / 'train'\n",
        "original_val_dir = original_base_dir / 'val'\n",
        "original_test_dir = original_base_dir / 'test'\n",
        "\n",
        "# Path to the new dataset directory\n",
        "new_base_dir = Path('dataset-c/triple_mnist')\n",
        "new_train_dir = new_base_dir / 'train'\n",
        "new_val_dir = new_base_dir / 'val'\n",
        "new_test_dir = new_base_dir / 'test'\n",
        "\n",
        "# Ensure the new directories exist\n",
        "new_train_dir.mkdir(parents=True, exist_ok=True)\n",
        "new_val_dir.mkdir(parents=True, exist_ok=True)\n",
        "new_test_dir.mkdir(parents=True, exist_ok=True)\n",
        "\n",
        "# Function to split and copy files\n",
        "def split_and_copy_files(src_dir, new_train_dir, new_val_dir, new_test_dir, train_ratio=0.6, val_ratio=0.2, test_ratio=0.2):\n",
        "    if not src_dir.exists():\n",
        "        return\n",
        "\n",
        "    classes = sorted(os.listdir(src_dir))\n",
        "\n",
        "    for cls in classes:\n",
        "        cls_path = src_dir / cls\n",
        "        if cls_path.is_dir():\n",
        "            images = list(cls_path.glob('*'))\n",
        "            random.shuffle(images)\n",
        "\n",
        "            num_train = int(len(images) * train_ratio)\n",
        "            num_val = int(len(images) * val_ratio)\n",
        "\n",
        "            train_images = images[:num_train]\n",
        "            val_images = images[num_train:num_train+num_val]\n",
        "            test_images = images[num_train+num_val:]\n",
        "\n",
        "            cls_train_dir = new_train_dir / cls\n",
        "            cls_val_dir = new_val_dir / cls\n",
        "            cls_test_dir = new_test_dir / cls\n",
        "\n",
        "            cls_train_dir.mkdir(parents=True, exist_ok=True)\n",
        "            cls_val_dir.mkdir(parents=True, exist_ok=True)\n",
        "            cls_test_dir.mkdir(parents=True, exist_ok=True)\n",
        "\n",
        "            for img in train_images:\n",
        "                shutil.copy(str(img), str(cls_train_dir / img.name))\n",
        "            for img in val_images:\n",
        "                shutil.copy(str(img), str(cls_val_dir / img.name))\n",
        "            for img in test_images:\n",
        "                shutil.copy(str(img), str(cls_test_dir / img.name))\n",
        "\n",
        "# Split and copy files from original train, val, and test directories\n",
        "split_and_copy_files(original_train_dir, new_train_dir, new_val_dir, new_test_dir)\n",
        "split_and_copy_files(original_val_dir, new_train_dir, new_val_dir, new_test_dir)\n",
        "split_and_copy_files(original_test_dir, new_train_dir, new_val_dir, new_test_dir)\n",
        "\n",
        "print(\"Files split and copied successfully!\")"
      ],
      "metadata": {
        "colab": {
          "base_uri": "https://localhost:8080/"
        },
        "id": "XFDSyQu_wCfZ",
        "outputId": "2bf9d7e1-89a2-41ba-e229-8c381ec08a88"
      },
      "execution_count": 2,
      "outputs": [
        {
          "output_type": "stream",
          "name": "stdout",
          "text": [
            "Files split and copied successfully!\n"
          ]
        }
      ]
    },
    {
      "cell_type": "markdown",
      "source": [
        "### VERISON 2.0 -so from here on we are going to break the sections down"
      ],
      "metadata": {
        "id": "zdWEHHwb4NGM"
      }
    },
    {
      "cell_type": "markdown",
      "source": [
        "### Install and Imports"
      ],
      "metadata": {
        "id": "fHciR29g-WpJ"
      }
    },
    {
      "cell_type": "code",
      "source": [
        "!pip install keras-tuner\n",
        "\n",
        "import tensorflow as tf\n",
        "from tensorflow.keras.preprocessing.image import ImageDataGenerator\n",
        "from tensorflow.keras.models import Sequential\n",
        "from tensorflow.keras.layers import Conv2D, MaxPooling2D, Flatten, Dense, Dropout\n",
        "from tensorflow.keras.optimizers import Adam\n",
        "import keras_tuner as kt\n",
        "import os\n",
        "import shutil\n",
        "import random\n",
        "import matplotlib.pyplot as plt\n",
        "import pandas as pd"
      ],
      "metadata": {
        "colab": {
          "base_uri": "https://localhost:8080/"
        },
        "id": "-PIvGymr-WP_",
        "outputId": "b0fd8fc2-013e-40d0-e5b5-97a7d381d34f"
      },
      "execution_count": 3,
      "outputs": [
        {
          "output_type": "stream",
          "name": "stdout",
          "text": [
            "Collecting keras-tuner\n",
            "  Downloading keras_tuner-1.4.7-py3-none-any.whl.metadata (5.4 kB)\n",
            "Requirement already satisfied: keras in /usr/local/lib/python3.10/dist-packages (from keras-tuner) (3.4.1)\n",
            "Requirement already satisfied: packaging in /usr/local/lib/python3.10/dist-packages (from keras-tuner) (24.1)\n",
            "Requirement already satisfied: requests in /usr/local/lib/python3.10/dist-packages (from keras-tuner) (2.32.3)\n",
            "Collecting kt-legacy (from keras-tuner)\n",
            "  Downloading kt_legacy-1.0.5-py3-none-any.whl.metadata (221 bytes)\n",
            "Requirement already satisfied: absl-py in /usr/local/lib/python3.10/dist-packages (from keras->keras-tuner) (1.4.0)\n",
            "Requirement already satisfied: numpy in /usr/local/lib/python3.10/dist-packages (from keras->keras-tuner) (1.26.4)\n",
            "Requirement already satisfied: rich in /usr/local/lib/python3.10/dist-packages (from keras->keras-tuner) (13.7.1)\n",
            "Requirement already satisfied: namex in /usr/local/lib/python3.10/dist-packages (from keras->keras-tuner) (0.0.8)\n",
            "Requirement already satisfied: h5py in /usr/local/lib/python3.10/dist-packages (from keras->keras-tuner) (3.11.0)\n",
            "Requirement already satisfied: optree in /usr/local/lib/python3.10/dist-packages (from keras->keras-tuner) (0.12.1)\n",
            "Requirement already satisfied: ml-dtypes in /usr/local/lib/python3.10/dist-packages (from keras->keras-tuner) (0.4.0)\n",
            "Requirement already satisfied: charset-normalizer<4,>=2 in /usr/local/lib/python3.10/dist-packages (from requests->keras-tuner) (3.3.2)\n",
            "Requirement already satisfied: idna<4,>=2.5 in /usr/local/lib/python3.10/dist-packages (from requests->keras-tuner) (3.7)\n",
            "Requirement already satisfied: urllib3<3,>=1.21.1 in /usr/local/lib/python3.10/dist-packages (from requests->keras-tuner) (2.0.7)\n",
            "Requirement already satisfied: certifi>=2017.4.17 in /usr/local/lib/python3.10/dist-packages (from requests->keras-tuner) (2024.7.4)\n",
            "Requirement already satisfied: typing-extensions>=4.5.0 in /usr/local/lib/python3.10/dist-packages (from optree->keras->keras-tuner) (4.12.2)\n",
            "Requirement already satisfied: markdown-it-py>=2.2.0 in /usr/local/lib/python3.10/dist-packages (from rich->keras->keras-tuner) (3.0.0)\n",
            "Requirement already satisfied: pygments<3.0.0,>=2.13.0 in /usr/local/lib/python3.10/dist-packages (from rich->keras->keras-tuner) (2.16.1)\n",
            "Requirement already satisfied: mdurl~=0.1 in /usr/local/lib/python3.10/dist-packages (from markdown-it-py>=2.2.0->rich->keras->keras-tuner) (0.1.2)\n",
            "Downloading keras_tuner-1.4.7-py3-none-any.whl (129 kB)\n",
            "\u001b[2K   \u001b[90m━━━━━━━━━━━━━━━━━━━━━━━━━━━━━━━━━━━━━━━━\u001b[0m \u001b[32m129.1/129.1 kB\u001b[0m \u001b[31m1.2 MB/s\u001b[0m eta \u001b[36m0:00:00\u001b[0m\n",
            "\u001b[?25hDownloading kt_legacy-1.0.5-py3-none-any.whl (9.6 kB)\n",
            "Installing collected packages: kt-legacy, keras-tuner\n",
            "Successfully installed keras-tuner-1.4.7 kt-legacy-1.0.5\n"
          ]
        }
      ]
    },
    {
      "cell_type": "markdown",
      "source": [
        "### 1. Function to create a small subset of the dataset"
      ],
      "metadata": {
        "id": "A7xp6UAQ4ytA"
      }
    },
    {
      "cell_type": "code",
      "source": [
        "### 1. Function to create a small subset of the dataset\n",
        "def create_subset(original_dir, subset_dir, classes, num_images_per_class):\n",
        "    if not os.path.exists(subset_dir):\n",
        "        os.makedirs(subset_dir)\n",
        "    for class_name in classes:\n",
        "        class_dir = os.path.join(original_dir, class_name)\n",
        "        subset_class_dir = os.path.join(subset_dir, class_name)\n",
        "        if not os.path.exists(subset_class_dir):\n",
        "            os.makedirs(subset_class_dir)\n",
        "        images = os.listdir(class_dir)\n",
        "        random.shuffle(images)\n",
        "        for img in images[:num_images_per_class]:\n",
        "            shutil.copy(os.path.join(class_dir, img), os.path.join(subset_class_dir, img))\n",
        "\n"
      ],
      "metadata": {
        "id": "WhQUj6IO-NP0"
      },
      "execution_count": 4,
      "outputs": []
    },
    {
      "cell_type": "markdown",
      "source": [
        "### 2. Paths to your full dataset\n"
      ],
      "metadata": {
        "id": "D_QZFJKY-I-3"
      }
    },
    {
      "cell_type": "code",
      "source": [
        "### 2. Paths to your full dataset\n",
        "full_train_dir = 'dataset-c/triple_mnist/train'\n",
        "full_val_dir = 'dataset-c/triple_mnist/val'\n",
        "full_test_dir = 'dataset-c/triple_mnist/test'"
      ],
      "metadata": {
        "id": "MhOspdUM-IW1"
      },
      "execution_count": 5,
      "outputs": []
    },
    {
      "cell_type": "markdown",
      "source": [
        "### 3. Paths to your subset dataset\n"
      ],
      "metadata": {
        "id": "YM_Dsw_x4q1d"
      }
    },
    {
      "cell_type": "code",
      "source": [
        "### 3. Paths to your subset dataset\n",
        "subset_train_dir = 'subset/triple_mnist/train'\n",
        "subset_val_dir = 'subset/triple_mnist/val'\n",
        "subset_test_dir = 'subset/triple_mnist/test'"
      ],
      "metadata": {
        "id": "KvAHzqYx44HO"
      },
      "execution_count": 6,
      "outputs": []
    },
    {
      "cell_type": "markdown",
      "source": [
        "### 4. Create a small subset of your data\n"
      ],
      "metadata": {
        "id": "R61X9uAL4tkn"
      }
    },
    {
      "cell_type": "code",
      "source": [
        "### 4. Create a small subset of your data\n",
        "classes_to_use = [str(i).zfill(3) for i in range(50)]  # Use the first 50 classes as an example\n",
        "num_images_per_class = 500  # Increase to 500 images per class\n",
        "create_subset(full_train_dir, subset_train_dir, classes_to_use, num_images_per_class)\n",
        "create_subset(full_val_dir, subset_val_dir, classes_to_use, num_images_per_class)\n",
        "create_subset(full_test_dir, subset_test_dir, classes_to_use, num_images_per_class)"
      ],
      "metadata": {
        "id": "dCp0Jk_65GuP"
      },
      "execution_count": 7,
      "outputs": []
    },
    {
      "cell_type": "markdown",
      "source": [
        "### 5. Image data generators for the subset\n"
      ],
      "metadata": {
        "id": "Dzn5PI6r4vt2"
      }
    },
    {
      "cell_type": "code",
      "source": [
        "### 5. Image data generators for the subset\n",
        "train_datagen = ImageDataGenerator(rescale=1./255)\n",
        "val_datagen = ImageDataGenerator(rescale=1./255)\n",
        "test_datagen = ImageDataGenerator(rescale=1./255)"
      ],
      "metadata": {
        "id": "b4rcQXi95HW5"
      },
      "execution_count": 8,
      "outputs": []
    },
    {
      "cell_type": "markdown",
      "source": [
        "### 6. Data generators for the subset\n"
      ],
      "metadata": {
        "id": "U2K6AfJW41iK"
      }
    },
    {
      "cell_type": "code",
      "source": [
        "### 6. Data generators for the subset\n",
        "train_generator = train_datagen.flow_from_directory(\n",
        "    subset_train_dir,\n",
        "    target_size=(84, 84),\n",
        "    batch_size=32,\n",
        "    class_mode='categorical'\n",
        ")\n",
        "\n",
        "val_generator = val_datagen.flow_from_directory(\n",
        "    subset_val_dir,\n",
        "    target_size=(84, 84),\n",
        "    batch_size=32,\n",
        "    class_mode='categorical'\n",
        ")\n",
        "\n",
        "test_generator = test_datagen.flow_from_directory(\n",
        "    subset_test_dir,\n",
        "    target_size=(84, 84),\n",
        "    batch_size=32,\n",
        "    class_mode='categorical'\n",
        ")"
      ],
      "metadata": {
        "colab": {
          "base_uri": "https://localhost:8080/"
        },
        "id": "T2GT0Rly5Hsf",
        "outputId": "66f983c4-ade9-4c9a-fb93-1945f9310517"
      },
      "execution_count": 9,
      "outputs": [
        {
          "output_type": "stream",
          "name": "stdout",
          "text": [
            "Found 3000 images belonging to 50 classes.\n",
            "Found 1000 images belonging to 50 classes.\n",
            "Found 1000 images belonging to 50 classes.\n"
          ]
        }
      ]
    },
    {
      "cell_type": "markdown",
      "source": [
        "### 7. Hyperparameter tuning function"
      ],
      "metadata": {
        "id": "9mRLwLzc41Ue"
      }
    },
    {
      "cell_type": "code",
      "source": [
        "# Section 7. Hyperparameter tuning function\n",
        "def build_model(hp):\n",
        "    model = Sequential()\n",
        "    model.add(Conv2D(hp.Int('conv_1_filter', 32, 128, step=32), (3, 3), activation='relu', input_shape=(84, 84, 3)))\n",
        "    model.add(MaxPooling2D((2, 2)))\n",
        "    model.add(Conv2D(hp.Int('conv_2_filter', 32, 128, step=32), (3, 3), activation='relu'))\n",
        "    model.add(MaxPooling2D((2, 2)))\n",
        "    model.add(Flatten())\n",
        "    model.add(Dense(hp.Int('dense_units', 32, 128, step=32), activation='relu'))\n",
        "    model.add(Dropout(hp.Float('dropout_rate', 0.2, 0.5, step=0.1)))\n",
        "    model.add(Dense(train_generator.num_classes, activation='softmax'))\n",
        "\n",
        "    # Including batch_size as a hyperparameter (key change)\n",
        "    batch_size = hp.Int('batch_size', 16, 64, step=16)\n",
        "\n",
        "    model.compile(optimizer=Adam(learning_rate=hp.Float('learning_rate', 1e-4, 1e-2, sampling='LOG')),\n",
        "                  loss='categorical_crossentropy',\n",
        "                  metrics=['accuracy'])\n",
        "\n",
        "    return model"
      ],
      "metadata": {
        "id": "Hwn1qQGI5IKv"
      },
      "execution_count": 10,
      "outputs": []
    },
    {
      "cell_type": "markdown",
      "source": [
        "### Section 8. Callback for Early Stopping\n"
      ],
      "metadata": {
        "id": "XTf8kPeh5Ivo"
      }
    },
    {
      "cell_type": "code",
      "source": [
        "# Section 8. Callback for Early Stopping\n",
        "early_stopping = tf.keras.callbacks.EarlyStopping(\n",
        "    monitor='val_loss',\n",
        "    patience=3,\n",
        "    restore_best_weights=True\n",
        ")\n"
      ],
      "metadata": {
        "id": "Jl0ylCkg5Lyy"
      },
      "execution_count": 11,
      "outputs": []
    },
    {
      "cell_type": "markdown",
      "source": [
        "### Section 9. Tuner Setup"
      ],
      "metadata": {
        "id": "1W6D6pJ95NUG"
      }
    },
    {
      "cell_type": "code",
      "source": [
        "# Section 8. Tuner Setup\n",
        "tuner = kt.Hyperband(\n",
        "    build_model,\n",
        "    objective='val_accuracy',\n",
        "    max_epochs=10,\n",
        "    factor=3,\n",
        "    directory='new_output',\n",
        "    project_name='digit_tuning_subset'\n",
        ")\n",
        "\n",
        "# Adding batch size to the hyperparameter search space\n",
        "tuner.search_space_summary()\n",
        "tuner.search(\n",
        "    train_generator,\n",
        "    epochs=10,\n",
        "    validation_data=val_generator,\n",
        "    callbacks=[early_stopping],\n",
        "    # Specify batch size here to be tuned\n",
        "    batch_size=kt.HyperParameters().Int('batch_size', 16, 64, step=16)\n",
        ")\n",
        "\n"
      ],
      "metadata": {
        "colab": {
          "base_uri": "https://localhost:8080/"
        },
        "id": "mVm-UiBL5Q1W",
        "outputId": "c3df7686-28e8-4ab8-ee0f-dd1659c5aa87"
      },
      "execution_count": 12,
      "outputs": [
        {
          "output_type": "stream",
          "name": "stdout",
          "text": [
            "Trial 30 Complete [00h 00m 18s]\n",
            "val_accuracy: 0.26899999380111694\n",
            "\n",
            "Best val_accuracy So Far: 0.4269999861717224\n",
            "Total elapsed time: 00h 06m 25s\n"
          ]
        }
      ]
    },
    {
      "cell_type": "markdown",
      "source": [
        "### 10. Perform the hyperparameter search on the subset"
      ],
      "metadata": {
        "id": "NiTy4w-M5PoN"
      }
    },
    {
      "cell_type": "code",
      "source": [
        "### 10. Perform the hyperparameter search on the subset\n",
        "tuner.search(\n",
        "    train_generator,\n",
        "    epochs=10,\n",
        "    validation_data=val_generator,\n",
        "    callbacks=[early_stopping]\n",
        ")"
      ],
      "metadata": {
        "id": "lZA5Q8Jv5RWS"
      },
      "execution_count": 13,
      "outputs": []
    },
    {
      "cell_type": "markdown",
      "source": [
        "### 11. Get the best hyperparameters"
      ],
      "metadata": {
        "id": "VfDRHbXu5TlG"
      }
    },
    {
      "cell_type": "code",
      "source": [
        "### 11. Get the best hyperparameters\n",
        "best_hps = tuner.get_best_hyperparameters(num_trials=1)[0]\n"
      ],
      "metadata": {
        "id": "5xP27-sf5UY_"
      },
      "execution_count": 14,
      "outputs": []
    },
    {
      "cell_type": "markdown",
      "source": [
        "### 12. Train Model with Best Hyperparameters\n"
      ],
      "metadata": {
        "id": "M6XmwGSz5VrQ"
      }
    },
    {
      "cell_type": "code",
      "source": [
        "# Section 12. Train Model with Best Hyperparameters\n",
        "print(\"Compiling and training the model with the best hyperparameters...\")\n",
        "\n",
        "best_model = tuner.hypermodel.build(best_hps)\n",
        "\n",
        "# Explicitly compile the model to ensure metrics are tracked\n",
        "best_model.compile(optimizer=Adam(learning_rate=best_hps.get('learning_rate')),\n",
        "                   loss='categorical_crossentropy',\n",
        "                   metrics=['accuracy'])\n",
        "\n",
        "history = best_model.fit(\n",
        "    train_generator,\n",
        "    epochs=10,\n",
        "    validation_data=val_generator,\n",
        "    callbacks=[early_stopping]\n",
        ")\n",
        "\n",
        "# After training, print out the history keys to check for 'val_accuracy'\n",
        "print(\"Available keys in history.history after training:\", history.history.keys())\n",
        "\n",
        "# Evaluate the model on the subset test data\n",
        "test_loss, test_acc = best_model.evaluate(test_generator)\n",
        "print(f\"Test accuracy on subset: {test_acc}\")\n"
      ],
      "metadata": {
        "colab": {
          "base_uri": "https://localhost:8080/"
        },
        "id": "UUzhmfHe5ZAo",
        "outputId": "a797f4ce-9956-4594-c807-fcbaa56780ef"
      },
      "execution_count": 15,
      "outputs": [
        {
          "output_type": "stream",
          "name": "stdout",
          "text": [
            "Compiling and training the model with the best hyperparameters...\n",
            "Epoch 1/10\n",
            "\u001b[1m94/94\u001b[0m \u001b[32m━━━━━━━━━━━━━━━━━━━━\u001b[0m\u001b[37m\u001b[0m \u001b[1m7s\u001b[0m 44ms/step - accuracy: 0.0134 - loss: 3.9253 - val_accuracy: 0.0200 - val_loss: 3.9121\n",
            "Epoch 2/10\n",
            "\u001b[1m94/94\u001b[0m \u001b[32m━━━━━━━━━━━━━━━━━━━━\u001b[0m\u001b[37m\u001b[0m \u001b[1m2s\u001b[0m 15ms/step - accuracy: 0.0210 - loss: 3.9126 - val_accuracy: 0.0200 - val_loss: 3.9120\n",
            "Epoch 3/10\n",
            "\u001b[1m94/94\u001b[0m \u001b[32m━━━━━━━━━━━━━━━━━━━━\u001b[0m\u001b[37m\u001b[0m \u001b[1m2s\u001b[0m 15ms/step - accuracy: 0.0199 - loss: 3.9127 - val_accuracy: 0.0200 - val_loss: 3.9120\n",
            "Epoch 4/10\n",
            "\u001b[1m94/94\u001b[0m \u001b[32m━━━━━━━━━━━━━━━━━━━━\u001b[0m\u001b[37m\u001b[0m \u001b[1m1s\u001b[0m 15ms/step - accuracy: 0.0238 - loss: 3.9125 - val_accuracy: 0.0200 - val_loss: 3.9120\n",
            "Epoch 5/10\n",
            "\u001b[1m94/94\u001b[0m \u001b[32m━━━━━━━━━━━━━━━━━━━━\u001b[0m\u001b[37m\u001b[0m \u001b[1m1s\u001b[0m 15ms/step - accuracy: 0.0180 - loss: 3.9126 - val_accuracy: 0.0200 - val_loss: 3.9120\n",
            "Epoch 6/10\n",
            "\u001b[1m94/94\u001b[0m \u001b[32m━━━━━━━━━━━━━━━━━━━━\u001b[0m\u001b[37m\u001b[0m \u001b[1m1s\u001b[0m 15ms/step - accuracy: 0.0167 - loss: 3.9128 - val_accuracy: 0.0200 - val_loss: 3.9120\n",
            "Epoch 7/10\n",
            "\u001b[1m94/94\u001b[0m \u001b[32m━━━━━━━━━━━━━━━━━━━━\u001b[0m\u001b[37m\u001b[0m \u001b[1m2s\u001b[0m 15ms/step - accuracy: 0.0181 - loss: 3.9126 - val_accuracy: 0.0200 - val_loss: 3.9120\n",
            "Epoch 8/10\n",
            "\u001b[1m94/94\u001b[0m \u001b[32m━━━━━━━━━━━━━━━━━━━━\u001b[0m\u001b[37m\u001b[0m \u001b[1m2s\u001b[0m 15ms/step - accuracy: 0.0165 - loss: 3.9126 - val_accuracy: 0.0200 - val_loss: 3.9120\n",
            "Epoch 9/10\n",
            "\u001b[1m94/94\u001b[0m \u001b[32m━━━━━━━━━━━━━━━━━━━━\u001b[0m\u001b[37m\u001b[0m \u001b[1m1s\u001b[0m 15ms/step - accuracy: 0.0207 - loss: 3.9127 - val_accuracy: 0.0200 - val_loss: 3.9120\n",
            "Epoch 10/10\n",
            "\u001b[1m94/94\u001b[0m \u001b[32m━━━━━━━━━━━━━━━━━━━━\u001b[0m\u001b[37m\u001b[0m \u001b[1m1s\u001b[0m 15ms/step - accuracy: 0.0150 - loss: 3.9128 - val_accuracy: 0.0200 - val_loss: 3.9120\n",
            "Available keys in history.history after training: dict_keys(['accuracy', 'loss', 'val_accuracy', 'val_loss'])\n",
            "\u001b[1m32/32\u001b[0m \u001b[32m━━━━━━━━━━━━━━━━━━━━\u001b[0m\u001b[37m\u001b[0m \u001b[1m0s\u001b[0m 11ms/step - accuracy: 0.0133 - loss: 3.9119\n",
            "Test accuracy on subset: 0.019999999552965164\n"
          ]
        }
      ]
    },
    {
      "cell_type": "markdown",
      "source": [
        "### 13. Evaluate the model on the subset test data"
      ],
      "metadata": {
        "id": "hqU0l1995aQW"
      }
    },
    {
      "cell_type": "code",
      "source": [
        "### 13. Evaluate the model on the subset test data\n",
        "test_loss, test_acc = best_model.evaluate(test_generator)\n",
        "print(f\"Test accuracy on subset: {test_acc}\")"
      ],
      "metadata": {
        "colab": {
          "base_uri": "https://localhost:8080/"
        },
        "id": "e88ws1rC5bh5",
        "outputId": "5529ad5a-d6e7-4626-dce2-713d6cc2ce90"
      },
      "execution_count": 16,
      "outputs": [
        {
          "output_type": "stream",
          "name": "stdout",
          "text": [
            "\u001b[1m32/32\u001b[0m \u001b[32m━━━━━━━━━━━━━━━━━━━━\u001b[0m\u001b[37m\u001b[0m \u001b[1m0s\u001b[0m 11ms/step - accuracy: 0.0166 - loss: 3.9119\n",
            "Test accuracy on subset: 0.019999999552965164\n"
          ]
        }
      ]
    },
    {
      "cell_type": "markdown",
      "source": [
        "### 14. Save the results in a CSV file\n"
      ],
      "metadata": {
        "id": "wziPOH5z5c_6"
      }
    },
    {
      "cell_type": "code",
      "source": [
        "# Section 14. Save the results in a CSV file\n",
        "results = []\n",
        "for trial in tuner.oracle.get_best_trials(num_trials=10):\n",
        "    trial_summary = {\n",
        "        'trial_number': trial.trial_id,\n",
        "        'conv_1_filter': trial.hyperparameters.get('conv_1_filter'),\n",
        "        'conv_2_filter': trial.hyperparameters.get('conv_2_filter'),\n",
        "        'dense_units': trial.hyperparameters.get('dense_units'),\n",
        "        'dropout_rate': trial.hyperparameters.get('dropout_rate'),\n",
        "        'learning_rate': trial.hyperparameters.get('learning_rate'),\n",
        "        'batch_size': trial.hyperparameters.values['batch_size'] if 'batch_size' in trial.hyperparameters.values else 32,\n",
        "        'accuracy': trial.metrics.get_last_value('accuracy'),\n",
        "        'loss': trial.metrics.get_last_value('loss'),\n",
        "        'val_accuracy': trial.metrics.get_last_value('val_accuracy'),\n",
        "        'val_loss': trial.metrics.get_last_value('val_loss'),\n",
        "        'test_accuracy': test_acc,\n",
        "        'test_loss': test_loss,\n",
        "    }\n",
        "    results.append(trial_summary)\n",
        "\n",
        "results_df = pd.DataFrame(results)\n",
        "results_df.to_csv('new_output/trial_results.csv', index=False)\n"
      ],
      "metadata": {
        "id": "YLKyTSwl5gKa"
      },
      "execution_count": 17,
      "outputs": []
    },
    {
      "cell_type": "markdown",
      "source": [
        "### 15. Ensure Validation Accuracy Before Proceeding"
      ],
      "metadata": {
        "id": "IwgtpneX5hwr"
      }
    },
    {
      "cell_type": "code",
      "source": [
        "# Section 15. Train on Full Dataset Without Validation Threshold\n",
        "\n",
        "# Use the best hyperparameters for the full dataset\n",
        "batch_size = best_hps.values.get('batch_size', 32)  # Properly retrieve the batch size with a default fallback\n",
        "\n",
        "train_generator_full = train_datagen.flow_from_directory(\n",
        "    full_train_dir,\n",
        "    target_size=(84, 84),\n",
        "    batch_size=batch_size,  # Use the resolved batch_size\n",
        "    class_mode='categorical'\n",
        ")\n",
        "\n",
        "val_generator_full = val_datagen.flow_from_directory(\n",
        "    full_val_dir,\n",
        "    target_size=(84, 84),\n",
        "    batch_size=batch_size,  # Use the resolved batch_size\n",
        "    class_mode='categorical'\n",
        ")\n",
        "\n",
        "test_generator_full = test_datagen.flow_from_directory(\n",
        "    full_test_dir,\n",
        "    target_size=(84, 84),\n",
        "    batch_size=batch_size,  # Use the resolved batch_size\n",
        "    class_mode='categorical'\n",
        ")\n",
        "\n",
        "# Build and train the model with the best hyperparameters on the full dataset\n",
        "best_model_full = tuner.hypermodel.build(best_hps)\n",
        "\n",
        "# Modify the final layer to match the number of classes in the full dataset\n",
        "best_model_full.pop()  # Remove the old final layer\n",
        "best_model_full.add(Dense(train_generator_full.num_classes, activation='softmax'))  # Add a new layer with correct output size\n",
        "\n",
        "best_model_full.compile(optimizer=Adam(learning_rate=best_hps.get('learning_rate')),\n",
        "                        loss='categorical_crossentropy',\n",
        "                        metrics=['accuracy'])\n",
        "\n",
        "history_full = best_model_full.fit(\n",
        "    train_generator_full,\n",
        "    epochs=20,\n",
        "    validation_data=val_generator_full,\n",
        "    callbacks=[early_stopping]\n",
        ")\n",
        "\n",
        "# Evaluate the model on the full test data\n",
        "test_loss_full, test_acc_full = best_model_full.evaluate(test_generator_full)\n",
        "print(f\"Test accuracy on full dataset: {test_acc_full}\")\n",
        "\n",
        "# Plot training history\n",
        "plt.figure(figsize=(12, 4))\n",
        "plt.subplot(1, 2, 1)\n",
        "plt.plot(history_full.history['accuracy'], label='accuracy')\n",
        "plt.plot(history_full.history['val_accuracy'], label='val_accuracy')\n",
        "plt.xlabel('Epoch')\n",
        "plt.ylabel('Accuracy')\n",
        "plt.legend()\n",
        "\n",
        "plt.subplot(1, 2, 2)\n",
        "plt.plot(history_full.history['loss'], label='loss')\n",
        "plt.plot(history_full.history['val_loss'], label='val_loss')\n",
        "plt.xlabel('Epoch')\n",
        "plt.ylabel('Loss')\n",
        "plt.legend()\n",
        "\n",
        "plt.show()\n",
        "\n",
        "# Displaying the winning hyperparameters\n",
        "best_hyperparameters_df = pd.DataFrame([{\n",
        "    'conv_1_filter': best_hps.get('conv_1_filter'),\n",
        "    'conv_2_filter': best_hps.get('conv_2_filter'),\n",
        "    'dense_units': best_hps.get('dense_units'),\n",
        "    'dropout_rate': best_hps.get('dropout_rate'),\n",
        "    'learning_rate': best_hps.get('learning_rate'),\n",
        "    'batch_size': batch_size  # Use the resolved batch size\n",
        "}])\n",
        "print(best_hyperparameters_df)\n",
        "best_hyperparameters_df.to_csv('new_output/best_hyperparameters.csv', index=False)\n"
      ],
      "metadata": {
        "id": "jpgW1EJ2tdLj",
        "colab": {
          "base_uri": "https://localhost:8080/",
          "height": 658
        },
        "outputId": "f24d31bd-6062-4d98-db32-85dddc438184"
      },
      "execution_count": 18,
      "outputs": [
        {
          "output_type": "stream",
          "name": "stdout",
          "text": [
            "Found 60000 images belonging to 1000 classes.\n",
            "Found 20000 images belonging to 1000 classes.\n",
            "Found 20000 images belonging to 1000 classes.\n",
            "Epoch 1/20\n",
            "\u001b[1m1875/1875\u001b[0m \u001b[32m━━━━━━━━━━━━━━━━━━━━\u001b[0m\u001b[37m\u001b[0m \u001b[1m34s\u001b[0m 16ms/step - accuracy: 6.1444e-04 - loss: 6.9134 - val_accuracy: 0.0010 - val_loss: 6.9081\n",
            "Epoch 2/20\n",
            "\u001b[1m1875/1875\u001b[0m \u001b[32m━━━━━━━━━━━━━━━━━━━━\u001b[0m\u001b[37m\u001b[0m \u001b[1m28s\u001b[0m 15ms/step - accuracy: 7.7469e-04 - loss: 6.9114 - val_accuracy: 0.0010 - val_loss: 6.9080\n",
            "Epoch 3/20\n",
            "\u001b[1m1875/1875\u001b[0m \u001b[32m━━━━━━━━━━━━━━━━━━━━\u001b[0m\u001b[37m\u001b[0m \u001b[1m28s\u001b[0m 15ms/step - accuracy: 5.8733e-04 - loss: 6.9114 - val_accuracy: 0.0010 - val_loss: 6.9079\n",
            "\u001b[1m625/625\u001b[0m \u001b[32m━━━━━━━━━━━━━━━━━━━━\u001b[0m\u001b[37m\u001b[0m \u001b[1m7s\u001b[0m 12ms/step - accuracy: 0.0017 - loss: 6.9079\n",
            "Test accuracy on full dataset: 0.0010000000474974513\n"
          ]
        },
        {
          "output_type": "display_data",
          "data": {
            "text/plain": [
              "<Figure size 1200x400 with 2 Axes>"
            ],
            "image/png": "[encoded data removed]"
          },
          "metadata": {}
        },
        {
          "output_type": "stream",
          "name": "stdout",
          "text": [
            "   conv_1_filter  conv_2_filter  dense_units  dropout_rate  learning_rate  \\\n",
            "0            128            128           32           0.2        0.00249   \n",
            "\n",
            "   batch_size  \n",
            "0          32  \n"
          ]
        }
      ]
    }
  ]
}